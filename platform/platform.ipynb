{
 "cells": [
  {
   "cell_type": "markdown",
   "metadata": {},
   "source": [
    "# Imports\n"
   ]
  },
  {
   "cell_type": "code",
   "execution_count": 1,
   "metadata": {},
   "outputs": [],
   "source": [
    "import pandas as pd\n",
    "import os\n",
    "import numpy as np\n",
    "import matplotlib.pyplot as plt\n",
    "from math import isnan\n",
    "import json\n",
    "import csv\n",
    "import sparql"
   ]
  },
  {
   "cell_type": "markdown",
   "metadata": {},
   "source": [
    "# Query"
   ]
  },
  {
   "cell_type": "code",
   "execution_count": 2,
   "metadata": {},
   "outputs": [
    {
     "output_type": "execute_result",
     "data": {
      "text/plain": [
       "'PREFIX c19:  <http://example.org/ns#>\\nPREFIX c19-measure:  <http://example.org/measure#>\\nPREFIX c19-dimension:  <http://example.org/dimension#> \\nPREFIX wd:  <http://www.wikidata.org/entity/> \\nPREFIX qb: <http://purl.org/linked-data/cube#>\\n\\nSELECT *\\nWHERE {\\n  ?obs qb:dataSet c19:dataset-under-five_mortality_rate .\\n  ?obs c19-dimension:refArea wd:Q148 .\\n  ?obs c19-measure:mortalityRate ?num .\\n}'"
      ]
     },
     "metadata": {},
     "execution_count": 2
    }
   ],
   "source": [
    "q = (\"\"\"PREFIX c19:  <http://example.org/ns#>\n",
    "PREFIX c19-measure:  <http://example.org/measure#>\n",
    "PREFIX c19-dimension:  <http://example.org/dimension#> \n",
    "PREFIX wd:  <http://www.wikidata.org/entity/> \n",
    "PREFIX qb: <http://purl.org/linked-data/cube#>\n",
    "\n",
    "SELECT *\n",
    "WHERE {\n",
    "  ?obs qb:dataSet c19:dataset-under-five_mortality_rate .\n",
    "  ?obs c19-dimension:refArea wd:Q148 .\n",
    "  ?obs c19-measure:mortalityRate ?num .\n",
    "}\"\"\")\n",
    "q"
   ]
  },
  {
   "cell_type": "code",
   "execution_count": null,
   "metadata": {},
   "outputs": [],
   "source": [
    "q = ('SELECT DISTINCT ?station, ?orbits WHERE { '\n",
    "      '?station a <http://dbpedia.org/ontology/SpaceStation> . '\n",
    "      '?station <http://dbpedia.org/property/orbits> ?orbits . '\n",
    "     'FILTER(?orbits > 50000) } ORDER BY DESC(?orbits)')\n",
    "q"
   ]
  },
  {
   "cell_type": "code",
   "execution_count": null,
   "metadata": {},
   "outputs": [],
   "source": [
    "result = sparql.query('http://localhost:3030/ds', q)\n",
    "result"
   ]
  },
  {
   "cell_type": "code",
   "execution_count": null,
   "metadata": {},
   "outputs": [],
   "source": [
    "result.variables"
   ]
  },
  {
   "cell_type": "code",
   "execution_count": null,
   "metadata": {},
   "outputs": [],
   "source": [
    "for row in result:\n",
    "    print('row:', row)\n",
    "    values = sparql.unpack_row(row)\n",
    "    print(values[0], \"-\", values[1], \"orbits\")"
   ]
  },
  {
   "cell_type": "code",
   "execution_count": null,
   "metadata": {},
   "outputs": [],
   "source": []
  },
  {
   "source": [
    "# HTML"
   ],
   "cell_type": "markdown",
   "metadata": {}
  },
  {
   "cell_type": "code",
   "execution_count": 3,
   "metadata": {},
   "outputs": [],
   "source": [
    "from flask import Flask, redirect, url_for, render_template"
   ]
  },
  {
   "cell_type": "code",
   "execution_count": null,
   "metadata": {},
   "outputs": [],
   "source": [
    "app = Flask(__name__)\n",
    "\n",
    "@app.route(\"/\")\n",
    "def home():\n",
    "    return render_template(\"index.html\")\n",
    "\n",
    "#@app.route(\"/admin\")\n",
    "#def admin():\n",
    "#    return redirect(url_for(\"home\"))\n",
    "\n",
    "#@app.route(\"/<name>\")\n",
    "#def user(name):\n",
    "#    return f\"Hello {name}!\"\n",
    "\n",
    "if __name__ == \"__main__\":\n",
    "    app.run()"
   ]
  },
  {
   "cell_type": "code",
   "execution_count": null,
   "metadata": {},
   "outputs": [],
   "source": []
  }
 ],
 "metadata": {
  "kernelspec": {
   "display_name": "Python 3",
   "language": "python",
   "name": "python3"
  },
  "language_info": {
   "codemirror_mode": {
    "name": "ipython",
    "version": 3
   },
   "file_extension": ".py",
   "mimetype": "text/x-python",
   "name": "python",
   "nbconvert_exporter": "python",
   "pygments_lexer": "ipython3",
   "version": "3.7.6-final"
  }
 },
 "nbformat": 4,
 "nbformat_minor": 4
}