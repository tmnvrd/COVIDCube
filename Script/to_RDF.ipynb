{
 "cells": [
  {
   "cell_type": "markdown",
   "metadata": {},
   "source": [
    "# Imports\n"
   ]
  },
  {
   "cell_type": "code",
   "execution_count": 1,
   "metadata": {},
   "outputs": [],
   "source": [
    "import pandas as pd\n",
    "import os\n",
    "import numpy as np\n",
    "import matplotlib.pyplot as plt\n",
    "from math import isnan\n",
    "import json\n",
    "import csv\n",
    "import random\n"
   ]
  },
  {
   "cell_type": "markdown",
   "metadata": {},
   "source": [
    "# Function"
   ]
  },
  {
   "cell_type": "code",
   "execution_count": 2,
   "metadata": {},
   "outputs": [],
   "source": [
    "def to_float(series):\n",
    "    series = series.str.replace(',','.').str.replace('−','-').astype(float)\n",
    "    return series"
   ]
  },
  {
   "cell_type": "code",
   "execution_count": 3,
   "metadata": {
    "scrolled": true
   },
   "outputs": [],
   "source": [
    "def to_float_coma(series):\n",
    "    series =  series.str.replace(',','').astype(float)\n",
    "    return series"
   ]
  },
  {
   "cell_type": "code",
   "execution_count": 4,
   "metadata": {},
   "outputs": [],
   "source": [
    "def to_float_dot(series):\n",
    "    series =  series.str.replace('.','').astype(float)\n",
    "    return series"
   ]
  },
  {
   "cell_type": "code",
   "execution_count": 5,
   "metadata": {},
   "outputs": [],
   "source": [
    "def line_prepender(filename, line):\n",
    "    with open(filename, 'r+') as f:\n",
    "        content = f.read()\n",
    "        f.seek(0, 0)\n",
    "        f.write(line.rstrip('\\r\\n') + '\\n' + content)"
   ]
  },
  {
   "cell_type": "code",
   "execution_count": 6,
   "metadata": {},
   "outputs": [],
   "source": [
    "def add_list(filename, lines):\n",
    "    lines.reverse()\n",
    "    for i in lines:\n",
    "        line_prepender(filename, i)"
   ]
  },
  {
   "cell_type": "markdown",
   "metadata": {},
   "source": [
    "# Main"
   ]
  },
  {
   "cell_type": "code",
   "execution_count": 7,
   "metadata": {},
   "outputs": [
    {
     "output_type": "stream",
     "name": "stdout",
     "text": [
      "/home/tamara/Documents/U/Memoria/memoria/Script/\n"
     ]
    }
   ],
   "source": [
    "ROOT_DIR = os.getcwd() + '/'\n",
    "print(ROOT_DIR)\n",
    "filename = 'exports_goods_services_growth.tsv'\n",
    "codes = 'country_code.json'\n",
    "wikidata = 'country_wikidata.json'\n",
    "dict_file = 'wikidata_dict.json'\n",
    "del_file = 'eliminate.tsv'\n",
    "path_data = '/home/tamara/Documents/U/Memoria/memoria/Data/COVID-19_non_related/'\n",
    "path_covid = '/home/tamara/Documents/U/Memoria/memoria/Data/COVID-19_related/'\n",
    "path_clean_related = '/home/tamara/Documents/U/Memoria/memoria/Data/Clean_related/'\n",
    "path_clean_non_related = '/home/tamara/Documents/U/Memoria/memoria/Data/Clean_non_related/'\n",
    "path_check = '/home/tamara/Documents/U/Memoria/memoria/Data/to_check/'\n",
    "\n",
    "\n",
    "path_tarql = '/home/tamara/Documents/U/Memoria/tarql/examples/'\n",
    "path_tsv = '/home/tamara/Documents/U/Memoria/memoria/RDF/tsv/'\n",
    "path_sparql = '/home/tamara/Documents/U/Memoria/memoria/RDF/sparql/'\n",
    "path_ttl = '/home/tamara/Documents/U/Memoria/memoria/RDF/ttl/'\n",
    "\n"
   ]
  },
  {
   "cell_type": "markdown",
   "metadata": {},
   "source": [
    "## Select 10 random variables"
   ]
  },
  {
   "cell_type": "code",
   "execution_count": 8,
   "metadata": {},
   "outputs": [
    {
     "output_type": "stream",
     "name": "stdout",
     "text": [
      "['terrestrial_protected_areas.tsv', 'total_greenhouse_gas_emissions.tsv', 'fifa_women.tsv', 'antiretroviral_therapy_coverage.tsv', 'goods_services_imports.tsv', 'service_exports_commercial.tsv', 'savings_consumption_fixed_capital.tsv', 'high-technology_exports.tsv', 'consumption_iodized_salt.tsv', 'religion_population.tsv']\n"
     ]
    }
   ],
   "source": [
    "random.seed(4)\n",
    "\n",
    "directories = os.listdir(path_clean_non_related)\n",
    "sampling = random.choices(directories, k=10)\n",
    "print(sampling)"
   ]
  },
  {
   "cell_type": "code",
   "execution_count": 9,
   "metadata": {},
   "outputs": [
    {
     "output_type": "execute_result",
     "data": {
      "text/plain": [
       "                               Country  Population   Christian      Muslim  \\\n",
       "0                               Angola  19,080,000  17,267,400     100.000   \n",
       "1                             Cameroon  19,600,000  13,778,800   7,692.300   \n",
       "2             Central African Republic   4,400,000   3,938,000     862.000   \n",
       "3                                 Chad  11,230,000   4,559,380   9,200.000   \n",
       "4    Congo, Democratic Republic of the  65,970,000  63,199,260  12,492.000   \n",
       "..                                 ...         ...         ...         ...   \n",
       "207                              Samoa         180      174,24         300   \n",
       "208                            Tokelau         1,4       1,397           0   \n",
       "209                              Tonga         100          99         120   \n",
       "210                             Tuvalu          11        10,8         200   \n",
       "211                  Wallis and Futuna          13      12,662           0   \n",
       "\n",
       "    Irreligion Hindu Buddhist Folk religion Other religion Jewish      ID  \n",
       "0       973,08     0        0        801,36              0      0    Q916  \n",
       "1    1,038,800     0        0         646,8          529,2      0   Q1009  \n",
       "2           44     0        0            44              0      0    Q929  \n",
       "3       280,75     0        0        157,22          11,23      0    Q657  \n",
       "4    1,187,460    30        0        461,79          65,97      0    Q974  \n",
       "..         ...   ...      ...           ...            ...    ...     ...  \n",
       "207        4,5     0        0             0            720      0    Q683  \n",
       "208          0     0        0             0              3      0  Q36823  \n",
       "209          0   100        0             0            900      0    Q678  \n",
       "210          0     0        0             0              0      0    Q672  \n",
       "211         78     0        0           156            104      0  Q35555  \n",
       "\n",
       "[212 rows x 11 columns]"
      ],
      "text/html": "<div>\n<style scoped>\n    .dataframe tbody tr th:only-of-type {\n        vertical-align: middle;\n    }\n\n    .dataframe tbody tr th {\n        vertical-align: top;\n    }\n\n    .dataframe thead th {\n        text-align: right;\n    }\n</style>\n<table border=\"1\" class=\"dataframe\">\n  <thead>\n    <tr style=\"text-align: right;\">\n      <th></th>\n      <th>Country</th>\n      <th>Population</th>\n      <th>Christian</th>\n      <th>Muslim</th>\n      <th>Irreligion</th>\n      <th>Hindu</th>\n      <th>Buddhist</th>\n      <th>Folk religion</th>\n      <th>Other religion</th>\n      <th>Jewish</th>\n      <th>ID</th>\n    </tr>\n  </thead>\n  <tbody>\n    <tr>\n      <th>0</th>\n      <td>Angola</td>\n      <td>19,080,000</td>\n      <td>17,267,400</td>\n      <td>100.000</td>\n      <td>973,08</td>\n      <td>0</td>\n      <td>0</td>\n      <td>801,36</td>\n      <td>0</td>\n      <td>0</td>\n      <td>Q916</td>\n    </tr>\n    <tr>\n      <th>1</th>\n      <td>Cameroon</td>\n      <td>19,600,000</td>\n      <td>13,778,800</td>\n      <td>7,692.300</td>\n      <td>1,038,800</td>\n      <td>0</td>\n      <td>0</td>\n      <td>646,8</td>\n      <td>529,2</td>\n      <td>0</td>\n      <td>Q1009</td>\n    </tr>\n    <tr>\n      <th>2</th>\n      <td>Central African Republic</td>\n      <td>4,400,000</td>\n      <td>3,938,000</td>\n      <td>862.000</td>\n      <td>44</td>\n      <td>0</td>\n      <td>0</td>\n      <td>44</td>\n      <td>0</td>\n      <td>0</td>\n      <td>Q929</td>\n    </tr>\n    <tr>\n      <th>3</th>\n      <td>Chad</td>\n      <td>11,230,000</td>\n      <td>4,559,380</td>\n      <td>9,200.000</td>\n      <td>280,75</td>\n      <td>0</td>\n      <td>0</td>\n      <td>157,22</td>\n      <td>11,23</td>\n      <td>0</td>\n      <td>Q657</td>\n    </tr>\n    <tr>\n      <th>4</th>\n      <td>Congo, Democratic Republic of the</td>\n      <td>65,970,000</td>\n      <td>63,199,260</td>\n      <td>12,492.000</td>\n      <td>1,187,460</td>\n      <td>30</td>\n      <td>0</td>\n      <td>461,79</td>\n      <td>65,97</td>\n      <td>0</td>\n      <td>Q974</td>\n    </tr>\n    <tr>\n      <th>...</th>\n      <td>...</td>\n      <td>...</td>\n      <td>...</td>\n      <td>...</td>\n      <td>...</td>\n      <td>...</td>\n      <td>...</td>\n      <td>...</td>\n      <td>...</td>\n      <td>...</td>\n      <td>...</td>\n    </tr>\n    <tr>\n      <th>207</th>\n      <td>Samoa</td>\n      <td>180</td>\n      <td>174,24</td>\n      <td>300</td>\n      <td>4,5</td>\n      <td>0</td>\n      <td>0</td>\n      <td>0</td>\n      <td>720</td>\n      <td>0</td>\n      <td>Q683</td>\n    </tr>\n    <tr>\n      <th>208</th>\n      <td>Tokelau</td>\n      <td>1,4</td>\n      <td>1,397</td>\n      <td>0</td>\n      <td>0</td>\n      <td>0</td>\n      <td>0</td>\n      <td>0</td>\n      <td>3</td>\n      <td>0</td>\n      <td>Q36823</td>\n    </tr>\n    <tr>\n      <th>209</th>\n      <td>Tonga</td>\n      <td>100</td>\n      <td>99</td>\n      <td>120</td>\n      <td>0</td>\n      <td>100</td>\n      <td>0</td>\n      <td>0</td>\n      <td>900</td>\n      <td>0</td>\n      <td>Q678</td>\n    </tr>\n    <tr>\n      <th>210</th>\n      <td>Tuvalu</td>\n      <td>11</td>\n      <td>10,8</td>\n      <td>200</td>\n      <td>0</td>\n      <td>0</td>\n      <td>0</td>\n      <td>0</td>\n      <td>0</td>\n      <td>0</td>\n      <td>Q672</td>\n    </tr>\n    <tr>\n      <th>211</th>\n      <td>Wallis and Futuna</td>\n      <td>13</td>\n      <td>12,662</td>\n      <td>0</td>\n      <td>78</td>\n      <td>0</td>\n      <td>0</td>\n      <td>156</td>\n      <td>104</td>\n      <td>0</td>\n      <td>Q35555</td>\n    </tr>\n  </tbody>\n</table>\n<p>212 rows × 11 columns</p>\n</div>"
     },
     "metadata": {},
     "execution_count": 9
    }
   ],
   "source": [
    "df = pd.read_csv(path_clean_non_related + sampling[9], sep='\\t')\n",
    "df"
   ]
  },
  {
   "cell_type": "code",
   "execution_count": null,
   "metadata": {},
   "outputs": [],
   "source": []
  },
  {
   "cell_type": "markdown",
   "metadata": {},
   "source": [
    "# INFO DATASET, ROWS (tsv to ttl)\n"
   ]
  },
  {
   "cell_type": "code",
   "execution_count": 10,
   "metadata": {},
   "outputs": [
    {
     "output_type": "execute_result",
     "data": {
      "text/plain": [
       "                                              Variable  \\\n",
       "0                                           Population   \n",
       "1                                         Surface area   \n",
       "2                                   Population density   \n",
       "3                                Gross national income   \n",
       "4        Purchasing power parity gross national income   \n",
       "..                                                 ...   \n",
       "519  Number of deaths by risk factor: Diet low in s...   \n",
       "520                                Latitude, Longitude   \n",
       "521                  Precipitation, Mean Monthly Value   \n",
       "522                       Average temperature, monthly   \n",
       "523                                  Sunshine duration   \n",
       "\n",
       "                                 Key name  \\\n",
       "0                              population   \n",
       "1                            surface_area   \n",
       "2                      population_density   \n",
       "3                   gross_national_income   \n",
       "4             purchasing_power_parity_GNI   \n",
       "..                                    ...   \n",
       "519  deaths_risk_factor_diet_low_seafood    \n",
       "520                    latitude_longitude   \n",
       "521                 precipitation_monthly   \n",
       "522                   temperature_monthly   \n",
       "523                     sunshine_duration   \n",
       "\n",
       "                                                Header  \\\n",
       "0                                  Country, Population   \n",
       "1                                Country, Surface area   \n",
       "2                          Country, Population density   \n",
       "3             Country, GNI $ billons, GNI $ per capita   \n",
       "4                    Country, $ billions, $ per capita   \n",
       "..                                                 ...   \n",
       "519                                    Country, Deaths   \n",
       "520                       Country, Latitude, Longitude   \n",
       "521  Country or Territory, Station Name, Period, Ja...   \n",
       "522  Country, City, Jan, Feb, Mar, Apr, May, Jun, J...   \n",
       "523  Country, City, Jan, Feb, Mar, Apr, May, Jun, J...   \n",
       "\n",
       "          Unit of measurement            Year Date of access  \\\n",
       "0                    millions            2019     22/09/2020   \n",
       "1            sq. km thousands            2019     22/09/2020   \n",
       "2           people per sq. km            2019     22/09/2020   \n",
       "3    $ billions, $ per capita            2019     22/09/2020   \n",
       "4    $ billions, $ per capita            2019     22/09/2020   \n",
       "..                        ...             ...            ...   \n",
       "519                        n°            2017     19/10/2020   \n",
       "520                         °             NaN     20/10/2020   \n",
       "521                        mm  Reference Year     20/10/2020   \n",
       "522                        °C             NaN     20/10/2020   \n",
       "523                     hours             NaN     20/10/2020   \n",
       "\n",
       "                 Owner                                            Comment  \n",
       "0       The World Bank                         WV.1 | Size of the economy  \n",
       "1       The World Bank                         WV.1 | Size of the economy  \n",
       "2       The World Bank                         WV.1 | Size of the economy  \n",
       "3       The World Bank                         WV.1 | Size of the economy  \n",
       "4       The World Bank                         WV.1 | Size of the economy  \n",
       "..                 ...                                                ...  \n",
       "519  Our World in Data  https://ourworldindata.org/grapher/number-of-d...  \n",
       "520             Google  https://developers.google.com/public-data/docs...  \n",
       "521             UnData  http://data.un.org/Data.aspx?d=CLINO&f=Element...  \n",
       "522          Wikipedia  https://en.wikipedia.org/wiki/List_of_cities_b...  \n",
       "523          Wikipedia  https://en.wikipedia.org/wiki/List_of_cities_b...  \n",
       "\n",
       "[524 rows x 8 columns]"
      ],
      "text/html": "<div>\n<style scoped>\n    .dataframe tbody tr th:only-of-type {\n        vertical-align: middle;\n    }\n\n    .dataframe tbody tr th {\n        vertical-align: top;\n    }\n\n    .dataframe thead th {\n        text-align: right;\n    }\n</style>\n<table border=\"1\" class=\"dataframe\">\n  <thead>\n    <tr style=\"text-align: right;\">\n      <th></th>\n      <th>Variable</th>\n      <th>Key name</th>\n      <th>Header</th>\n      <th>Unit of measurement</th>\n      <th>Year</th>\n      <th>Date of access</th>\n      <th>Owner</th>\n      <th>Comment</th>\n    </tr>\n  </thead>\n  <tbody>\n    <tr>\n      <th>0</th>\n      <td>Population</td>\n      <td>population</td>\n      <td>Country, Population</td>\n      <td>millions</td>\n      <td>2019</td>\n      <td>22/09/2020</td>\n      <td>The World Bank</td>\n      <td>WV.1 | Size of the economy</td>\n    </tr>\n    <tr>\n      <th>1</th>\n      <td>Surface area</td>\n      <td>surface_area</td>\n      <td>Country, Surface area</td>\n      <td>sq. km thousands</td>\n      <td>2019</td>\n      <td>22/09/2020</td>\n      <td>The World Bank</td>\n      <td>WV.1 | Size of the economy</td>\n    </tr>\n    <tr>\n      <th>2</th>\n      <td>Population density</td>\n      <td>population_density</td>\n      <td>Country, Population density</td>\n      <td>people per sq. km</td>\n      <td>2019</td>\n      <td>22/09/2020</td>\n      <td>The World Bank</td>\n      <td>WV.1 | Size of the economy</td>\n    </tr>\n    <tr>\n      <th>3</th>\n      <td>Gross national income</td>\n      <td>gross_national_income</td>\n      <td>Country, GNI $ billons, GNI $ per capita</td>\n      <td>$ billions, $ per capita</td>\n      <td>2019</td>\n      <td>22/09/2020</td>\n      <td>The World Bank</td>\n      <td>WV.1 | Size of the economy</td>\n    </tr>\n    <tr>\n      <th>4</th>\n      <td>Purchasing power parity gross national income</td>\n      <td>purchasing_power_parity_GNI</td>\n      <td>Country, $ billions, $ per capita</td>\n      <td>$ billions, $ per capita</td>\n      <td>2019</td>\n      <td>22/09/2020</td>\n      <td>The World Bank</td>\n      <td>WV.1 | Size of the economy</td>\n    </tr>\n    <tr>\n      <th>...</th>\n      <td>...</td>\n      <td>...</td>\n      <td>...</td>\n      <td>...</td>\n      <td>...</td>\n      <td>...</td>\n      <td>...</td>\n      <td>...</td>\n    </tr>\n    <tr>\n      <th>519</th>\n      <td>Number of deaths by risk factor: Diet low in s...</td>\n      <td>deaths_risk_factor_diet_low_seafood</td>\n      <td>Country, Deaths</td>\n      <td>n°</td>\n      <td>2017</td>\n      <td>19/10/2020</td>\n      <td>Our World in Data</td>\n      <td>https://ourworldindata.org/grapher/number-of-d...</td>\n    </tr>\n    <tr>\n      <th>520</th>\n      <td>Latitude, Longitude</td>\n      <td>latitude_longitude</td>\n      <td>Country, Latitude, Longitude</td>\n      <td>°</td>\n      <td>NaN</td>\n      <td>20/10/2020</td>\n      <td>Google</td>\n      <td>https://developers.google.com/public-data/docs...</td>\n    </tr>\n    <tr>\n      <th>521</th>\n      <td>Precipitation, Mean Monthly Value</td>\n      <td>precipitation_monthly</td>\n      <td>Country or Territory, Station Name, Period, Ja...</td>\n      <td>mm</td>\n      <td>Reference Year</td>\n      <td>20/10/2020</td>\n      <td>UnData</td>\n      <td>http://data.un.org/Data.aspx?d=CLINO&amp;f=Element...</td>\n    </tr>\n    <tr>\n      <th>522</th>\n      <td>Average temperature, monthly</td>\n      <td>temperature_monthly</td>\n      <td>Country, City, Jan, Feb, Mar, Apr, May, Jun, J...</td>\n      <td>°C</td>\n      <td>NaN</td>\n      <td>20/10/2020</td>\n      <td>Wikipedia</td>\n      <td>https://en.wikipedia.org/wiki/List_of_cities_b...</td>\n    </tr>\n    <tr>\n      <th>523</th>\n      <td>Sunshine duration</td>\n      <td>sunshine_duration</td>\n      <td>Country, City, Jan, Feb, Mar, Apr, May, Jun, J...</td>\n      <td>hours</td>\n      <td>NaN</td>\n      <td>20/10/2020</td>\n      <td>Wikipedia</td>\n      <td>https://en.wikipedia.org/wiki/List_of_cities_b...</td>\n    </tr>\n  </tbody>\n</table>\n<p>524 rows × 8 columns</p>\n</div>"
     },
     "metadata": {},
     "execution_count": 10
    }
   ],
   "source": [
    "df_dataset = pd.read_csv(path_tarql + 'all_non-related.tsv', sep='\\t')\n",
    "df_dataset"
   ]
  },
  {
   "cell_type": "code",
   "execution_count": 9,
   "metadata": {},
   "outputs": [
    {
     "output_type": "execute_result",
     "data": {
      "text/plain": [
       "0        urban_population_slums\n",
       "1            PM25_air_pollution\n",
       "2          adjusted_net_savings\n",
       "3      carbon_dioxide_emissions\n",
       "4    nationally_protected_areas\n",
       "5         intentional_homicides\n",
       "6         life_expectancy_birth\n",
       "7           women_first_married\n",
       "8             account_ownership\n",
       "9           wage_salary_workers\n",
       "Name: Key name, dtype: object"
      ]
     },
     "metadata": {},
     "execution_count": 9
    }
   ],
   "source": [
    "#Hechos: :10, :20\n",
    "sample = df_dataset['Key name'][20:30].reset_index(drop=True)\n",
    "sample"
   ]
  },
  {
   "cell_type": "markdown",
   "metadata": {},
   "source": [
    "# Clean column name and add id_row\n",
    "\n"
   ]
  },
  {
   "cell_type": "code",
   "execution_count": 10,
   "metadata": {},
   "outputs": [
    {
     "output_type": "execute_result",
     "data": {
      "text/plain": [
       "'ARI_treatment_quintile'"
      ]
     },
     "metadata": {},
     "execution_count": 10
    }
   ],
   "source": [
    "file = 'ARI_treatment_quintile'\n",
    "file"
   ]
  },
  {
   "cell_type": "code",
   "execution_count": 12,
   "metadata": {},
   "outputs": [
    {
     "output_type": "execute_result",
     "data": {
      "text/plain": [
       "               Country  Surveyyear  Poorestquintile  Richestquintile       ID  \\\n",
       "0          Afghanistan        2015             53.0             70.0     Q889   \n",
       "1              Albania        2018             52.0             49.0     Q222   \n",
       "2              Algeria        2013             60.0             73.0     Q262   \n",
       "3               Angola        2016             25.0             78.0     Q916   \n",
       "4            Argentina        2012             92.0             96.0     Q414   \n",
       "..                 ...         ...              ...              ...      ...   \n",
       "71              Uganda        2016             80.0             86.0    Q1036   \n",
       "72  West Bank and Gaza        2014             78.0             82.0  Q407199   \n",
       "73         Yemen, Rep.        2013             31.0             42.0     Q805   \n",
       "74              Zambia        2014             67.0             80.0     Q953   \n",
       "75            Zimbabwe        2015             43.0             70.0     Q954   \n",
       "\n",
       "    id_row  \n",
       "0        0  \n",
       "1        1  \n",
       "2        2  \n",
       "3        3  \n",
       "4        4  \n",
       "..     ...  \n",
       "71      71  \n",
       "72      72  \n",
       "73      73  \n",
       "74      74  \n",
       "75      75  \n",
       "\n",
       "[76 rows x 6 columns]"
      ],
      "text/html": "<div>\n<style scoped>\n    .dataframe tbody tr th:only-of-type {\n        vertical-align: middle;\n    }\n\n    .dataframe tbody tr th {\n        vertical-align: top;\n    }\n\n    .dataframe thead th {\n        text-align: right;\n    }\n</style>\n<table border=\"1\" class=\"dataframe\">\n  <thead>\n    <tr style=\"text-align: right;\">\n      <th></th>\n      <th>Country</th>\n      <th>Surveyyear</th>\n      <th>Poorestquintile</th>\n      <th>Richestquintile</th>\n      <th>ID</th>\n      <th>id_row</th>\n    </tr>\n  </thead>\n  <tbody>\n    <tr>\n      <th>0</th>\n      <td>Afghanistan</td>\n      <td>2015</td>\n      <td>53.0</td>\n      <td>70.0</td>\n      <td>Q889</td>\n      <td>0</td>\n    </tr>\n    <tr>\n      <th>1</th>\n      <td>Albania</td>\n      <td>2018</td>\n      <td>52.0</td>\n      <td>49.0</td>\n      <td>Q222</td>\n      <td>1</td>\n    </tr>\n    <tr>\n      <th>2</th>\n      <td>Algeria</td>\n      <td>2013</td>\n      <td>60.0</td>\n      <td>73.0</td>\n      <td>Q262</td>\n      <td>2</td>\n    </tr>\n    <tr>\n      <th>3</th>\n      <td>Angola</td>\n      <td>2016</td>\n      <td>25.0</td>\n      <td>78.0</td>\n      <td>Q916</td>\n      <td>3</td>\n    </tr>\n    <tr>\n      <th>4</th>\n      <td>Argentina</td>\n      <td>2012</td>\n      <td>92.0</td>\n      <td>96.0</td>\n      <td>Q414</td>\n      <td>4</td>\n    </tr>\n    <tr>\n      <th>...</th>\n      <td>...</td>\n      <td>...</td>\n      <td>...</td>\n      <td>...</td>\n      <td>...</td>\n      <td>...</td>\n    </tr>\n    <tr>\n      <th>71</th>\n      <td>Uganda</td>\n      <td>2016</td>\n      <td>80.0</td>\n      <td>86.0</td>\n      <td>Q1036</td>\n      <td>71</td>\n    </tr>\n    <tr>\n      <th>72</th>\n      <td>West Bank and Gaza</td>\n      <td>2014</td>\n      <td>78.0</td>\n      <td>82.0</td>\n      <td>Q407199</td>\n      <td>72</td>\n    </tr>\n    <tr>\n      <th>73</th>\n      <td>Yemen, Rep.</td>\n      <td>2013</td>\n      <td>31.0</td>\n      <td>42.0</td>\n      <td>Q805</td>\n      <td>73</td>\n    </tr>\n    <tr>\n      <th>74</th>\n      <td>Zambia</td>\n      <td>2014</td>\n      <td>67.0</td>\n      <td>80.0</td>\n      <td>Q953</td>\n      <td>74</td>\n    </tr>\n    <tr>\n      <th>75</th>\n      <td>Zimbabwe</td>\n      <td>2015</td>\n      <td>43.0</td>\n      <td>70.0</td>\n      <td>Q954</td>\n      <td>75</td>\n    </tr>\n  </tbody>\n</table>\n<p>76 rows × 6 columns</p>\n</div>"
     },
     "metadata": {},
     "execution_count": 12
    }
   ],
   "source": [
    "df = pd.read_csv(path_tsv + file + '.tsv', sep='\\t')\n",
    "df"
   ]
  },
  {
   "cell_type": "code",
   "execution_count": 616,
   "metadata": {},
   "outputs": [
    {
     "data": {
      "text/html": [
       "<div>\n",
       "<style scoped>\n",
       "    .dataframe tbody tr th:only-of-type {\n",
       "        vertical-align: middle;\n",
       "    }\n",
       "\n",
       "    .dataframe tbody tr th {\n",
       "        vertical-align: top;\n",
       "    }\n",
       "\n",
       "    .dataframe thead th {\n",
       "        text-align: right;\n",
       "    }\n",
       "</style>\n",
       "<table border=\"1\" class=\"dataframe\">\n",
       "  <thead>\n",
       "    <tr style=\"text-align: right;\">\n",
       "      <th></th>\n",
       "      <th>Country</th>\n",
       "      <th>Male</th>\n",
       "      <th>Female</th>\n",
       "      <th>ID</th>\n",
       "    </tr>\n",
       "  </thead>\n",
       "  <tbody>\n",
       "    <tr>\n",
       "      <th>0</th>\n",
       "      <td>Afghanistan</td>\n",
       "      <td>20.2</td>\n",
       "      <td>7.7</td>\n",
       "      <td>Q889</td>\n",
       "    </tr>\n",
       "    <tr>\n",
       "      <th>1</th>\n",
       "      <td>Albania</td>\n",
       "      <td>42.6</td>\n",
       "      <td>45.3</td>\n",
       "      <td>Q222</td>\n",
       "    </tr>\n",
       "    <tr>\n",
       "      <th>2</th>\n",
       "      <td>Algeria</td>\n",
       "      <td>67.2</td>\n",
       "      <td>74.6</td>\n",
       "      <td>Q262</td>\n",
       "    </tr>\n",
       "    <tr>\n",
       "      <th>3</th>\n",
       "      <td>Angola</td>\n",
       "      <td>41.5</td>\n",
       "      <td>17.6</td>\n",
       "      <td>Q916</td>\n",
       "    </tr>\n",
       "    <tr>\n",
       "      <th>4</th>\n",
       "      <td>Argentina</td>\n",
       "      <td>72.3</td>\n",
       "      <td>77.4</td>\n",
       "      <td>Q414</td>\n",
       "    </tr>\n",
       "    <tr>\n",
       "      <th>...</th>\n",
       "      <td>...</td>\n",
       "      <td>...</td>\n",
       "      <td>...</td>\n",
       "      <td>...</td>\n",
       "    </tr>\n",
       "    <tr>\n",
       "      <th>182</th>\n",
       "      <td>Virgin Islands (U.S.)</td>\n",
       "      <td>83.2</td>\n",
       "      <td>91.2</td>\n",
       "      <td>Q11703</td>\n",
       "    </tr>\n",
       "    <tr>\n",
       "      <th>183</th>\n",
       "      <td>West Bank and Gaza</td>\n",
       "      <td>68.7</td>\n",
       "      <td>75.5</td>\n",
       "      <td>Q407199</td>\n",
       "    </tr>\n",
       "    <tr>\n",
       "      <th>184</th>\n",
       "      <td>Yemen, Rep.</td>\n",
       "      <td>48.5</td>\n",
       "      <td>30.3</td>\n",
       "      <td>Q805</td>\n",
       "    </tr>\n",
       "    <tr>\n",
       "      <th>185</th>\n",
       "      <td>Zambia</td>\n",
       "      <td>30.5</td>\n",
       "      <td>11.7</td>\n",
       "      <td>Q953</td>\n",
       "    </tr>\n",
       "    <tr>\n",
       "      <th>186</th>\n",
       "      <td>Zimbabwe</td>\n",
       "      <td>44.8</td>\n",
       "      <td>25.3</td>\n",
       "      <td>Q954</td>\n",
       "    </tr>\n",
       "  </tbody>\n",
       "</table>\n",
       "<p>187 rows × 4 columns</p>\n",
       "</div>"
      ],
      "text/plain": [
       "                   Country  Male  Female       ID\n",
       "0              Afghanistan  20.2     7.7     Q889\n",
       "1                  Albania  42.6    45.3     Q222\n",
       "2                  Algeria  67.2    74.6     Q262\n",
       "3                   Angola  41.5    17.6     Q916\n",
       "4                Argentina  72.3    77.4     Q414\n",
       "..                     ...   ...     ...      ...\n",
       "182  Virgin Islands (U.S.)  83.2    91.2   Q11703\n",
       "183     West Bank and Gaza  68.7    75.5  Q407199\n",
       "184            Yemen, Rep.  48.5    30.3     Q805\n",
       "185                 Zambia  30.5    11.7     Q953\n",
       "186               Zimbabwe  44.8    25.3     Q954\n",
       "\n",
       "[187 rows x 4 columns]"
      ]
     },
     "execution_count": 616,
     "metadata": {},
     "output_type": "execute_result"
    }
   ],
   "source": [
    "#rename columns (in case of non alphabetic or digit character)\n",
    "for name in df.columns:\n",
    "    clean_name = ''.join(x for x in name if (x.isalpha() or x.isdigit()) or x=='_')\n",
    "    if clean_name != name:\n",
    "        print(name, clean_name)\n",
    "        df.rename(columns = {name:clean_name}, inplace = True)\n",
    "df"
   ]
  },
  {
   "cell_type": "code",
   "execution_count": 617,
   "metadata": {
    "scrolled": true
   },
   "outputs": [
    {
     "data": {
      "text/html": [
       "<div>\n",
       "<style scoped>\n",
       "    .dataframe tbody tr th:only-of-type {\n",
       "        vertical-align: middle;\n",
       "    }\n",
       "\n",
       "    .dataframe tbody tr th {\n",
       "        vertical-align: top;\n",
       "    }\n",
       "\n",
       "    .dataframe thead th {\n",
       "        text-align: right;\n",
       "    }\n",
       "</style>\n",
       "<table border=\"1\" class=\"dataframe\">\n",
       "  <thead>\n",
       "    <tr style=\"text-align: right;\">\n",
       "      <th></th>\n",
       "      <th>Country</th>\n",
       "      <th>Male</th>\n",
       "      <th>Female</th>\n",
       "      <th>ID</th>\n",
       "      <th>id_row</th>\n",
       "    </tr>\n",
       "  </thead>\n",
       "  <tbody>\n",
       "    <tr>\n",
       "      <th>0</th>\n",
       "      <td>Afghanistan</td>\n",
       "      <td>20.2</td>\n",
       "      <td>7.7</td>\n",
       "      <td>Q889</td>\n",
       "      <td>0</td>\n",
       "    </tr>\n",
       "    <tr>\n",
       "      <th>1</th>\n",
       "      <td>Albania</td>\n",
       "      <td>42.6</td>\n",
       "      <td>45.3</td>\n",
       "      <td>Q222</td>\n",
       "      <td>1</td>\n",
       "    </tr>\n",
       "    <tr>\n",
       "      <th>2</th>\n",
       "      <td>Algeria</td>\n",
       "      <td>67.2</td>\n",
       "      <td>74.6</td>\n",
       "      <td>Q262</td>\n",
       "      <td>2</td>\n",
       "    </tr>\n",
       "    <tr>\n",
       "      <th>3</th>\n",
       "      <td>Angola</td>\n",
       "      <td>41.5</td>\n",
       "      <td>17.6</td>\n",
       "      <td>Q916</td>\n",
       "      <td>3</td>\n",
       "    </tr>\n",
       "    <tr>\n",
       "      <th>4</th>\n",
       "      <td>Argentina</td>\n",
       "      <td>72.3</td>\n",
       "      <td>77.4</td>\n",
       "      <td>Q414</td>\n",
       "      <td>4</td>\n",
       "    </tr>\n",
       "    <tr>\n",
       "      <th>...</th>\n",
       "      <td>...</td>\n",
       "      <td>...</td>\n",
       "      <td>...</td>\n",
       "      <td>...</td>\n",
       "      <td>...</td>\n",
       "    </tr>\n",
       "    <tr>\n",
       "      <th>182</th>\n",
       "      <td>Virgin Islands (U.S.)</td>\n",
       "      <td>83.2</td>\n",
       "      <td>91.2</td>\n",
       "      <td>Q11703</td>\n",
       "      <td>182</td>\n",
       "    </tr>\n",
       "    <tr>\n",
       "      <th>183</th>\n",
       "      <td>West Bank and Gaza</td>\n",
       "      <td>68.7</td>\n",
       "      <td>75.5</td>\n",
       "      <td>Q407199</td>\n",
       "      <td>183</td>\n",
       "    </tr>\n",
       "    <tr>\n",
       "      <th>184</th>\n",
       "      <td>Yemen, Rep.</td>\n",
       "      <td>48.5</td>\n",
       "      <td>30.3</td>\n",
       "      <td>Q805</td>\n",
       "      <td>184</td>\n",
       "    </tr>\n",
       "    <tr>\n",
       "      <th>185</th>\n",
       "      <td>Zambia</td>\n",
       "      <td>30.5</td>\n",
       "      <td>11.7</td>\n",
       "      <td>Q953</td>\n",
       "      <td>185</td>\n",
       "    </tr>\n",
       "    <tr>\n",
       "      <th>186</th>\n",
       "      <td>Zimbabwe</td>\n",
       "      <td>44.8</td>\n",
       "      <td>25.3</td>\n",
       "      <td>Q954</td>\n",
       "      <td>186</td>\n",
       "    </tr>\n",
       "  </tbody>\n",
       "</table>\n",
       "<p>187 rows × 5 columns</p>\n",
       "</div>"
      ],
      "text/plain": [
       "                   Country  Male  Female       ID  id_row\n",
       "0              Afghanistan  20.2     7.7     Q889       0\n",
       "1                  Albania  42.6    45.3     Q222       1\n",
       "2                  Algeria  67.2    74.6     Q262       2\n",
       "3                   Angola  41.5    17.6     Q916       3\n",
       "4                Argentina  72.3    77.4     Q414       4\n",
       "..                     ...   ...     ...      ...     ...\n",
       "182  Virgin Islands (U.S.)  83.2    91.2   Q11703     182\n",
       "183     West Bank and Gaza  68.7    75.5  Q407199     183\n",
       "184            Yemen, Rep.  48.5    30.3     Q805     184\n",
       "185                 Zambia  30.5    11.7     Q953     185\n",
       "186               Zimbabwe  44.8    25.3     Q954     186\n",
       "\n",
       "[187 rows x 5 columns]"
      ]
     },
     "execution_count": 617,
     "metadata": {},
     "output_type": "execute_result"
    }
   ],
   "source": [
    "# add id_row\n",
    "df['id_row'] = np.array(range(df.shape[0]))\n",
    "df"
   ]
  },
  {
   "cell_type": "markdown",
   "metadata": {},
   "source": [
    "# Check if data is numeric"
   ]
  },
  {
   "cell_type": "code",
   "execution_count": 622,
   "metadata": {},
   "outputs": [
    {
     "data": {
      "text/plain": [
       "'Female'"
      ]
     },
     "execution_count": 622,
     "metadata": {},
     "output_type": "execute_result"
    }
   ],
   "source": [
    "cols = df.columns\n",
    "i= 1\n",
    "cols[i]"
   ]
  },
  {
   "cell_type": "code",
   "execution_count": 623,
   "metadata": {},
   "outputs": [
    {
     "name": "stdout",
     "output_type": "stream",
     "text": [
      "Country    Mexico\n",
      "Male         68.5\n",
      "Female       68.1\n",
      "ID            Q96\n",
      "id_row        110\n",
      "Name: 110, dtype: object\n"
     ]
    },
    {
     "data": {
      "text/html": [
       "<div>\n",
       "<style scoped>\n",
       "    .dataframe tbody tr th:only-of-type {\n",
       "        vertical-align: middle;\n",
       "    }\n",
       "\n",
       "    .dataframe tbody tr th {\n",
       "        vertical-align: top;\n",
       "    }\n",
       "\n",
       "    .dataframe thead th {\n",
       "        text-align: right;\n",
       "    }\n",
       "</style>\n",
       "<table border=\"1\" class=\"dataframe\">\n",
       "  <thead>\n",
       "    <tr style=\"text-align: right;\">\n",
       "      <th></th>\n",
       "      <th>Country</th>\n",
       "      <th>Male</th>\n",
       "      <th>Female</th>\n",
       "      <th>ID</th>\n",
       "      <th>id_row</th>\n",
       "    </tr>\n",
       "  </thead>\n",
       "  <tbody>\n",
       "    <tr>\n",
       "      <th>110</th>\n",
       "      <td>Mexico</td>\n",
       "      <td>68.5</td>\n",
       "      <td>68.1</td>\n",
       "      <td>Q96</td>\n",
       "      <td>110</td>\n",
       "    </tr>\n",
       "  </tbody>\n",
       "</table>\n",
       "</div>"
      ],
      "text/plain": [
       "    Country  Male  Female   ID  id_row\n",
       "110  Mexico  68.5    68.1  Q96     110"
      ]
     },
     "execution_count": 623,
     "metadata": {},
     "output_type": "execute_result"
    }
   ],
   "source": [
    "row = df[df['ID']=='Q96']\n",
    "#Q148 China\n",
    "#Q298 Chile\n",
    "#Q884 South Korea\n",
    "#Q142 France\n",
    "#Q96 Mxico\n",
    "print(row.iloc[0])\n",
    "row"
   ]
  },
  {
   "cell_type": "code",
   "execution_count": 624,
   "metadata": {},
   "outputs": [
    {
     "data": {
      "text/plain": [
       "numpy.float64"
      ]
     },
     "execution_count": 624,
     "metadata": {},
     "output_type": "execute_result"
    }
   ],
   "source": [
    "type(row[cols[i]].iloc[0])"
   ]
  },
  {
   "cell_type": "code",
   "execution_count": 625,
   "metadata": {},
   "outputs": [],
   "source": [
    "if type(df[cols[i]].iloc[0]) == str:\n",
    "    df[cols[i]] = to_float(df[cols[i]])\n",
    "\n",
    "if type(df[cols[i]].iloc[0]) == np.int64:\n",
    "    df[cols[i]] = df[cols[i]].astype(float)"
   ]
  },
  {
   "cell_type": "code",
   "execution_count": 626,
   "metadata": {},
   "outputs": [
    {
     "data": {
      "text/html": [
       "<div>\n",
       "<style scoped>\n",
       "    .dataframe tbody tr th:only-of-type {\n",
       "        vertical-align: middle;\n",
       "    }\n",
       "\n",
       "    .dataframe tbody tr th {\n",
       "        vertical-align: top;\n",
       "    }\n",
       "\n",
       "    .dataframe thead th {\n",
       "        text-align: right;\n",
       "    }\n",
       "</style>\n",
       "<table border=\"1\" class=\"dataframe\">\n",
       "  <thead>\n",
       "    <tr style=\"text-align: right;\">\n",
       "      <th></th>\n",
       "      <th>Country</th>\n",
       "      <th>Male</th>\n",
       "      <th>Female</th>\n",
       "      <th>ID</th>\n",
       "      <th>id_row</th>\n",
       "    </tr>\n",
       "  </thead>\n",
       "  <tbody>\n",
       "    <tr>\n",
       "      <th>0</th>\n",
       "      <td>Afghanistan</td>\n",
       "      <td>20.2</td>\n",
       "      <td>7.7</td>\n",
       "      <td>Q889</td>\n",
       "      <td>0</td>\n",
       "    </tr>\n",
       "    <tr>\n",
       "      <th>1</th>\n",
       "      <td>Albania</td>\n",
       "      <td>42.6</td>\n",
       "      <td>45.3</td>\n",
       "      <td>Q222</td>\n",
       "      <td>1</td>\n",
       "    </tr>\n",
       "    <tr>\n",
       "      <th>2</th>\n",
       "      <td>Algeria</td>\n",
       "      <td>67.2</td>\n",
       "      <td>74.6</td>\n",
       "      <td>Q262</td>\n",
       "      <td>2</td>\n",
       "    </tr>\n",
       "    <tr>\n",
       "      <th>3</th>\n",
       "      <td>Angola</td>\n",
       "      <td>41.5</td>\n",
       "      <td>17.6</td>\n",
       "      <td>Q916</td>\n",
       "      <td>3</td>\n",
       "    </tr>\n",
       "    <tr>\n",
       "      <th>4</th>\n",
       "      <td>Argentina</td>\n",
       "      <td>72.3</td>\n",
       "      <td>77.4</td>\n",
       "      <td>Q414</td>\n",
       "      <td>4</td>\n",
       "    </tr>\n",
       "    <tr>\n",
       "      <th>...</th>\n",
       "      <td>...</td>\n",
       "      <td>...</td>\n",
       "      <td>...</td>\n",
       "      <td>...</td>\n",
       "      <td>...</td>\n",
       "    </tr>\n",
       "    <tr>\n",
       "      <th>182</th>\n",
       "      <td>Virgin Islands (U.S.)</td>\n",
       "      <td>83.2</td>\n",
       "      <td>91.2</td>\n",
       "      <td>Q11703</td>\n",
       "      <td>182</td>\n",
       "    </tr>\n",
       "    <tr>\n",
       "      <th>183</th>\n",
       "      <td>West Bank and Gaza</td>\n",
       "      <td>68.7</td>\n",
       "      <td>75.5</td>\n",
       "      <td>Q407199</td>\n",
       "      <td>183</td>\n",
       "    </tr>\n",
       "    <tr>\n",
       "      <th>184</th>\n",
       "      <td>Yemen, Rep.</td>\n",
       "      <td>48.5</td>\n",
       "      <td>30.3</td>\n",
       "      <td>Q805</td>\n",
       "      <td>184</td>\n",
       "    </tr>\n",
       "    <tr>\n",
       "      <th>185</th>\n",
       "      <td>Zambia</td>\n",
       "      <td>30.5</td>\n",
       "      <td>11.7</td>\n",
       "      <td>Q953</td>\n",
       "      <td>185</td>\n",
       "    </tr>\n",
       "    <tr>\n",
       "      <th>186</th>\n",
       "      <td>Zimbabwe</td>\n",
       "      <td>44.8</td>\n",
       "      <td>25.3</td>\n",
       "      <td>Q954</td>\n",
       "      <td>186</td>\n",
       "    </tr>\n",
       "  </tbody>\n",
       "</table>\n",
       "<p>187 rows × 5 columns</p>\n",
       "</div>"
      ],
      "text/plain": [
       "                   Country  Male  Female       ID  id_row\n",
       "0              Afghanistan  20.2     7.7     Q889       0\n",
       "1                  Albania  42.6    45.3     Q222       1\n",
       "2                  Algeria  67.2    74.6     Q262       2\n",
       "3                   Angola  41.5    17.6     Q916       3\n",
       "4                Argentina  72.3    77.4     Q414       4\n",
       "..                     ...   ...     ...      ...     ...\n",
       "182  Virgin Islands (U.S.)  83.2    91.2   Q11703     182\n",
       "183     West Bank and Gaza  68.7    75.5  Q407199     183\n",
       "184            Yemen, Rep.  48.5    30.3     Q805     184\n",
       "185                 Zambia  30.5    11.7     Q953     185\n",
       "186               Zimbabwe  44.8    25.3     Q954     186\n",
       "\n",
       "[187 rows x 5 columns]"
      ]
     },
     "execution_count": 626,
     "metadata": {},
     "output_type": "execute_result"
    }
   ],
   "source": [
    "df"
   ]
  },
  {
   "cell_type": "code",
   "execution_count": 627,
   "metadata": {},
   "outputs": [],
   "source": [
    "#Save file in current folder\n",
    "df.to_csv(path_tsv + file + '.tsv', index=False, sep='\\t') "
   ]
  },
  {
   "cell_type": "markdown",
   "metadata": {},
   "source": [
    "___"
   ]
  },
  {
   "cell_type": "markdown",
   "metadata": {},
   "source": [
    "___"
   ]
  },
  {
   "cell_type": "markdown",
   "metadata": {},
   "source": [
    "___"
   ]
  },
  {
   "cell_type": "markdown",
   "metadata": {},
   "source": [
    "___"
   ]
  },
  {
   "cell_type": "markdown",
   "metadata": {},
   "source": [
    "___"
   ]
  },
  {
   "cell_type": "markdown",
   "metadata": {},
   "source": [
    "___"
   ]
  },
  {
   "cell_type": "markdown",
   "metadata": {},
   "source": [
    "___"
   ]
  },
  {
   "cell_type": "markdown",
   "metadata": {},
   "source": [
    "___"
   ]
  },
  {
   "cell_type": "markdown",
   "metadata": {},
   "source": [
    "___"
   ]
  },
  {
   "cell_type": "markdown",
   "metadata": {},
   "source": [
    "___"
   ]
  },
  {
   "cell_type": "markdown",
   "metadata": {},
   "source": [
    "# Create dataset info"
   ]
  },
  {
   "cell_type": "code",
   "execution_count": 491,
   "metadata": {},
   "outputs": [
    {
     "output_type": "execute_result",
     "data": {
      "text/plain": [
       "'fifa_women'"
      ]
     },
     "metadata": {},
     "execution_count": 491
    }
   ],
   "source": [
    "file = 'fifa_women'\n",
    "file"
   ]
  },
  {
   "cell_type": "code",
   "execution_count": 492,
   "metadata": {
    "scrolled": true
   },
   "outputs": [
    {
     "output_type": "execute_result",
     "data": {
      "text/plain": [
       "            Country  TotalPoints      ID  id_row\n",
       "0           Albania       1325.0    Q222       0\n",
       "1           Algeria       1271.0    Q262       1\n",
       "2    American Samoa       1030.0  Q16641       2\n",
       "3           Andorra        749.0    Q228       3\n",
       "4            Angola       1117.0    Q916       4\n",
       "..              ...          ...     ...     ...\n",
       "154       Venezuela       1425.0    Q717     154\n",
       "155         Vietnam       1657.0    Q881     155\n",
       "156           Wales       1658.0     Q25     156\n",
       "157          Zambia       1198.0    Q953     157\n",
       "158        Zimbabwe       1151.0    Q954     158\n",
       "\n",
       "[159 rows x 4 columns]"
      ],
      "text/html": "<div>\n<style scoped>\n    .dataframe tbody tr th:only-of-type {\n        vertical-align: middle;\n    }\n\n    .dataframe tbody tr th {\n        vertical-align: top;\n    }\n\n    .dataframe thead th {\n        text-align: right;\n    }\n</style>\n<table border=\"1\" class=\"dataframe\">\n  <thead>\n    <tr style=\"text-align: right;\">\n      <th></th>\n      <th>Country</th>\n      <th>TotalPoints</th>\n      <th>ID</th>\n      <th>id_row</th>\n    </tr>\n  </thead>\n  <tbody>\n    <tr>\n      <th>0</th>\n      <td>Albania</td>\n      <td>1325.0</td>\n      <td>Q222</td>\n      <td>0</td>\n    </tr>\n    <tr>\n      <th>1</th>\n      <td>Algeria</td>\n      <td>1271.0</td>\n      <td>Q262</td>\n      <td>1</td>\n    </tr>\n    <tr>\n      <th>2</th>\n      <td>American Samoa</td>\n      <td>1030.0</td>\n      <td>Q16641</td>\n      <td>2</td>\n    </tr>\n    <tr>\n      <th>3</th>\n      <td>Andorra</td>\n      <td>749.0</td>\n      <td>Q228</td>\n      <td>3</td>\n    </tr>\n    <tr>\n      <th>4</th>\n      <td>Angola</td>\n      <td>1117.0</td>\n      <td>Q916</td>\n      <td>4</td>\n    </tr>\n    <tr>\n      <th>...</th>\n      <td>...</td>\n      <td>...</td>\n      <td>...</td>\n      <td>...</td>\n    </tr>\n    <tr>\n      <th>154</th>\n      <td>Venezuela</td>\n      <td>1425.0</td>\n      <td>Q717</td>\n      <td>154</td>\n    </tr>\n    <tr>\n      <th>155</th>\n      <td>Vietnam</td>\n      <td>1657.0</td>\n      <td>Q881</td>\n      <td>155</td>\n    </tr>\n    <tr>\n      <th>156</th>\n      <td>Wales</td>\n      <td>1658.0</td>\n      <td>Q25</td>\n      <td>156</td>\n    </tr>\n    <tr>\n      <th>157</th>\n      <td>Zambia</td>\n      <td>1198.0</td>\n      <td>Q953</td>\n      <td>157</td>\n    </tr>\n    <tr>\n      <th>158</th>\n      <td>Zimbabwe</td>\n      <td>1151.0</td>\n      <td>Q954</td>\n      <td>158</td>\n    </tr>\n  </tbody>\n</table>\n<p>159 rows × 4 columns</p>\n</div>"
     },
     "metadata": {},
     "execution_count": 492
    }
   ],
   "source": [
    "df = pd.read_csv(path_tsv + file + '.tsv', sep='\\t')\n",
    "df"
   ]
  },
  {
   "cell_type": "code",
   "execution_count": 493,
   "metadata": {
    "scrolled": false
   },
   "outputs": [
    {
     "output_type": "execute_result",
     "data": {
      "text/plain": [
       "Variable                                       FIFA World Ranking: Women\n",
       "Key name                                                      fifa_women\n",
       "Header                                             Country, Total points\n",
       "Unit of measurement                                                   n°\n",
       "Year                                                                2020\n",
       "Date of access                                                07/10/2020\n",
       "Owner                                                               FIFA\n",
       "Comment                https://www.fifa.com/fifa-world-ranking/rankin...\n",
       "Name: 431, dtype: object"
      ]
     },
     "metadata": {},
     "execution_count": 493
    }
   ],
   "source": [
    "var = df_dataset[df_dataset['Key name'] == file]\n",
    "var = var.iloc[0]\n",
    "var"
   ]
  },
  {
   "cell_type": "code",
   "execution_count": 494,
   "metadata": {},
   "outputs": [],
   "source": [
    "def source_url(string):\n",
    "    if (string == 'WV.1 | Size of the economy'): \n",
    "        return 'http://wdi.worldbank.org/table/WV.1';\n",
    "    if (string == 'WV.2 | Global goals: ending poverty and improving lives'): \n",
    "        return 'http://wdi.worldbank.org/table/WV.2';\n",
    "    if (string == '2.19.2 | Health gaps by income: Child health'): \n",
    "        return 'http://wdi.worldbank.org/table/2.19.2';\n",
    "    if (string == 'WV.3 | Global goals: promoting sustainability'):\n",
    "        return 'http://wdi.worldbank.org/table/WV.3';\n",
    "    if (string == '3.9 | Trends in greenhouse gas emissions'):\n",
    "        return 'http://wdi.worldbank.org/table/3.9';\n",
    "    if (string == '4.8 | Structure of demand'):\n",
    "        return 'http://wdi.worldbank.org/table/4.8';\n",
    "    if (string == '4.11 | Towards a broader measure of savings'):\n",
    "        return 'http://wdi.worldbank.org/table/4.11';\n",
    "    if (string == '4.12 | Central government finances'):\n",
    "        return 'http://wdi.worldbank.org/table/4.12';\n",
    "    if (string == '4.14 | Central government revenues'):\n",
    "        return 'http://wdi.worldbank.org/table/4.14';\n",
    "    if (string == '4.13 | Central government expenditure'):\n",
    "        return 'http://wdi.worldbank.org/table/4.13';\n",
    "    if (string == '4.17 | Balance of payments current account'):\n",
    "        return 'http://wdi.worldbank.org/table/4.17';\n",
    "    if (string == 'WV.5 | Women and Development'):\n",
    "        return 'http://wdi.worldbank.org/table/WV.5';\n",
    "    if (string == '6.14 | Travel and tourism'):\n",
    "        return 'http://wdi.worldbank.org/table/6.14';\n",
    "    if (string == '6.1 | Growth of merchandise trade'):\n",
    "        return 'http://wdi.worldbank.org/table/6.1';\n",
    "    if (string == '6.4 | Direction of trade of low  and middle income economies'):\n",
    "        return 'http://wdi.worldbank.org/table/6.1';\n",
    "    else: return string;"
   ]
  },
  {
   "cell_type": "code",
   "execution_count": 495,
   "metadata": {},
   "outputs": [],
   "source": [
    "def get_owner(string):\n",
    "    if (string == 'The World Bank'):\n",
    "        return 'wd:Q7164';\n",
    "    if (string == 'Wikipedia'):\n",
    "        return 'wd:Q52';\n",
    "    if (string == 'WHO'):\n",
    "        return 'wd:Q7817';\n",
    "    if (string == 'Our World in Data'):\n",
    "        return 'wd:Q23680080';\n",
    "    if (string == 'FIFA'):\n",
    "        return 'wd:Q253414';\n",
    "    else: return string;"
   ]
  },
  {
   "cell_type": "code",
   "execution_count": 496,
   "metadata": {},
   "outputs": [],
   "source": [
    "text = \"\"\"\"\"\"\n",
    "struct = 'sportTournament' \n",
    "#subjt = 1.4\n",
    "dataset_name = 'FIFAwomen'#nombre del dataset (debe ser único)"
   ]
  },
  {
   "cell_type": "code",
   "execution_count": 497,
   "metadata": {},
   "outputs": [],
   "source": [
    "\"\"\"\n",
    "eg:dataset-terrestrial_protected_areas a qb:DataSet;\n",
    "    dct:title       \"Terrestrial protected areas\"@en;\n",
    "    rdfs:label      \"terrestrial_protected_areas\"@en;\n",
    "    rdfs:comment    \"The World Bank: 3.4 | Deforestation and biodiversity\"@en;\n",
    "    dct:description \"Area percentage of terrestrial protected areas\"@en;\n",
    "    dct:publisher   eg:TheWorldBank;\n",
    "    dct:issued      \"2020-09-22\"^^xsd:date;\n",
    "    dct:source      <http://wdi.worldbank.org/tables> ;\n",
    "    dct:subject\n",
    "        sdmx-subject:3.1 ;      # Environment         \n",
    "    qb:structure eg:dsd-percentage ;  \n",
    "    sdmx-attribute:unitMeasure <http://dbpedia.org/resource/Year> ;\n",
    "    .\n",
    "\"\"\"\n",
    "\n",
    "DATASET= []\n",
    "\n",
    "dataset = 'c19:dataset-' + dataset_name + ' a qb:Dataset;\\n'\n",
    "DATASET.append(dataset)\n",
    "\n",
    "title = '    dct:title       \"'+ var['Variable'] +'\"@en;\\n'\n",
    "#title = '    dct:title       \"Gross domestic product growth rate\"@en;\\n'\n",
    "DATASET.append(title)\n",
    "\n",
    "label = '    rdfs:label      \"'+ var['Key name'] + '\"@en;\\n'\n",
    "DATASET.append(label)\n",
    "\n",
    "comment = '    rdfs:comment    \"'+ var['Owner'] + ': ' + var['Comment'] + '\"@en;\\n'\n",
    "DATASET.append(comment)\n",
    "\n",
    "description = '    dct:description \"'+ text + '\"@en;\\n'\n",
    "DATASET.append(description)\n",
    "\n",
    "publisher = '    dct:publisher   '+ get_owner(var['Owner']) + ';\\n'\n",
    "DATASET.append(publisher)\n",
    "\n",
    "issued = '    dct:issued      \"'+ str(pd.to_datetime(var['Date of access']))[:10] + '\"^^xsd:date;\\n'\n",
    "DATASET.append(issued)\n",
    "\n",
    "source = '    dct:source      <' + source_url(var['Comment']) + '> ;\\n'\n",
    "DATASET.append(source)\n",
    "\n",
    "#subject = '    dct:subject \\n'\n",
    "#DATASET.append(subject)\n",
    "#subject_1 = '        sdmx-subject: ' + get_subject(var['Comment']) + ' ;\\n'\n",
    "#subject_1 = '        sdmx-subject: '+ str(subjt) + ' ;\\n'\n",
    "#DATASET.append(subject_1)\n",
    "\n",
    "structure_dataset = '    qb:structure      c19-structure:dsd-' + struct +' ; \\n'\n",
    "DATASET.append(structure_dataset)\n",
    "\n",
    "\n",
    "end = '.\\n'\n",
    "DATASET.append(end)\n",
    "DATASET.append('\\n')"
   ]
  },
  {
   "cell_type": "code",
   "execution_count": 498,
   "metadata": {},
   "outputs": [
    {
     "output_type": "execute_result",
     "data": {
      "text/plain": [
       "['c19:dataset-FIFAwomen a qb:Dataset;\\n',\n",
       " '    dct:title       \"FIFA World Ranking: Women\"@en;\\n',\n",
       " '    rdfs:label      \"fifa_women\"@en;\\n',\n",
       " '    rdfs:comment    \"FIFA: https://www.fifa.com/fifa-world-ranking/ranking-table/women/\"@en;\\n',\n",
       " '    dct:description \"\"@en;\\n',\n",
       " '    dct:publisher   wd:Q253414;\\n',\n",
       " '    dct:issued      \"2020-07-10\"^^xsd:date;\\n',\n",
       " '    dct:source      <https://www.fifa.com/fifa-world-ranking/ranking-table/women/> ;\\n',\n",
       " '    qb:structure      c19-structure:dsd-sportTournament ; \\n',\n",
       " '.\\n',\n",
       " '\\n']"
      ]
     },
     "metadata": {},
     "execution_count": 498
    }
   ],
   "source": [
    "DATASET"
   ]
  },
  {
   "cell_type": "markdown",
   "metadata": {},
   "source": [
    "# Create sparql query"
   ]
  },
  {
   "cell_type": "code",
   "execution_count": 499,
   "metadata": {},
   "outputs": [
    {
     "output_type": "execute_result",
     "data": {
      "text/plain": [
       "['PREFIX ex: <http://ex.org/a#>\\n',\n",
       " 'PREFIX xsd: <http://www.w3.org/2001/XMLSchema#>\\n',\n",
       " 'PREFIX qb: <http://purl.org/linked-data/cube#>\\n',\n",
       " 'PREFIX c19: <http://example.org/ns#>\\n',\n",
       " 'PREFIX c19-measure: <http://example.org/measure#>\\n',\n",
       " 'PREFIX c19-interval: <http://example.org/interval#>\\n',\n",
       " 'PREFIX c19-dimension: <http://example.org/dimension#>\\n',\n",
       " 'PREFIX c19-unit: <http://example.org/unit#>\\n',\n",
       " 'PREFIX sdmx-attribute:  <http://purl.org/linked-data/sdmx/2009/attribute#>\\n',\n",
       " 'PREFIX sdmx-dimension:  <http://purl.org/linked-data/sdmx/2009/dimension#>\\n',\n",
       " 'PREFIX sdmx-code:  <http://purl.org/linked-data/sdmx/2009/dimension#>\\n',\n",
       " 'PREFIX wd: <http://www.wikidata.org/entity/>\\n']"
      ]
     },
     "metadata": {},
     "execution_count": 499
    }
   ],
   "source": [
    "# PREFIX\n",
    "prefix_list = []\n",
    "\n",
    "ex = 'PREFIX ex: <http://ex.org/a#>'\n",
    "prefix_list.append(ex + '\\n')\n",
    "\n",
    "xsd = 'PREFIX xsd: <http://www.w3.org/2001/XMLSchema#>'\n",
    "prefix_list.append(xsd + '\\n')\n",
    "\n",
    "qb = 'PREFIX qb: <http://purl.org/linked-data/cube#>' \n",
    "prefix_list.append(qb + '\\n')\n",
    "\n",
    "c19 = 'PREFIX c19: <http://example.org/ns#>'\n",
    "prefix_list.append(c19 + '\\n')\n",
    "\n",
    "c19_measure = 'PREFIX c19-measure: <http://example.org/measure#>'\n",
    "prefix_list.append(c19_measure + '\\n')\n",
    "\n",
    "c19_interval = 'PREFIX c19-interval: <http://example.org/interval#>'\n",
    "prefix_list.append(c19_interval + '\\n')\n",
    "\n",
    "c19_dimension = 'PREFIX c19-dimension: <http://example.org/dimension#>'\n",
    "prefix_list.append(c19_dimension + '\\n')\n",
    "\n",
    "c19_unit = 'PREFIX c19-unit: <http://example.org/unit#>'\n",
    "prefix_list.append(c19_unit + '\\n')\n",
    "\n",
    "attr = 'PREFIX sdmx-attribute:  <http://purl.org/linked-data/sdmx/2009/attribute#>'\n",
    "prefix_list.append(attr + '\\n')\n",
    "\n",
    "sdmxdimension = 'PREFIX sdmx-dimension:  <http://purl.org/linked-data/sdmx/2009/dimension#>'\n",
    "prefix_list.append(sdmxdimension + '\\n')\n",
    "\n",
    "sdmxcode = 'PREFIX sdmx-code:  <http://purl.org/linked-data/sdmx/2009/dimension#>'\n",
    "prefix_list.append(sdmxcode + '\\n')\n",
    "\n",
    "wd = 'PREFIX wd: <http://www.wikidata.org/entity/>'\n",
    "prefix_list.append(wd + '\\n')\n",
    "\n",
    "prefix_list"
   ]
  },
  {
   "cell_type": "code",
   "execution_count": 500,
   "metadata": {
    "scrolled": true
   },
   "outputs": [
    {
     "output_type": "stream",
     "name": "stdout",
     "text": [
      "Variable                                       FIFA World Ranking: Women\nKey name                                                      fifa_women\nHeader                                             Country, Total points\nUnit of measurement                                                   n°\nYear                                                                2020\nDate of access                                                07/10/2020\nOwner                                                               FIFA\nComment                https://www.fifa.com/fifa-world-ranking/rankin...\nName: 431, dtype: object\n"
     ]
    },
    {
     "output_type": "execute_result",
     "data": {
      "text/plain": [
       "            Country  TotalPoints      ID  id_row\n",
       "0           Albania       1325.0    Q222       0\n",
       "1           Algeria       1271.0    Q262       1\n",
       "2    American Samoa       1030.0  Q16641       2\n",
       "3           Andorra        749.0    Q228       3\n",
       "4            Angola       1117.0    Q916       4\n",
       "..              ...          ...     ...     ...\n",
       "154       Venezuela       1425.0    Q717     154\n",
       "155         Vietnam       1657.0    Q881     155\n",
       "156           Wales       1658.0     Q25     156\n",
       "157          Zambia       1198.0    Q953     157\n",
       "158        Zimbabwe       1151.0    Q954     158\n",
       "\n",
       "[159 rows x 4 columns]"
      ],
      "text/html": "<div>\n<style scoped>\n    .dataframe tbody tr th:only-of-type {\n        vertical-align: middle;\n    }\n\n    .dataframe tbody tr th {\n        vertical-align: top;\n    }\n\n    .dataframe thead th {\n        text-align: right;\n    }\n</style>\n<table border=\"1\" class=\"dataframe\">\n  <thead>\n    <tr style=\"text-align: right;\">\n      <th></th>\n      <th>Country</th>\n      <th>TotalPoints</th>\n      <th>ID</th>\n      <th>id_row</th>\n    </tr>\n  </thead>\n  <tbody>\n    <tr>\n      <th>0</th>\n      <td>Albania</td>\n      <td>1325.0</td>\n      <td>Q222</td>\n      <td>0</td>\n    </tr>\n    <tr>\n      <th>1</th>\n      <td>Algeria</td>\n      <td>1271.0</td>\n      <td>Q262</td>\n      <td>1</td>\n    </tr>\n    <tr>\n      <th>2</th>\n      <td>American Samoa</td>\n      <td>1030.0</td>\n      <td>Q16641</td>\n      <td>2</td>\n    </tr>\n    <tr>\n      <th>3</th>\n      <td>Andorra</td>\n      <td>749.0</td>\n      <td>Q228</td>\n      <td>3</td>\n    </tr>\n    <tr>\n      <th>4</th>\n      <td>Angola</td>\n      <td>1117.0</td>\n      <td>Q916</td>\n      <td>4</td>\n    </tr>\n    <tr>\n      <th>...</th>\n      <td>...</td>\n      <td>...</td>\n      <td>...</td>\n      <td>...</td>\n    </tr>\n    <tr>\n      <th>154</th>\n      <td>Venezuela</td>\n      <td>1425.0</td>\n      <td>Q717</td>\n      <td>154</td>\n    </tr>\n    <tr>\n      <th>155</th>\n      <td>Vietnam</td>\n      <td>1657.0</td>\n      <td>Q881</td>\n      <td>155</td>\n    </tr>\n    <tr>\n      <th>156</th>\n      <td>Wales</td>\n      <td>1658.0</td>\n      <td>Q25</td>\n      <td>156</td>\n    </tr>\n    <tr>\n      <th>157</th>\n      <td>Zambia</td>\n      <td>1198.0</td>\n      <td>Q953</td>\n      <td>157</td>\n    </tr>\n    <tr>\n      <th>158</th>\n      <td>Zimbabwe</td>\n      <td>1151.0</td>\n      <td>Q954</td>\n      <td>158</td>\n    </tr>\n  </tbody>\n</table>\n<p>159 rows × 4 columns</p>\n</div>"
     },
     "metadata": {},
     "execution_count": 500
    }
   ],
   "source": [
    "print(var)\n",
    "df"
   ]
  },
  {
   "cell_type": "code",
   "execution_count": 501,
   "metadata": {},
   "outputs": [],
   "source": [
    "i=1"
   ]
  },
  {
   "cell_type": "code",
   "execution_count": 502,
   "metadata": {},
   "outputs": [
    {
     "output_type": "execute_result",
     "data": {
      "text/plain": [
       "'TotalPoints'"
      ]
     },
     "metadata": {},
     "execution_count": 502
    }
   ],
   "source": [
    "df.columns[i]"
   ]
  },
  {
   "cell_type": "code",
   "execution_count": 503,
   "metadata": {},
   "outputs": [
    {
     "output_type": "execute_result",
     "data": {
      "text/plain": [
       "'sportTournament'"
      ]
     },
     "metadata": {},
     "execution_count": 503
    }
   ],
   "source": [
    "struct"
   ]
  },
  {
   "cell_type": "code",
   "execution_count": 504,
   "metadata": {},
   "outputs": [],
   "source": [
    "filename = file\n",
    "year = var['Year']\n",
    "#year = '2016'\n",
    "type_blood = 'Q19831455' #o type\n",
    "sex_type='F'\n",
    "col_measure = df.columns[i] #name of the column to measure\n",
    "disease_type = 'Q11081'\n",
    "col = str(i-1)\n",
    "unit_multiplier = '5' #-3 si son per 1000 algo, -2 si es porcentaje\n",
    "unit_decimal = '1'\n",
    "#\tthousand metric tons of carbon dioxide equivalent\n",
    "unit_msr = 'MetricTon'\n",
    "measure_name = 'points'  #agregar si por ejemplo es per capita #struct generalmente\n",
    "#current = 'wd:Q4917' #moneda Q4917 = US dollar"
   ]
  },
  {
   "cell_type": "code",
   "execution_count": 505,
   "metadata": {},
   "outputs": [],
   "source": [
    "#Construct\n",
    "\"\"\"\n",
    "CONSTRUCT {\n",
    "  ?obs a qb:Observation;\n",
    "    qb:dataSet  \"dataset-terrestrial_protected_areas\";\n",
    "    eg:refPeriod \"2017\"^^xsd:gYear ; \n",
    "    eg-measure:percentage ?percentage;\n",
    "    eg:refArea ?ID;\n",
    "}\n",
    "\"\"\"\n",
    "construct = ['CONSTRUCT { \\n']\n",
    "\n",
    "obs = '  ?obs a qb:Observation;\\n'\n",
    "construct.append(obs)\n",
    "\n",
    "dataset = '    qb:dataSet  c19:dataset-' + dataset_name + ';\\n'\n",
    "construct.append(dataset)\n",
    "\n",
    "period = '    c19-dimension:refPeriod c19-interval:Year' + year + ';\\n'\n",
    "construct.append(period)\n",
    "\n",
    "#others = '    c19-dimension:ABObloodType wd:' + type_blood + ';\\n'\n",
    "#construct.append(others)\n",
    "\n",
    "#disease = '    c19-dimension:disease wd:' + disease_type + ';\\n'\n",
    "#construct.append(disease)\n",
    "\n",
    "#year = 'sdmx-attribute:unitMeasure <http://dbpedia.org/resource/Year> ;\\n'\n",
    "#construct.append(year)\n",
    "\n",
    "#dim = '    c19-dimension:ageInterval c19-interval:Age0-5 ;\\n'\n",
    "#construct.append(dim)\n",
    "\n",
    "#dim2 = '    c19-dimension:quintile c19-interval:Poorest ;\\n'\n",
    "#construct.append(dim2)\n",
    "\n",
    "sex = '    sdmx-dimension:sex         sdmx-code:sex-' + sex_type + ' ;\\n'\n",
    "construct.append(sex)\n",
    "\n",
    "measure = '    c19-measure:' + measure_name + ' ?data ;\\n'\n",
    "construct.append(measure)\n",
    "\n",
    "\n",
    "#unit_Measure = \"    sdmx-attribute:unitMeasure  c19-unit:\" + unit_msr + \";\\n\"\n",
    "#construct.append(unit_Measure)\n",
    "\n",
    "unit_Mult = \"    sdmx-attribute:unitMultiplier  \" + unit_multiplier + \";\\n\"\n",
    "#construct.append(unit_Mult)\n",
    "\n",
    "unit_Dec = \"    sdmx-attribute:decimals  \" + unit_decimal + \";\\n\"\n",
    "construct.append(unit_Dec)\n",
    "\n",
    "#currency = '    sdmx-attribute:currency      ' + current + ' ;\\n'\n",
    "#construct.append(currency)\n",
    "\n",
    "\n",
    "id_country = '    c19-dimension:refArea ?wdID;\\n'\n",
    "construct.append(id_country)\n",
    "\n",
    "end = '}\\n'\n",
    "construct.append(end)"
   ]
  },
  {
   "cell_type": "code",
   "execution_count": 506,
   "metadata": {},
   "outputs": [],
   "source": [
    "from_file = 'FROM <file:' + filename +'.tsv> \\n'"
   ]
  },
  {
   "cell_type": "code",
   "execution_count": 507,
   "metadata": {},
   "outputs": [],
   "source": [
    "# WHERE\n",
    "\"\"\"\n",
    "  BIND (URI(CONCAT('http://example.org/dataset-terrestrial_protected_areas-o', ?id_row)) AS ?obs)\n",
    "  BIND (xsd:decimal(?Areas) AS ?percentage)\n",
    "\"\"\"\n",
    "where = ['WHERE {\\n']\n",
    "\n",
    "id_row = \"  BIND (URI(CONCAT('c19:\" + dataset_name + \"-o\" + col + \"', ?id_row)) AS ?obs)\\n\"\n",
    "where.append(id_row)\n",
    "\n",
    "idd = \"  BIND (URI(CONCAT('wd:',?ID)) AS ?wdID)\\n\"\n",
    "where.append(idd)\n",
    "\n",
    "yearReference = \"  BIND (CONCAT('c19-interval:Year',?Surveyyear) AS ?referenceYear)\\n\"\n",
    "where.append(yearReference)\n",
    "\n",
    "xsd_percentage = \"  BIND (xsd:decimal(?\" + col_measure + \") AS ?data)\\n\"\n",
    "where.append(xsd_percentage)\n",
    "\n",
    "where.append(end)"
   ]
  },
  {
   "cell_type": "code",
   "execution_count": 508,
   "metadata": {},
   "outputs": [
    {
     "output_type": "stream",
     "name": "stdout",
     "text": [
      "Output of Read function is \nPREFIX ex: <http://ex.org/a#>\nPREFIX xsd: <http://www.w3.org/2001/XMLSchema#>\nPREFIX qb: <http://purl.org/linked-data/cube#>\nPREFIX c19: <http://example.org/ns#>\nPREFIX c19-measure: <http://example.org/measure#>\nPREFIX c19-interval: <http://example.org/interval#>\nPREFIX c19-dimension: <http://example.org/dimension#>\nPREFIX c19-unit: <http://example.org/unit#>\nPREFIX sdmx-attribute:  <http://purl.org/linked-data/sdmx/2009/attribute#>\nPREFIX sdmx-dimension:  <http://purl.org/linked-data/sdmx/2009/dimension#>\nPREFIX sdmx-code:  <http://purl.org/linked-data/sdmx/2009/dimension#>\nPREFIX wd: <http://www.wikidata.org/entity/>\nCONSTRUCT { \n  ?obs a qb:Observation;\n    qb:dataSet  c19:dataset-FIFAwomen;\n    c19-dimension:refPeriod c19-interval:Year2020;\n    sdmx-dimension:sex         sdmx-code:sex-F ;\n    c19-measure:points ?data ;\n    sdmx-attribute:decimals  1;\n    c19-dimension:refArea ?wdID;\n}\nFROM <file:fifa_women.tsv> \nWHERE {\n  BIND (URI(CONCAT('c19:FIFAwomen-o0', ?id_row)) AS ?obs)\n  BIND (URI(CONCAT('wd:',?ID)) AS ?wdID)\n  BIND (CONCAT('c19-interval:Year',?Surveyyear) AS ?referenceYear)\n  BIND (xsd:decimal(?TotalPoints) AS ?data)\n}\n\n"
     ]
    }
   ],
   "source": [
    "file1 = open(path_sparql + filename + \".sparql\",\"w\") \n",
    "file1.writelines(prefix_list)\n",
    "file1.writelines(construct)\n",
    "file1.writelines(from_file) \n",
    "file1.writelines(where) \n",
    "file1.close() #to change file access modes \n",
    "  \n",
    "file1 = open(path_sparql + filename + \".sparql\",\"r+\")  \n",
    "  \n",
    "print(\"Output of Read function is \")\n",
    "print(file1.read())"
   ]
  },
  {
   "cell_type": "code",
   "execution_count": 509,
   "metadata": {},
   "outputs": [
    {
     "output_type": "execute_result",
     "data": {
      "text/plain": [
       "'sh bin/tarql --tabs /home/tamara/Documents/U/Memoria/memoria/RDF/sparql/fifa_women.sparql /home/tamara/Documents/U/Memoria/memoria/RDF/tsv/fifa_women.tsv > /home/tamara/Documents/U/Memoria/memoria/RDF/ttl/observations/fifa_women.ttl'"
      ]
     },
     "metadata": {},
     "execution_count": 509
    }
   ],
   "source": [
    "# Copy and paste on terminal\n",
    "tarql = 'sh bin/tarql --tabs '\n",
    "sparql = path_sparql + filename + \".sparql\" + ' '\n",
    "tsv = path_tsv + file + '.tsv' + ' ' \n",
    "output = '> ' + path_ttl + 'observations/' + file + '.ttl'\n",
    "command = tarql + sparql + tsv + output\n",
    "command"
   ]
  },
  {
   "cell_type": "markdown",
   "metadata": {},
   "source": [
    "# Create structure (if required)\n",
    "\n",
    "\n",
    "     -- Data structure definition ----------------------------\n",
    "\n",
    "    eg:dsd-le3 a qb:DataStructureDefinition;\n",
    "        qb:component \n",
    "        # The dimensions\n",
    "            [ qb:dimension eg:refArea;         qb:order 1 ],\n",
    "            [ qb:dimension eg:refPeriod;       qb:order 2; qb:componentAttachment qb:Slice ],\n",
    "            [ qb:dimension sdmx-dimension:sex; qb:order 3; qb:componentAttachment qb:Slice ];\n",
    "\n",
    "        # The measure(s)\n",
    "        qb:component [ qb:measure eg:lifeExpectancy];\n",
    "\n",
    "        # The attributes\n",
    "        qb:component [ qb:attribute sdmx-attribute:unitMeasure; \n",
    "                       qb:componentRequired \"true\"^^xsd:boolean;\n",
    "                       qb:componentAttachment qb:DataSet; ] ;\n",
    "\n",
    "        # slices\n",
    "        qb:sliceKey eg:sliceByRegion ;\n",
    "        .\n",
    "\n",
    "    eg:sliceByRegion a qb:SliceKey;\n",
    "        rdfs:label \"slice by region\"@en;\n",
    "        rdfs:comment \"Slice by grouping regions together, fixing sex and time values\"@en;\n",
    "        qb:componentProperty eg:refPeriod, sdmx-dimension:sex ;\n",
    "        ."
   ]
  },
  {
   "cell_type": "code",
   "execution_count": 483,
   "metadata": {
    "tags": [
     "outputPrepend"
    ]
   },
   "outputs": [
    {
     "output_type": "stream",
     "name": "stdout",
     "text": [
      "d:Q36 .\n\nc19:FIFAmen-o0151  rdf:type    qb:Observation ;\n        qb:dataSet               c19:dataset-FIFAmen ;\n        c19-dimension:refPeriod  c19-interval:Year2020 ;\n        sdmx-dimension:sex       sdmx-dimension:sex-M ;\n        c19-measure:points       1653.0 ;\n        sdmx-attribute:decimals  1 ;\n        c19-dimension:refArea    wd:Q45 .\n\nc19:FIFAmen-o0152  rdf:type    qb:Observation ;\n        qb:dataSet               c19:dataset-FIFAmen ;\n        c19-dimension:refPeriod  c19-interval:Year2020 ;\n        sdmx-dimension:sex       sdmx-dimension:sex-M ;\n        c19-measure:points       941.0 ;\n        sdmx-attribute:decimals  1 ;\n        c19-dimension:refArea    wd:Q1183 .\n\nc19:FIFAmen-o0153  rdf:type    qb:Observation ;\n        qb:dataSet               c19:dataset-FIFAmen ;\n        c19-dimension:refPeriod  c19-interval:Year2020 ;\n        sdmx-dimension:sex       sdmx-dimension:sex-M ;\n        c19-measure:points       1396.0 ;\n        sdmx-attribute:decimals  1 ;\n        c19-dimension:refArea    wd:Q846 .\n\nc19:FIFAmen-o0154  rdf:type    qb:Observation ;\n        qb:dataSet               c19:dataset-FIFAmen ;\n        c19-dimension:refPeriod  c19-interval:Year2020 ;\n        sdmx-dimension:sex       sdmx-dimension:sex-M ;\n        c19-measure:points       1475.0 ;\n        sdmx-attribute:decimals  1 ;\n        c19-dimension:refArea    wd:Q27 .\n\nc19:FIFAmen-o0155  rdf:type    qb:Observation ;\n        qb:dataSet               c19:dataset-FIFAmen ;\n        c19-dimension:refPeriod  c19-interval:Year2020 ;\n        sdmx-dimension:sex       sdmx-dimension:sex-M ;\n        c19-measure:points       1483.0 ;\n        sdmx-attribute:decimals  1 ;\n        c19-dimension:refArea    wd:Q218 .\n\nc19:FIFAmen-o0156  rdf:type    qb:Observation ;\n        qb:dataSet               c19:dataset-FIFAmen ;\n        c19-dimension:refPeriod  c19-interval:Year2020 ;\n        sdmx-dimension:sex       sdmx-dimension:sex-M ;\n        c19-measure:points       1485.0 ;\n        sdmx-attribute:decimals  1 ;\n        c19-dimension:refArea    wd:Q159 .\n\nc19:FIFAmen-o0157  rdf:type    qb:Observation ;\n        qb:dataSet               c19:dataset-FIFAmen ;\n        c19-dimension:refPeriod  c19-interval:Year2020 ;\n        sdmx-dimension:sex       sdmx-dimension:sex-M ;\n        c19-measure:points       1089.0 ;\n        sdmx-attribute:decimals  1 ;\n        c19-dimension:refArea    wd:Q1037 .\n\nc19:FIFAmen-o0158  rdf:type    qb:Observation ;\n        qb:dataSet               c19:dataset-FIFAmen ;\n        c19-dimension:refPeriod  c19-interval:Year2020 ;\n        sdmx-dimension:sex       sdmx-dimension:sex-M ;\n        c19-measure:points       894.0 ;\n        sdmx-attribute:decimals  1 ;\n        c19-dimension:refArea    wd:Q683 .\n\nc19:FIFAmen-o0159  rdf:type    qb:Observation ;\n        qb:dataSet               c19:dataset-FIFAmen ;\n        c19-dimension:refPeriod  c19-interval:Year2020 ;\n        sdmx-dimension:sex       sdmx-dimension:sex-M ;\n        c19-measure:points       811.0 ;\n        sdmx-attribute:decimals  1 ;\n        c19-dimension:refArea    wd:Q238 .\n\nc19:FIFAmen-o0160  rdf:type    qb:Observation ;\n        qb:dataSet               c19:dataset-FIFAmen ;\n        c19-dimension:refPeriod  c19-interval:Year2020 ;\n        sdmx-dimension:sex       sdmx-dimension:sex-M ;\n        c19-measure:points       1351.0 ;\n        sdmx-attribute:decimals  1 ;\n        c19-dimension:refArea    wd:Q851 .\n\nc19:FIFAmen-o0161  rdf:type    qb:Observation ;\n        qb:dataSet               c19:dataset-FIFAmen ;\n        c19-dimension:refPeriod  c19-interval:Year2020 ;\n        sdmx-dimension:sex       sdmx-dimension:sex-M ;\n        c19-measure:points       1428.0 ;\n        sdmx-attribute:decimals  1 ;\n        c19-dimension:refArea    wd:Q22 .\n\nc19:FIFAmen-o0162  rdf:type    qb:Observation ;\n        qb:dataSet               c19:dataset-FIFAmen ;\n        c19-dimension:refPeriod  c19-interval:Year2020 ;\n        sdmx-dimension:sex       sdmx-dimension:sex-M ;\n        c19-measure:points       1555.0 ;\n        sdmx-attribute:decimals  1 ;\n        c19-dimension:refArea    wd:Q1041 .\n\nc19:FIFAmen-o0163  rdf:type    qb:Observation ;\n        qb:dataSet               c19:dataset-FIFAmen ;\n        c19-dimension:refPeriod  c19-interval:Year2020 ;\n        sdmx-dimension:sex       sdmx-dimension:sex-M ;\n        c19-measure:points       1486.0 ;\n        sdmx-attribute:decimals  1 ;\n        c19-dimension:refArea    wd:Q403 .\n\nc19:FIFAmen-o0164  rdf:type    qb:Observation ;\n        qb:dataSet               c19:dataset-FIFAmen ;\n        c19-dimension:refPeriod  c19-interval:Year2020 ;\n        sdmx-dimension:sex       sdmx-dimension:sex-M ;\n        c19-measure:points       866.0 ;\n        sdmx-attribute:decimals  1 ;\n        c19-dimension:refArea    wd:Q1042 .\n\nc19:FIFAmen-o0165  rdf:type    qb:Observation ;\n        qb:dataSet               c19:dataset-FIFAmen ;\n        c19-dimension:refPeriod  c19-interval:Year2020 ;\n        sdmx-dimension:sex       sdmx-dimension:sex-M ;\n        c19-measure:points       1155.0 ;\n        sdmx-attribute:decimals  1 ;\n        c19-dimension:refArea    wd:Q1044 .\n\nc19:FIFAmen-o0166  rdf:type    qb:Observation ;\n        qb:dataSet               c19:dataset-FIFAmen ;\n        c19-dimension:refPeriod  c19-interval:Year2020 ;\n        sdmx-dimension:sex       sdmx-dimension:sex-M ;\n        c19-measure:points       1020.0 ;\n        sdmx-attribute:decimals  1 ;\n        c19-dimension:refArea    wd:Q334 .\n\nc19:FIFAmen-o0167  rdf:type    qb:Observation ;\n        qb:dataSet               c19:dataset-FIFAmen ;\n        c19-dimension:refPeriod  c19-interval:Year2020 ;\n        sdmx-dimension:sex       sdmx-dimension:sex-M ;\n        c19-measure:points       1479.0 ;\n        sdmx-attribute:decimals  1 ;\n        c19-dimension:refArea    wd:Q214 .\n\nc19:FIFAmen-o0168  rdf:type    qb:Observation ;\n        qb:dataSet               c19:dataset-FIFAmen ;\n        c19-dimension:refPeriod  c19-interval:Year2020 ;\n        sdmx-dimension:sex       sdmx-dimension:sex-M ;\n        c19-measure:points       1368.0 ;\n        sdmx-attribute:decimals  1 ;\n        c19-dimension:refArea    wd:Q215 .\n\nc19:FIFAmen-o0169  rdf:type    qb:Observation ;\n        qb:dataSet               c19:dataset-FIFAmen ;\n        c19-dimension:refPeriod  c19-interval:Year2020 ;\n        sdmx-dimension:sex       sdmx-dimension:sex-M ;\n        c19-measure:points       1073.0 ;\n        sdmx-attribute:decimals  1 ;\n        c19-dimension:refArea    wd:Q685 .\n\nc19:FIFAmen-o0170  rdf:type    qb:Observation ;\n        qb:dataSet               c19:dataset-FIFAmen ;\n        c19-dimension:refPeriod  c19-interval:Year2020 ;\n        sdmx-dimension:sex       sdmx-dimension:sex-M ;\n        c19-measure:points       879.0 ;\n        sdmx-attribute:decimals  1 ;\n        c19-dimension:refArea    wd:Q1045 .\n\nc19:FIFAmen-o0171  rdf:type    qb:Observation ;\n        qb:dataSet               c19:dataset-FIFAmen ;\n        c19-dimension:refPeriod  c19-interval:Year2020 ;\n        sdmx-dimension:sex       sdmx-dimension:sex-M ;\n        c19-measure:points       1334.0 ;\n        sdmx-attribute:decimals  1 ;\n        c19-dimension:refArea    wd:Q258 .\n\nc19:FIFAmen-o0172  rdf:type    qb:Observation ;\n        qb:dataSet               c19:dataset-FIFAmen ;\n        c19-dimension:refPeriod  c19-interval:Year2020 ;\n        sdmx-dimension:sex       sdmx-dimension:sex-M ;\n        c19-measure:points       983.0 ;\n        sdmx-attribute:decimals  1 ;\n        c19-dimension:refArea    wd:Q958 .\n\nc19:FIFAmen-o0173  rdf:type    qb:Observation ;\n        qb:dataSet               c19:dataset-FIFAmen ;\n        c19-dimension:refPeriod  c19-interval:Year2020 ;\n        sdmx-dimension:sex       sdmx-dimension:sex-M ;\n        c19-measure:points       1642.0 ;\n        sdmx-attribute:decimals  1 ;\n        c19-dimension:refArea    wd:Q29 .\n\nc19:FIFAmen-o0174  rdf:type    qb:Observation ;\n        qb:dataSet               c19:dataset-FIFAmen ;\n        c19-dimension:refPeriod  c19-interval:Year2020 ;\n        sdmx-dimension:sex       sdmx-dimension:sex-M ;\n        c19-measure:points       853.0 ;\n        sdmx-attribute:decimals  1 ;\n        c19-dimension:refArea    wd:Q854 .\n\nc19:FIFAmen-o0175  rdf:type    qb:Observation ;\n        qb:dataSet               c19:dataset-FIFAmen ;\n        c19-dimension:refPeriod  c19-interval:Year2020 ;\n        sdmx-dimension:sex       sdmx-dimension:sex-M ;\n        c19-measure:points       1074.0 ;\n        sdmx-attribute:decimals  1 ;\n        c19-dimension:refArea    wd:Q763 .\n\nc19:FIFAmen-o0176  rdf:type    qb:Observation ;\n        qb:dataSet               c19:dataset-FIFAmen ;\n        c19-dimension:refPeriod  c19-interval:Year2020 ;\n        sdmx-dimension:sex       sdmx-dimension:sex-M ;\n        c19-measure:points       953.0 ;\n        sdmx-attribute:decimals  1 ;\n        c19-dimension:refArea    wd:Q760 .\n\nc19:FIFAmen-o0177  rdf:type    qb:Observation ;\n        qb:dataSet               c19:dataset-FIFAmen ;\n        c19-dimension:refPeriod  c19-interval:Year2020 ;\n        sdmx-dimension:sex       sdmx-dimension:sex-M ;\n        c19-measure:points       986.0 ;\n        sdmx-attribute:decimals  1 ;\n        c19-dimension:refArea    wd:Q757 .\n\nc19:FIFAmen-o0178  rdf:type    qb:Observation ;\n        qb:dataSet               c19:dataset-FIFAmen ;\n        c19-dimension:refPeriod  c19-interval:Year2020 ;\n        sdmx-dimension:sex       sdmx-dimension:sex-M ;\n        c19-measure:points       1112.0 ;\n        sdmx-attribute:decimals  1 ;\n        c19-dimension:refArea    wd:Q1049 .\n\nc19:FIFAmen-o0179  rdf:type    qb:Observation ;\n        qb:dataSet               c19:dataset-FIFAmen ;\n        c19-dimension:refPeriod  c19-interval:Year2020 ;\n        sdmx-dimension:sex       sdmx-dimension:sex-M ;\n        c19-measure:points       1073.0 ;\n        sdmx-attribute:decimals  1 ;\n        c19-dimension:refArea    wd:Q730 .\n\nc19:FIFAmen-o0180  rdf:type    qb:Observation ;\n        qb:dataSet               c19:dataset-FIFAmen ;\n        c19-dimension:refPeriod  c19-interval:Year2020 ;\n        sdmx-dimension:sex       sdmx-dimension:sex-M ;\n        c19-measure:points       1567.0 ;\n        sdmx-attribute:decimals  1 ;\n        c19-dimension:refArea    wd:Q34 .\n\nc19:FIFAmen-o0181  rdf:type    qb:Observation ;\n        qb:dataSet               c19:dataset-FIFAmen ;\n        c19-dimension:refPeriod  c19-interval:Year2020 ;\n        sdmx-dimension:sex       sdmx-dimension:sex-M ;\n        c19-measure:points       1600.0 ;\n        sdmx-attribute:decimals  1 ;\n        c19-dimension:refArea    wd:Q39 .\n\nc19:FIFAmen-o0182  rdf:type    qb:Observation ;\n        qb:dataSet               c19:dataset-FIFAmen ;\n        c19-dimension:refPeriod  c19-interval:Year2020 ;\n        sdmx-dimension:sex       sdmx-dimension:sex-M ;\n        c19-measure:points       1314.0 ;\n        sdmx-attribute:decimals  1 ;\n        c19-dimension:refArea    wd:Q858 .\n\nc19:FIFAmen-o0183  rdf:type    qb:Observation ;\n        qb:dataSet               c19:dataset-FIFAmen ;\n        c19-dimension:refPeriod  c19-interval:Year2020 ;\n        sdmx-dimension:sex       sdmx-dimension:sex-M ;\n        c19-measure:points       923.0 ;\n        sdmx-attribute:decimals  1 ;\n        c19-dimension:refArea    wd:Q1039 .\n\nc19:FIFAmen-o0184  rdf:type    qb:Observation ;\n        qb:dataSet               c19:dataset-FIFAmen ;\n        c19-dimension:refPeriod  c19-interval:Year2020 ;\n        sdmx-dimension:sex       sdmx-dimension:sex-M ;\n        c19-measure:points       1014.0 ;\n        sdmx-attribute:decimals  1 ;\n        c19-dimension:refArea    wd:Q42000 .\n\nc19:FIFAmen-o0185  rdf:type    qb:Observation ;\n        qb:dataSet               c19:dataset-FIFAmen ;\n        c19-dimension:refPeriod  c19-interval:Year2020 ;\n        sdmx-dimension:sex       sdmx-dimension:sex-M ;\n        c19-measure:points       1148.0 ;\n        sdmx-attribute:decimals  1 ;\n        c19-dimension:refArea    wd:Q863 .\n\nc19:FIFAmen-o0186  rdf:type    qb:Observation ;\n        qb:dataSet               c19:dataset-FIFAmen ;\n        c19-dimension:refPeriod  c19-interval:Year2020 ;\n        sdmx-dimension:sex       sdmx-dimension:sex-M ;\n        c19-measure:points       1086.0 ;\n        sdmx-attribute:decimals  1 ;\n        c19-dimension:refArea    wd:Q924 .\n\nc19:FIFAmen-o0187  rdf:type    qb:Observation ;\n        qb:dataSet               c19:dataset-FIFAmen ;\n        c19-dimension:refPeriod  c19-interval:Year2020 ;\n        sdmx-dimension:sex       sdmx-dimension:sex-M ;\n        c19-measure:points       1178.0 ;\n        sdmx-attribute:decimals  1 ;\n        c19-dimension:refArea    wd:Q869 .\n\nc19:FIFAmen-o0188  rdf:type    qb:Observation ;\n        qb:dataSet               c19:dataset-FIFAmen ;\n        c19-dimension:refPeriod  c19-interval:Year2020 ;\n        sdmx-dimension:sex       sdmx-dimension:sex-M ;\n        c19-measure:points       879.0 ;\n        sdmx-attribute:decimals  1 ;\n        c19-dimension:refArea    wd:Q574 .\n\nc19:FIFAmen-o0189  rdf:type    qb:Observation ;\n        qb:dataSet               c19:dataset-FIFAmen ;\n        c19-dimension:refPeriod  c19-interval:Year2020 ;\n        sdmx-dimension:sex       sdmx-dimension:sex-M ;\n        c19-measure:points       1127.0 ;\n        sdmx-attribute:decimals  1 ;\n        c19-dimension:refArea    wd:Q945 .\n\nc19:FIFAmen-o0190  rdf:type    qb:Observation ;\n        qb:dataSet               c19:dataset-FIFAmen ;\n        c19-dimension:refPeriod  c19-interval:Year2020 ;\n        sdmx-dimension:sex       sdmx-dimension:sex-M ;\n        c19-measure:points       862.0 ;\n        sdmx-attribute:decimals  1 ;\n        c19-dimension:refArea    wd:Q678 .\n\nc19:FIFAmen-o0191  rdf:type    qb:Observation ;\n        qb:dataSet               c19:dataset-FIFAmen ;\n        c19-dimension:refPeriod  c19-interval:Year2020 ;\n        sdmx-dimension:sex       sdmx-dimension:sex-M ;\n        c19-measure:points       1201.0 ;\n        sdmx-attribute:decimals  1 ;\n        c19-dimension:refArea    wd:Q754 .\n\nc19:FIFAmen-o0192  rdf:type    qb:Observation ;\n        qb:dataSet               c19:dataset-FIFAmen ;\n        c19-dimension:refPeriod  c19-interval:Year2020 ;\n        sdmx-dimension:sex       sdmx-dimension:sex-M ;\n        c19-measure:points       1506.0 ;\n        sdmx-attribute:decimals  1 ;\n        c19-dimension:refArea    wd:Q948 .\n\nc19:FIFAmen-o0193  rdf:type    qb:Observation ;\n        qb:dataSet               c19:dataset-FIFAmen ;\n        c19-dimension:refPeriod  c19-interval:Year2020 ;\n        sdmx-dimension:sex       sdmx-dimension:sex-M ;\n        c19-measure:points       1485.0 ;\n        sdmx-attribute:decimals  1 ;\n        c19-dimension:refArea    wd:Q43 .\n\nc19:FIFAmen-o0194  rdf:type    qb:Observation ;\n        qb:dataSet               c19:dataset-FIFAmen ;\n        c19-dimension:refPeriod  c19-interval:Year2020 ;\n        sdmx-dimension:sex       sdmx-dimension:sex-M ;\n        c19-measure:points       1107.0 ;\n        sdmx-attribute:decimals  1 ;\n        c19-dimension:refArea    wd:Q874 .\n\nc19:FIFAmen-o0195  rdf:type    qb:Observation ;\n        qb:dataSet               c19:dataset-FIFAmen ;\n        c19-dimension:refPeriod  c19-interval:Year2020 ;\n        sdmx-dimension:sex       sdmx-dimension:sex-M ;\n        c19-measure:points       862.0 ;\n        sdmx-attribute:decimals  1 ;\n        c19-dimension:refArea    wd:Q18221 .\n\nc19:FIFAmen-o0196  rdf:type    qb:Observation ;\n        qb:dataSet               c19:dataset-FIFAmen ;\n        c19-dimension:refPeriod  c19-interval:Year2020 ;\n        sdmx-dimension:sex       sdmx-dimension:sex-M ;\n        c19-measure:points       1321.0 ;\n        sdmx-attribute:decimals  1 ;\n        c19-dimension:refArea    wd:Q1036 .\n\nc19:FIFAmen-o0197  rdf:type    qb:Observation ;\n        qb:dataSet               c19:dataset-FIFAmen ;\n        c19-dimension:refPeriod  c19-interval:Year2020 ;\n        sdmx-dimension:sex       sdmx-dimension:sex-M ;\n        c19-measure:points       1539.0 ;\n        sdmx-attribute:decimals  1 ;\n        c19-dimension:refArea    wd:Q212 .\n\nc19:FIFAmen-o0198  rdf:type    qb:Observation ;\n        qb:dataSet               c19:dataset-FIFAmen ;\n        c19-dimension:refPeriod  c19-interval:Year2020 ;\n        sdmx-dimension:sex       sdmx-dimension:sex-M ;\n        c19-measure:points       1334.0 ;\n        sdmx-attribute:decimals  1 ;\n        c19-dimension:refArea    wd:Q878 .\n\nc19:FIFAmen-o0199  rdf:type    qb:Observation ;\n        qb:dataSet               c19:dataset-FIFAmen ;\n        c19-dimension:refPeriod  c19-interval:Year2020 ;\n        sdmx-dimension:sex       sdmx-dimension:sex-M ;\n        c19-measure:points       1645.0 ;\n        sdmx-attribute:decimals  1 ;\n        c19-dimension:refArea    wd:Q77 .\n\nc19:FIFAmen-o0200  rdf:type    qb:Observation ;\n        qb:dataSet               c19:dataset-FIFAmen ;\n        c19-dimension:refPeriod  c19-interval:Year2020 ;\n        sdmx-dimension:sex       sdmx-dimension:sex-M ;\n        c19-measure:points       844.0 ;\n        sdmx-attribute:decimals  1 ;\n        c19-dimension:refArea    wd:Q11703 .\n\nc19:FIFAmen-o0201  rdf:type    qb:Observation ;\n        qb:dataSet               c19:dataset-FIFAmen ;\n        c19-dimension:refPeriod  c19-interval:Year2020 ;\n        sdmx-dimension:sex       sdmx-dimension:sex-M ;\n        c19-measure:points       1542.0 ;\n        sdmx-attribute:decimals  1 ;\n        c19-dimension:refArea    wd:Q30 .\n\nc19:FIFAmen-o0202  rdf:type    qb:Observation ;\n        qb:dataSet               c19:dataset-FIFAmen ;\n        c19-dimension:refPeriod  c19-interval:Year2020 ;\n        sdmx-dimension:sex       sdmx-dimension:sex-M ;\n        c19-measure:points       1290.0 ;\n        sdmx-attribute:decimals  1 ;\n        c19-dimension:refArea    wd:Q265 .\n\nc19:FIFAmen-o0203  rdf:type    qb:Observation ;\n        qb:dataSet               c19:dataset-FIFAmen ;\n        c19-dimension:refPeriod  c19-interval:Year2020 ;\n        sdmx-dimension:sex       sdmx-dimension:sex-M ;\n        c19-measure:points       996.0 ;\n        sdmx-attribute:decimals  1 ;\n        c19-dimension:refArea    wd:Q686 .\n\nc19:FIFAmen-o0204  rdf:type    qb:Observation ;\n        qb:dataSet               c19:dataset-FIFAmen ;\n        c19-dimension:refPeriod  c19-interval:Year2020 ;\n        sdmx-dimension:sex       sdmx-dimension:sex-M ;\n        c19-measure:points       1517.0 ;\n        sdmx-attribute:decimals  1 ;\n        c19-dimension:refArea    wd:Q717 .\n\nc19:FIFAmen-o0205  rdf:type    qb:Observation ;\n        qb:dataSet               c19:dataset-FIFAmen ;\n        c19-dimension:refPeriod  c19-interval:Year2020 ;\n        sdmx-dimension:sex       sdmx-dimension:sex-M ;\n        c19-measure:points       1258.0 ;\n        sdmx-attribute:decimals  1 ;\n        c19-dimension:refArea    wd:Q881 .\n\nc19:FIFAmen-o0206  rdf:type    qb:Observation ;\n        qb:dataSet               c19:dataset-FIFAmen ;\n        c19-dimension:refPeriod  c19-interval:Year2020 ;\n        sdmx-dimension:sex       sdmx-dimension:sex-M ;\n        c19-measure:points       1550.0 ;\n        sdmx-attribute:decimals  1 ;\n        c19-dimension:refArea    wd:Q25 .\n\nc19:FIFAmen-o0207  rdf:type    qb:Observation ;\n        qb:dataSet               c19:dataset-FIFAmen ;\n        c19-dimension:refPeriod  c19-interval:Year2020 ;\n        sdmx-dimension:sex       sdmx-dimension:sex-M ;\n        c19-measure:points       1071.0 ;\n        sdmx-attribute:decimals  1 ;\n        c19-dimension:refArea    wd:Q805 .\n\nc19:FIFAmen-o0208  rdf:type    qb:Observation ;\n        qb:dataSet               c19:dataset-FIFAmen ;\n        c19-dimension:refPeriod  c19-interval:Year2020 ;\n        sdmx-dimension:sex       sdmx-dimension:sex-M ;\n        c19-measure:points       1279.0 ;\n        sdmx-attribute:decimals  1 ;\n        c19-dimension:refArea    wd:Q953 .\n\nc19:FIFAmen-o0209  rdf:type    qb:Observation ;\n        qb:dataSet               c19:dataset-FIFAmen ;\n        c19-dimension:refPeriod  c19-interval:Year2020 ;\n        sdmx-dimension:sex       sdmx-dimension:sex-M ;\n        c19-measure:points       1180.0 ;\n        sdmx-attribute:decimals  1 ;\n        c19-dimension:refArea    wd:Q954 .\n\n"
     ]
    }
   ],
   "source": [
    "file1 = open(path_ttl + 'observations/' + file + '.ttl',\"r+\")  \n",
    "  \n",
    "print(\"Output of Read function is \")\n",
    "print(file1.read())"
   ]
  },
  {
   "cell_type": "code",
   "execution_count": 484,
   "metadata": {},
   "outputs": [
    {
     "output_type": "execute_result",
     "data": {
      "text/plain": [
       "'points'"
      ]
     },
     "metadata": {},
     "execution_count": 484
    }
   ],
   "source": [
    "# The dimensions\n",
    "n = 3\n",
    "\n",
    "dim1_name = 'refArea'\n",
    "dim2_name = 'refPeriod'\n",
    "dim3_name = 'disease'\n",
    "#dim4_name = 'ageInterval'\n",
    "\n",
    "\n",
    "# The measure(s)\n",
    "measure1_name = measure_name #measure_name generalmente es vacio\n",
    "#measure2_name = 'peopleRHPositive'#name + measure_name + 'PerCapita'\n",
    "measure1_name"
   ]
  },
  {
   "cell_type": "code",
   "execution_count": 485,
   "metadata": {},
   "outputs": [],
   "source": [
    "\"\"\"\n",
    "DIMENSION: EDAD, PAISES, ETC\n",
    "MEDIDA: %MUERTOS\n",
    "UNIDAD(unit measure):DOLARES, PESOS, MILLONES\n",
    "\"\"\"\n",
    "\n",
    "\n",
    "structure = [\"\\n # c19-structure:dsd-\" + struct]\n",
    "\n",
    "definition = \"c19-structure:dsd-\" + struct + \" a qb:DataStructureDefinition;\\n\"\n",
    "structure.append(definition)\n",
    "\n",
    "component = \"    qb:component\\n\"\n",
    "\n",
    "\n",
    "# The dimensions\n",
    "\n",
    "structure.append(component)\n",
    "dim1 = \"    [ qb:dimension c19-dimension:\" + dim1_name + \";               qb:order \" + str(n) + \" ],\\n\"\n",
    "dim2 = \"    [ qb:dimension c19-dimension:\" + dim2_name + \";               qb:order \" + str(n-1) + \" ],\\n\" #CAMBIAR SI ES MENOS DE 3 DIM\n",
    "#dim3 = \"    [ qb:dimension c19-dimension:\" + dim3_name + \";               qb:order \" + str(n-2) + \" ];\\n\"\n",
    "dim_sex = \"    [ qb:dimension sdmx-dimension:sex;               qb:order \" + str(n-2) + \" ];\\n\"\n",
    "structure.append(dim1)\n",
    "structure.append(dim2)\n",
    "#structure.append(dim3)\n",
    "structure.append(dim_sex)\n",
    "\n",
    "# The measure(s)\n",
    "structure.append(component)\n",
    "measure1 = \"    [ qb:measure c19-measure:\" + measure1_name + \" ],\\n\" # CAMBIAR SI ES MÁS DE UNA DIMENSION\n",
    "structure.append(measure1)\n",
    "#measure2 = \"    qb:measure c19-measure:\" + measure2_name + \" ];\\n\"\n",
    "#structure.append(measure2)\n",
    "\n",
    "# The attributes\n",
    "structure.append(component)\n",
    "decimalss = \"    [ qb:attribute sdmx-attribute:decimals ;\\n\"\n",
    "structure.append(decimalss)\n",
    "#attribute = \"     qb:attribute sdmx-attribute:unitMeasure ;\\n\"\n",
    "#structure.append(attribute)\n",
    "#currencyy = \"    qb:attribute sdmx-attribute:currency ;\\n\"\n",
    "#structure.append(currencyy)\n",
    "#unitMultiplier = \"    qb:attribute sdmx-attribute:unitMultiplier ;];\\n\"\n",
    "#structure.append(unitMultiplier)\n",
    "\n",
    "# End\n",
    "structure.append(\".\\n\")\n"
   ]
  },
  {
   "cell_type": "code",
   "execution_count": 486,
   "metadata": {},
   "outputs": [],
   "source": [
    "add_list(path_ttl + 'structures.ttl', structure)"
   ]
  },
  {
   "cell_type": "code",
   "execution_count": 487,
   "metadata": {
    "scrolled": true,
    "tags": [
     "outputPrepend"
    ]
   },
   "outputs": [
    {
     "output_type": "stream",
     "name": "stdout",
     "text": [
      "9-structure:dsd-womenIndexScore a qb:DataStructureDefinition;\n    qb:component\n    [ qb:dimension c19-dimension:refArea;               qb:order 3 ],\n    [ qb:dimension c19-dimension:refPeriod;               qb:order 2 ],\n    [ qb:dimension sdmx-dimension:sex;               qb:order 1 ];\n    qb:component\n    [ qb:measure c19-measure:womenIndexScore ];\n    qb:component\n    [ qb:attribute sdmx-attribute:decimals ;\n    qb:attribute sdmx-attribute:unitMultiplier ;];\n.\n\n # c19-structure:dsd-memberParliament\nc19-structure:dsd-memberParliament a qb:DataStructureDefinition;\n    qb:component\n    [ qb:dimension c19-dimension:refArea;               qb:order 3 ],\n    [ qb:dimension c19-dimension:refPeriod;               qb:order 2 ],\n    [ qb:dimension sdmx-dimension:sex;               qb:order 1 ];\n    qb:component\n    [ qb:measure c19-measure:memberParliament ];\n    qb:component\n    [ qb:attribute sdmx-attribute:decimals ;\n.\n\n # c19-structure:dsd-memberParliament\nc19-structure:dsd-memberParliament a qb:DataStructureDefinition;\n    qb:component\n    [ qb:dimension c19-dimension:refArea;               qb:order 2 ],\n    [ qb:dimension c19-dimension:refPeriod;               qb:order 1 ],\n    qb:component\n    [ qb:measure c19-measure:age ];\n    qb:component\n    [ qb:attribute sdmx-attribute:decimals ;\n.\n\n # c19-structure:dsd-medianAge\nc19-structure:dsd-medianAge a qb:DataStructureDefinition;\n    qb:component\n    [ qb:dimension c19-dimension:refArea;               qb:order 2 ],\n    [ qb:dimension c19-dimension:refPeriod;               qb:order 1 ],\n    qb:component\n    [ qb:measure c19-measure:age ];\n    qb:component\n    [ qb:attribute sdmx-attribute:decimals ;\n.\n\n # c19-structure:dsd-greenhouseGasEmissions\nc19-structure:dsd-greenhouseGasEmissions a qb:DataStructureDefinition;\n    qb:component\n    [ qb:dimension c19-dimension:refArea;               qb:order 2 ],\n    [ qb:dimension c19-dimension:refPeriod;               qb:order 1 ],\n    qb:component\n    [ qb:measure c19-measure:greenhouseGasEmissions ];\n    qb:component\n    [ qb:attribute sdmx-attribute:decimals ;\n     qb:attribute sdmx-attribute:unitMeasure ;\n    qb:attribute sdmx-attribute:unitMultiplier ;];\n.\n\n # c19-structure:dsd-adjustedNetSavings\nc19-structure:dsd-adjustedNetSavings a qb:DataStructureDefinition;\n    qb:component\n    [ qb:dimension c19-dimension:refArea;               qb:order 2 ],\n    [ qb:dimension c19-dimension:refPeriod;               qb:order 1 ],\n    qb:component\n    [ qb:measure c19-measure:particulateEmissionDamage ];\n    qb:component\n    [ qb:attribute sdmx-attribute:decimals ;\n    qb:attribute sdmx-attribute:unitMultiplier ;];\n.\n\n # c19-structure:dsd-savingsLocalPollutionDamage\nc19-structure:dsd-savingsLocalPollutionDamage a qb:DataStructureDefinition;\n    qb:component\n    [ qb:dimension c19-dimension:refArea;               qb:order 2 ],\n    [ qb:dimension c19-dimension:refPeriod;               qb:order 1 ],\n    qb:component\n    [ qb:measure c19-measure:particulateEmissionDamage ];\n    qb:component\n    [ qb:attribute sdmx-attribute:decimals ;\n    qb:attribute sdmx-attribute:unitMultiplier ;];\n.\n\n # c19-structure:dsd-ecdcCumulative\nc19-structure:dsd-ecdcCumulative a qb:DataStructureDefinition;\n    qb:component\n    [ qb:dimension c19-dimension:refPeriod;               qb:order 4 ],\n    [ qb:dimension c19-dimension:refArea;               qb:order 3 ],\n    [ qb:dimension c19-dimension:patient;               qb:order 2 ],\n    [ qb:dimension c19-dimension:disease;               qb:order 1 ];\n    qb:component\n    [ qb:measure c19-measure:cumulativeCases ;\n      qb:measure c19-measure:cases ;];\n    qb:component\n    [ qb:attribute sdmx-attribute:decimals ;\n      qb:attribute sdmx-attribute:unitMultiplier ;];\n.\n\n\n # c19-structure:dsd-excessMortalityPScores\nc19-structure:dsd-excessMortalityPScores a qb:DataStructureDefinition;\n    qb:component\n    [ qb:dimension c19-dimension:refPeriod;               qb:order 4 ],\n    [ qb:dimension c19-dimension:refArea;               qb:order 3 ],\n    [ qb:dimension c19-dimension:patient;               qb:order 2 ],\n    [ qb:dimension c19-dimension:disease;               qb:order 1 ];\n    qb:component\n    [ qb:measure c19-measure:pScore ];\n    qb:component\n    [ qb:attribute sdmx-attribute:unitMultiplier ];\n.\n\n\n # c19-structure:dsd-CSSERecoveredGlobal\nc19-structure:dsd-CSSERecoveredGlobal a qb:DataStructureDefinition;\n    qb:component\n    [ qb:dimension c19-dimension:refPeriod;               qb:order 5 ],\n    [ qb:dimension c19-dimension:refArea;               qb:order 4 ],\n    [ qb:dimension c19-dimension:refSubArea;               qb:order 3 ],\n    [ qb:dimension c19-dimension:patient;               qb:order 2 ],\n    [ qb:dimension c19-dimension:disease;               qb:order 1 ];\n    qb:component\n    [ qb:measure c19-measure:cases ];\n.\n\n # c19-structure:dsd-CSSEDeathsGlobal\nc19-structure:dsd-CSSEDeathsGlobal a qb:DataStructureDefinition;\n    qb:component\n    [ qb:dimension c19-dimension:refPeriod;               qb:order 5 ],\n    [ qb:dimension c19-dimension:refArea;               qb:order 4 ],\n    [ qb:dimension c19-dimension:refSubArea;               qb:order 3 ],\n    [ qb:dimension c19-dimension:patient;               qb:order 2 ],\n    [ qb:dimension c19-dimension:disease;               qb:order 1 ];\n    qb:component\n    [ qb:measure c19-measure:cases ];\n.\n\n # c19-structure:dsd-CSSEConfirmedGlobal\nc19-structure:dsd-CSSEConfirmedGlobal a qb:DataStructureDefinition;\n    qb:component\n    [ qb:dimension c19-dimension:refPeriod;               qb:order 5 ],\n    [ qb:dimension c19-dimension:refArea;               qb:order 4 ],\n    [ qb:dimension c19-dimension:refSubArea;               qb:order 3 ],\n    [ qb:dimension c19-dimension:patient;               qb:order 2 ],\n    [ qb:dimension c19-dimension:disease;               qb:order 1 ];\n    qb:component\n    [ qb:measure c19-measure:cases ];\n.\n\n # c19-structure:dsd-salaryWorkers\nc19-structure:dsd-salaryWorkers a qb:DataStructureDefinition;\n    qb:component\n    [ qb:dimension c19-dimension:refArea;               qb:order 3 ],\n    [ qb:dimension c19-dimension:refPeriod;               qb:order 2 ],\n    [ qb:dimension sdmx-dimension:sex;               qb:order 1 ];\n    qb:component\n    [ qb:measure c19-measure:salaryWorkers ];\n    qb:component\n    [ qb:attribute sdmx-attribute:decimals ;\n    qb:attribute sdmx-attribute:unitMultiplier ;];\n.\n\n\n # c19-structure:dsd-accountOwnership\nc19-structure:dsd-accountOwnership a qb:DataStructureDefinition;\n    qb:component\n    [ qb:dimension c19-dimension:refArea;               qb:order 4 ],\n    [ qb:dimension c19-dimension:refPeriod;               qb:order 3 ],\n    [ qb:dimension c19-dimension:ageInterval;               qb:order 2 ],\n    [ qb:dimension sdmx-dimension:sex;               qb:order 1 ];\n    qb:component\n    [ qb:measure c19-measure:accountOwnership ];\n    qb:component\n    [ qb:attribute sdmx-attribute:decimals ;\n    qb:attribute sdmx-attribute:unitMultiplier ;];\n.\n\n # c19-structure:dsd-womenFirstMarried\nc19-structure:dsd-womenFirstMarried a qb:DataStructureDefinition;\n    qb:component\n    [ qb:dimension c19-dimension:refArea;               qb:order 4 ],\n    [ qb:dimension c19-dimension:refPeriod;               qb:order 3 ],\n    [ qb:dimension c19-dimension:ageInterval;               qb:order 2 ],\n    [ qb:dimension sdmx-dimension:sex;               qb:order 1 ];\n    qb:component\n    [ qb:measure c19-measure:womenFirstMarried ];\n    qb:component\n    [ qb:attribute sdmx-attribute:decimals ;\n    qb:attribute sdmx-attribute:unitMultiplier ;];\n.\n\n\n\n # c19-structure:dsd-lifeExpectancyBirth\nc19-structure:dsd-lifeExpectancyBirth a qb:DataStructureDefinition;\n    qb:component\n    [ qb:dimension c19-dimension:refArea;               qb:order 3 ],\n    [ qb:dimension c19-dimension:refPeriod;               qb:order 2 ],\n    [ qb:dimension sdmx-dimension:sex;               qb:order 1 ];\n    qb:component\n    [ qb:measure c19-measure:lifeExpectancyBirth ];\n    qb:component\n    [ qb:attribute sdmx-attribute:decimals ;]\n.\n\n # c19-structure:dsd-intentionalHomicides\nc19-structure:dsd-intentionalHomicides a qb:DataStructureDefinition;\n    qb:component\n    [ qb:dimension c19-dimension:refArea;               qb:order 2 ],\n    [ qb:dimension c19-dimension:refPeriod;               qb:order 1 ];\n    qb:component\n    [ qb:measure c19-measure:intentionalHomicides ];\n    qb:component\n    [ qb:attribute sdmx-attribute:decimals ;\n    qb:attribute sdmx-attribute:unitMultiplier ;];\n.\n\n # c19-structure:dsd-terrestrialMarineProtectedAreas\nc19-structure:dsd-terrestrialMarineProtectedAreas a qb:DataStructureDefinition;\n    qb:component\n    [ qb:dimension c19-dimension:refArea;               qb:order 2 ],\n    [ qb:dimension c19-dimension:refPeriod;               qb:order 1 ];\n    qb:component\n    [ qb:measure c19-measure:terrestrialMarineProtectedAreas ];\n    qb:component\n    [ qb:attribute sdmx-attribute:decimals ;\n    qb:attribute sdmx-attribute:unitMultiplier ;];\n.\n\n # c19-structure:dsd-carbonDioxideEmissions\nc19-structure:dsd-carbonDioxideEmissions a qb:DataStructureDefinition;\n    qb:component\n    [ qb:dimension c19-dimension:refArea;               qb:order 2 ],\n    [ qb:dimension c19-dimension:refPeriod;               qb:order 1 ];\n    qb:component\n    [ qb:measure c19-measure:carbonDioxideEmissionsPerCapita ];\n    qb:component\n    [ qb:attribute sdmx-attribute:decimals ];\n.\n\n # c19-structure:dsd-adjustedNetSavings\nc19-structure:dsd-adjustedNetSavings a qb:DataStructureDefinition;\n    qb:component\n    [ qb:dimension c19-dimension:refArea;               qb:order 2 ],\n    [ qb:dimension c19-dimension:refPeriod;               qb:order 1 ];\n    qb:component\n    [ qb:measure c19-measure:adjustedNetSavings ];\n    qb:component\n    [ qb:attribute sdmx-attribute:decimals ;\n    qb:attribute sdmx-attribute:unitMultiplier ;];\n.\n\n # c19-structure:dsd-PM25AirPollution\nc19-structure:dsd-PM25AirPollution a qb:DataStructureDefinition;\n    qb:component\n    [ qb:dimension c19-dimension:refArea;               qb:order 2 ],\n    [ qb:dimension c19-dimension:refPeriod;               qb:order 1 ];\n    qb:component\n    [ qb:measure c19-measure:meanAnnualExposurePM25 ];\n    qb:component\n    [ qb:attribute sdmx-attribute:decimals ;\n     qb:attribute sdmx-attribute:unitMeasure ;];\n.\n\n\n # c19-structure:dsd-populationLivingSlums\nc19-structure:dsd-populationLivingSlums a qb:DataStructureDefinition;\n    qb:component\n    [ qb:dimension c19-dimension:refArea;               qb:order 2 ],\n    [ qb:dimension c19-dimension:refPeriod;               qb:order 1 ];\n    qb:component\n    [ qb:measure c19-measure:populationLivingSlums ];\n    qb:component\n    [ qb:attribute sdmx-attribute:decimals ;\n    qb:attribute sdmx-attribute:unitMultiplier ;];\n.\n\n # c19-structure:dsd-gdpOnResearchDevelopment\nc19-structure:dsd-gdpOnResearchDevelopment a qb:DataStructureDefinition;\n    qb:component\n    [ qb:dimension c19-dimension:refArea;               qb:order 2 ],\n    [ qb:dimension c19-dimension:refPeriod;               qb:order 1 ];\n    qb:component\n    [ qb:measure c19-measure:gdpOnResearchDevelopment ];\n    qb:component\n    [ qb:attribute sdmx-attribute:decimals ;\n    qb:attribute sdmx-attribute:unitMultiplier ;];\n.\n\n # c19-structure:dsd-renewableEnergyConsumption\nc19-structure:dsd-renewableEnergyConsumption a qb:DataStructureDefinition;\n    qb:component\n    [ qb:dimension c19-dimension:refArea;               qb:order 2 ],\n    [ qb:dimension c19-dimension:refPeriod;               qb:order 1 ];\n    qb:component\n    [ qb:measure c19-measure:renewableEnergyConsumption ];\n    qb:component\n    [ qb:attribute sdmx-attribute:decimals ;\n    qb:attribute sdmx-attribute:unitMultiplier ;];\n.\n\n # c19-structure:dsd-accessElectricity\nc19-structure:dsd-accessElectricity a qb:DataStructureDefinition;\n    qb:component\n    [ qb:dimension c19-dimension:refArea;               qb:order 2 ],\n    [ qb:dimension c19-dimension:refPeriod;               qb:order 1 ];\n    qb:component\n    [ qb:measure c19-measure:accessElectricity ];\n    qb:component\n    [ qb:attribute sdmx-attribute:decimals ;\n    qb:attribute sdmx-attribute:unitMultiplier ;];\n.\n\n # c19-structure:dsd-peopleUsingSanitationServices\nc19-structure:dsd-peopleUsingSanitationServices a qb:DataStructureDefinition;\n    qb:component\n    [ qb:dimension c19-dimension:refArea;               qb:order 2 ],\n    [ qb:dimension c19-dimension:refPeriod;               qb:order 1 ];\n    qb:component\n    [ qb:measure c19-measure:peopleUsingSanitationServices ];\n    qb:component\n    [ qb:attribute sdmx-attribute:decimals ;\n    qb:attribute sdmx-attribute:unitMultiplier ;];\n.\n\n\n\n # c19-structure:dsd-peopleUsingDrinkingWaterServices\nc19-structure:dsd-peopleUsingDrinkingWaterServices a qb:DataStructureDefinition;\n    qb:component\n    [ qb:dimension c19-dimension:refArea;               qb:order 2 ],\n    [ qb:dimension c19-dimension:refPeriod;               qb:order 1 ];\n    qb:component\n    [ qb:measure c19-measure:peopleUsingDrinkingWaterServices ];\n    qb:component\n    [ qb:attribute sdmx-attribute:decimals ;\n    qb:attribute sdmx-attribute:unitMultiplier ;];\n.\n\n\n # c19-structure:dsd-contributingFamilyWorkers\nc19-structure:dsd-contributingFamilyWorkers a qb:DataStructureDefinition;\n    qb:component\n    [ qb:dimension c19-dimension:refArea;               qb:order 3 ],\n    [ qb:dimension c19-dimension:refPeriod;               qb:order 2 ],\n    [ qb:dimension sdmx-dimension:sex;               qb:order 1 ];\n    qb:component\n    [ qb:measure c19-measure:contributingFamilyWorkers ];\n    qb:component\n    [ qb:attribute sdmx-attribute:decimals ;\n    qb:attribute sdmx-attribute:unitMultiplier ;];\n.\n\n # c19-structure:dsd-primaryCompletionRate\nc19-structure:dsd-primaryCompletionRate a qb:DataStructureDefinition;\n    qb:component\n    [ qb:dimension c19-dimension:refArea;               qb:order 2 ],\n    [ qb:dimension c19-dimension:refPeriod;               qb:order 1 ];\n    qb:component\n    [ qb:measure c19-measure:completionRate ];\n    qb:component\n    [ qb:attribute sdmx-attribute:decimals ;\n    qb:attribute sdmx-attribute:unitMultiplier ;];\n.\n\n # c19-structure:dsd-mortalityByTrafficInjury\nc19-structure:dsd-mortalityByTrafficInjury a qb:DataStructureDefinition;\n    qb:component\n    [ qb:dimension c19-dimension:refArea;               qb:order 2 ],\n    [ qb:dimension c19-dimension:refPeriod;               qb:order 1 ];\n    qb:component\n    [ qb:measure c19-measure:mortality ];\n    qb:component\n    [ qb:attribute sdmx-attribute:decimals ;\n    qb:attribute sdmx-attribute:unitMultiplier ;];\n.\n\n # c19-structure:dsd-incidenceTuberculosis\nc19-structure:dsd-incidenceTuberculosis a qb:DataStructureDefinition;\n    qb:component\n    [ qb:dimension c19-dimension:refArea;               qb:order 2 ],\n    [ qb:dimension c19-dimension:refPeriod;               qb:order 1 ];\n    qb:component\n    [ qb:measure c19-measure:incidenceTuberculosis ];\n    qb:component\n    [ qb:attribute sdmx-attribute:decimals ;\n    qb:attribute sdmx-attribute:unitMultiplier ;];\n.\n\n # c19-structure:dsd-hivInfections\nc19-structure:dsd-hivInfections a qb:DataStructureDefinition;\n    qb:component\n    [ qb:dimension c19-dimension:refArea;               qb:order 4 ],\n    [ qb:dimension c19-dimension:refPeriod;               qb:order 3 ],\n    [ qb:dimension c19-dimension:disease;               qb:order 2 ],\n    [ qb:dimension c19-dimension:ageInterval;               qb:order 1 ];\n    qb:component\n    [ qb:measure c19-measure:hivInfections ];\n    qb:component\n    [ qb:attribute sdmx-attribute:decimals ;\n    qb:attribute sdmx-attribute:unitMultiplier ;];\n.\n\n # c19-structure:dsd-childMortalityRate\nc19-structure:dsd-childMortalityRate a qb:DataStructureDefinition;\n    qb:component\n    [ qb:dimension c19-dimension:refArea;               qb:order 3 ],\n    [ qb:dimension c19-dimension:refPeriod;               qb:order 2 ],\n    [ qb:dimension c19-dimension:ageInterval;               qb:order 1 ];\n    qb:component\n    [ qb:measure c19-measure:mortalityRate ];\n    qb:component\n    [ qb:attribute sdmx-attribute:decimals ;\n    qb:attribute sdmx-attribute:unitMultiplier ;];\n.\n\n # c19-structure:dsd-maternalMortalityRatio\nc19-structure:dsd-maternalMortalityRatio a qb:DataStructureDefinition;\n    qb:component\n    [ qb:dimension c19-dimension:refArea;               qb:order 2 ],\n    [ qb:dimension c19-dimension:refPeriod;               qb:order 1 ];\n    qb:component\n    [ qb:measure c19-measure:maternalMortalityRatio ];\n    qb:component\n    [qb:attribute sdmx-attribute:decimals ;\n    qb:attribute sdmx-attribute:unitMultiplier ;];\n.\n\n # c19-structure:dsd-prevalenceStuntingHeight\nc19-structure:dsd-prevalenceStuntingHeight a qb:DataStructureDefinition;\n    qb:component\n    [ qb:dimension c19-dimension:refArea;               qb:order 3 ],\n    [ qb:dimension c19-dimension:refPeriod;               qb:order 2 ],\n    [ qb:dimension c19-dimension:ageInterval;               qb:order 1 ];\n    qb:component\n    [ qb:measure c19-measure:prevalenceStuntingHeight ];\n    qb:component\n    [qb:attribute sdmx-attribute:decimals ;\n    qb:attribute sdmx-attribute:unitMultiplier ;];\n.\n\n # c19-structure:dsd-shareIncome\nc19-structure:dsd-shareIncome a qb:DataStructureDefinition;\n    qb:component\n    [ qb:dimension c19-dimension:refArea;               qb:order 3 ],\n    [ qb:dimension c19-dimension:refPeriod;               qb:order 2 ],\n    [ qb:dimension c19-dimension:percentileInterval;               qb:order 1 ];\n    qb:component\n    [ qb:measure c19-measure:shareIncome ];\n    qb:component\n    [qb:attribute sdmx-attribute:decimals ;\n    qb:attribute sdmx-attribute:unitMultiplier ;];\n.\n\n\n\n\n # c19-structure:dsd-grossNationalIncomePPP\nc19-structure:dsd-grossNationalIncomePPP a qb:DataStructureDefinition;\n    qb:component\n    [ qb:dimension c19-dimension:refArea;               qb:order 2 ],\n    [ qb:dimension c19-dimension:refPeriod;               qb:order 1 ];\n    qb:component\n    [ qb:measure c19-measure:grossNationalIncomePPP ;\n     qb:measure c19-measure:grossNationalIncomePPPPerCapita; ];\n    qb:component\n    [qb:attribute sdmx-attribute:currency ;\n    qb:attribute sdmx-attribute:decimals ;\n    qb:attribute sdmx-attribute:unitMultiplier ;];\n.\n\n # c19-structure:dsd-grossNationalIncome\nc19-structure:dsd-grossNationalIncome a qb:DataStructureDefinition;\n    qb:component\n    [ qb:dimension c19-dimension:refArea;               qb:order 2 ],\n    [ qb:dimension c19-dimension:refPeriod;               qb:order 1 ];\n    qb:component\n    [ qb:measure c19-measure:grossNationalIncome ;\n     qb:measure c19-measure:grossNationalIncomePerCapita; ];\n    qb:component\n    [qb:attribute sdmx-attribute:currency ;\n    qb:attribute sdmx-attribute:decimals ;\n    qb:attribute sdmx-attribute:unitMultiplier ;];\n.\n\n # c19-structure:dsd-populationDensity\nc19-structure:dsd-populationDensity a qb:DataStructureDefinition;\n    qb:component\n    [ qb:dimension c19-dimension:refArea;               qb:order 2 ],\n    [ qb:dimension c19-dimension:refPeriod;               qb:order 1 ];\n    qb:component\n    [ qb:measure c19-measure:populationDensity ];\n    qb:component\n    [ qb:attribute sdmx-attribute:unitMeasure;] ;\n.\n\n # c19-structure:dsd-surfaceArea\nc19-structure:dsd-surfaceArea a qb:DataStructureDefinition;\n    qb:component\n    [ qb:dimension c19-dimension:refArea;               qb:order 2 ],\n    [ qb:dimension c19-dimension:refPeriod;               qb:order 1 ];\n    qb:component\n    [ qb:measure c19-measure:surfaceArea ];\n    qb:component\n    [ qb:attribute sdmx-attribute:unitMeasure; ;\n    qb:attribute sdmx-attribute:unitMultiplier] ;\n.\n\n # c19-structure:dsd-populationMillions\nc19-structure:dsd-populationMillions a qb:DataStructureDefinition;\n    qb:component\n    [ qb:dimension c19-dimension:refArea;               qb:order 2 ],\n    [ qb:dimension c19-dimension:refPeriod;               qb:order 1 ];\n    qb:component\n    [ qb:measure c19-measure:population ];\n    qb:component\n    [ qb:attribute sdmx-attribute:unitMultiplier ; ] ; \n.\n\n"
     ]
    }
   ],
   "source": [
    "file1 = open(path_ttl + 'structures.ttl',\"r+\")  \n",
    "  \n",
    "print(\"Output of Read function is \")\n",
    "\n",
    "print(file1.read())\n"
   ]
  },
  {
   "cell_type": "markdown",
   "metadata": {},
   "source": [
    "# Dimensions and measures\n",
    "\n",
    "    eg:refPeriod  a rdf:Property, qb:DimensionProperty;\n",
    "        rdfs:label \"reference period\"@en;\n",
    "        rdfs:subPropertyOf sdmx-dimension:refPeriod;\n",
    "        rdfs:range interval:Interval;\n",
    "        qb:concept sdmx-concept:refPeriod ;\n",
    "        .\n",
    "\n",
    "\n",
    "    eg:refArea  a rdf:Property, qb:DimensionProperty;\n",
    "        rdfs:label \"reference area\"@en;\n",
    "        rdfs:subPropertyOf sdmx-dimension:refArea;\n",
    "        rdfs:range admingeo:UnitaryAuthority;\n",
    "        qb:concept sdmx-concept:refArea ;\n",
    "        .\n",
    "\n",
    "    eg:lifeExpectancy  a rdf:Property, qb:MeasureProperty;\n",
    "        rdfs:label \"life expectancy\"@en;\n",
    "        rdfs:subPropertyOf sdmx-measure:obsValue;\n",
    "        rdfs:range xsd:decimal ;"
   ]
  },
  {
   "cell_type": "code",
   "execution_count": 119,
   "metadata": {},
   "outputs": [],
   "source": [
    "refArea = \"\"\"\n",
    "c19-dimension:refArea  a rdf:Property, qb:DimensionProperty;\n",
    "    rdfs:label \"reference area\"@en;\n",
    "    rdfs:subPropertyOf sdmx-dimension:refArea;\n",
    "    qb:concept sdmx-concept:refArea ;\n",
    "    .\n",
    "\"\"\"\n",
    "\n",
    "refPeriod = \"\"\"\n",
    "c19-dimension:refPeriod  a rdf:Property, qb:DimensionProperty;\n",
    "    rdfs:label \"reference period\"@en;\n",
    "    rdfs:subPropertyOf sdmx-dimension:refPeriod;\n",
    "    rdfs:range interval:Interval;\n",
    "    qb:concept sdmx-concept:refPeriod ;\n",
    "    .\n",
    "    \n",
    "\"\"\"\n",
    "\n",
    "measure_population = \"\"\"\n",
    "c19-measure:population  a rdf:Property, qb:MeasureProperty;\n",
    "    rdfs:label \"population\"@en;\n",
    "    rdfs:subPropertyOf sdmx-measure:obsValue;\n",
    "    rdfs:range xsd:decimal ;\n",
    "    .\n",
    "    \n",
    "\"\"\"\n",
    "\n",
    "surface_area = \"\"\"\n",
    "c19-measure:surface-area  a rdf:Property, qb:MeasureProperty;\n",
    "    rdfs:label \"surface area\"@en;\n",
    "    rdfs:subPropertyOf sdmx-measure:obsValue;\n",
    "    rdfs:range xsd:decimal ;\n",
    "    .\n",
    "    \n",
    "\"\"\"\n",
    "\n",
    "\n",
    "pop_density = \"\"\"\n",
    "c19-measure:pop_density  a rdf:Property, qb:MeasureProperty;\n",
    "    rdfs:label \"population density\"@en;\n",
    "    rdfs:subPropertyOf sdmx-measure:obsValue;\n",
    "    rdfs:range xsd:decimal ;\n",
    "    .\n",
    "    \n",
    "\"\"\"\n",
    "\n",
    "gni = \"\"\"\n",
    "c19-measure:grossNationalIncome  a rdf:Property, qb:MeasureProperty;\n",
    "    rdfs:label \"Gross national income\"@en;\n",
    "    rdfs:subPropertyOf sdmx-measure:obsValue;\n",
    "    rdfs:range xsd:decimal ;\n",
    "    .\n",
    "    \n",
    "\"\"\"\n",
    "\n",
    "\n",
    "gni_per_capita = \"\"\"\n",
    "c19-measure:grossNationalIncomePerCapita  a rdf:Property, qb:MeasureProperty;\n",
    "    rdfs:label \"Gross national income per capita\"@en;\n",
    "    rdfs:subPropertyOf sdmx-measure:obsValue;\n",
    "    rdfs:range xsd:decimal ;\n",
    "    .\n",
    "    \n",
    "\"\"\"\n",
    "\n",
    "gni_ppp = \"\"\"\n",
    "c19-measure:grossNationalIncomePPP  a rdf:Property, qb:MeasureProperty;\n",
    "    rdfs:label \"Gross national income by purchasing power parity\"@en;\n",
    "    rdfs:subPropertyOf sdmx-measure:obsValue;\n",
    "    rdfs:range xsd:decimal ;\n",
    "    .\n",
    "    \n",
    "\"\"\"\n",
    "\n",
    "gni_ppp_per_capita = \"\"\"\n",
    "c19-measure:grossNationalIncomePPPPeCapita  a rdf:Property, qb:MeasureProperty;\n",
    "    rdfs:label \"Gross national income by purchasing power parity per capita\"@en;\n",
    "    rdfs:subPropertyOf sdmx-measure:obsValue;\n",
    "    rdfs:range xsd:decimal ;\n",
    "    .\n",
    "    \n",
    "\"\"\"\n",
    "\n",
    "gdp = \"\"\"\n",
    "c19-measure:grossDomesticProduct  a rdf:Property, qb:MeasureProperty;\n",
    "    rdfs:label \"GDP growth\"@en;\n",
    "    rdfs:subPropertyOf sdmx-measure:obsValue;\n",
    "    rdfs:range xsd:decimal ;\n",
    "    .\n",
    "    \n",
    "\"\"\"\n",
    "\n",
    "gdp_per_capita = \"\"\"\n",
    "c19-measure:grossDomesticProduct  a rdf:Property, qb:MeasureProperty;\n",
    "    rdfs:label \"GDP growth per capita\"@en;\n",
    "    rdfs:subPropertyOf sdmx-measure:obsValue;\n",
    "    rdfs:range xsd:decimal ;\n",
    "    .\n",
    "    \n",
    "\"\"\"\n",
    "\n",
    "percentileInverval = \"\"\"\n",
    "c19-dimension:percentileInverval  a rdf:Property, qb:DimensionProperty;\n",
    "    rdfs:label \"Percentile Inverval\"@en;\n",
    "    rdfs:subPropertyOf sdmx-dimension:percentileInverval;\n",
    "    qb:concept sdmx-concept:percentileInverval ;\n",
    "    .\n",
    "\"\"\"\n",
    "\n",
    "\n",
    "lowest20 = \"\"\"\n",
    "c19-measure:shareIncome  a rdf:Property, qb:MeasureProperty;\n",
    "    rdfs:label \"Income share\"@en;\n",
    "    rdfs:subPropertyOf sdmx-measure:obsValue;\n",
    "    rdfs:range xsd:decimal ;\n",
    "    .\n",
    "    \n",
    "\"\"\"\n",
    "\n",
    "ageInterval = \"\"\"\n",
    "c19-dimension:ageInterval  a rdf:Property, qb:DimensionProperty;\n",
    "    rdfs:label \"age interval\"@en;\n",
    "    rdfs:subPropertyOf sdmx-dimension:ageInterval;\n",
    "    rdfs:range interval:Interval;\n",
    "    qb:concept sdmx-concept:ageInterval ;\n",
    "    .\n",
    "\"\"\"\n",
    "\n",
    "prevalence_stunting_height_age = \"\"\"\n",
    "c19-measure:prevalenceStuntingHeight  a rdf:Property, qb:MeasureProperty;\n",
    "    rdfs:label \"prevalence stunting height age\"@en;\n",
    "    rdfs:subPropertyOf sdmx-measure:obsValue;\n",
    "    rdfs:range xsd:decimal ;\n",
    "    .\n",
    "    \n",
    "\"\"\"\n",
    "\n",
    "maternal_mortality_ratio = \"\"\"\n",
    "c19-measure:maternalMortalityRatio  a rdf:Property, qb:MeasureProperty;\n",
    "    rdfs:label \"Maternal mortality ratio\"@en;\n",
    "    rdfs:subPropertyOf sdmx-measure:obsValue;\n",
    "    rdfs:range xsd:decimal ;\n",
    "    .\n",
    "    \n",
    "\"\"\"\n",
    "\n",
    "mortality_rate = \"\"\"\n",
    "c19-measure:mortalityRate  a rdf:Property, qb:MeasureProperty;\n",
    "    rdfs:label \"Mortality rate\"@en;\n",
    "    rdfs:subPropertyOf sdmx-measure:obsValue;\n",
    "    rdfs:range xsd:decimal ;\n",
    "    .\n",
    "    \n",
    "\"\"\""
   ]
  },
  {
   "cell_type": "code",
   "execution_count": 478,
   "metadata": {},
   "outputs": [],
   "source": [
    "hivInfections = \"\"\"\n",
    "c19-measure:hivInfections  a rdf:Property, qb:MeasureProperty;\n",
    "    rdfs:label \"HIV infections\"@en;\n",
    "    rdfs:subPropertyOf sdmx-measure:obsValue;\n",
    "    rdfs:range xsd:decimal ;\n",
    "    .\n",
    "    \n",
    "\"\"\""
   ]
  },
  {
   "cell_type": "code",
   "execution_count": 479,
   "metadata": {},
   "outputs": [],
   "source": [
    "incidenceTuberculosis = \"\"\"\n",
    "c19-measure:incidenceTuberculosis  a rdf:Property, qb:MeasureProperty;\n",
    "    rdfs:label \"Incidence of tuberculosis\"@en;\n",
    "    rdfs:subPropertyOf sdmx-measure:obsValue;\n",
    "    rdfs:range xsd:decimal ;\n",
    "    .\n",
    "    \n",
    "\"\"\""
   ]
  },
  {
   "cell_type": "code",
   "execution_count": 480,
   "metadata": {},
   "outputs": [],
   "source": [
    "mortality = \"\"\"\n",
    "c19-measure:mortality  a rdf:Property, qb:MeasureProperty;\n",
    "    rdfs:label \"Mortality\"@en;\n",
    "    rdfs:subPropertyOf sdmx-measure:obsValue;\n",
    "    rdfs:range xsd:decimal ;\n",
    "    .\n",
    "    \n",
    "\"\"\""
   ]
  },
  {
   "cell_type": "code",
   "execution_count": 481,
   "metadata": {},
   "outputs": [],
   "source": [
    "completionRate = \"\"\"\n",
    "c19-measure:completionRate  a rdf:Property, qb:MeasureProperty;\n",
    "    rdfs:label \"Completion Rate\"@en;\n",
    "    rdfs:subPropertyOf sdmx-measure:obsValue;\n",
    "    rdfs:range xsd:decimal ;\n",
    "    .\n",
    "    \n",
    "\"\"\""
   ]
  },
  {
   "cell_type": "code",
   "execution_count": 482,
   "metadata": {},
   "outputs": [],
   "source": [
    "contributingFamilyWorkers = \"\"\"\n",
    "c19-measure:contributingFamilyWorkers  a rdf:Property, qb:MeasureProperty;\n",
    "    rdfs:label \"Contributing Family Workers\"@en;\n",
    "    rdfs:subPropertyOf sdmx-measure:obsValue;\n",
    "    rdfs:range xsd:decimal ;\n",
    "    .\n",
    "    \n",
    "\"\"\""
   ]
  },
  {
   "cell_type": "code",
   "execution_count": 483,
   "metadata": {},
   "outputs": [],
   "source": [
    "peopleUsingDrinkingWaterServices = \"\"\"\n",
    "c19-measure:peopleUsingDrinkingWaterServices  a rdf:Property, qb:MeasureProperty;\n",
    "    rdfs:label \"People using safely managed drinking water services\"@en;\n",
    "    rdfs:subPropertyOf sdmx-measure:obsValue;\n",
    "    rdfs:range xsd:decimal ;\n",
    "    .\n",
    "    \n",
    "\"\"\""
   ]
  },
  {
   "cell_type": "code",
   "execution_count": 484,
   "metadata": {},
   "outputs": [],
   "source": [
    "peopleUsingSanitationServices = \"\"\"\n",
    "c19-measure:peopleUsingSanitationServices  a rdf:Property, qb:MeasureProperty;\n",
    "    rdfs:label \"People using safely managed sanitation services\"@en;\n",
    "    rdfs:subPropertyOf sdmx-measure:obsValue;\n",
    "    rdfs:range xsd:decimal ;\n",
    "    .\n",
    "    \n",
    "\"\"\""
   ]
  },
  {
   "cell_type": "code",
   "execution_count": 466,
   "metadata": {},
   "outputs": [],
   "source": [
    "accessElectricity = \"\"\"\n",
    "c19-measure:accessElectricity  a rdf:Property, qb:MeasureProperty;\n",
    "    rdfs:label \"Access to electricity\"@en;\n",
    "    rdfs:subPropertyOf sdmx-measure:obsValue;\n",
    "    rdfs:range xsd:decimal ;\n",
    "    .\n",
    "    \n",
    "\"\"\""
   ]
  },
  {
   "cell_type": "code",
   "execution_count": 467,
   "metadata": {},
   "outputs": [],
   "source": [
    "renewableEnergyConsumption = \"\"\"\n",
    "c19-measure:renewableEnergyConsumption  a rdf:Property, qb:MeasureProperty;\n",
    "    rdfs:label \"Renewable energy consumption\"@en;\n",
    "    rdfs:subPropertyOf sdmx-measure:obsValue;\n",
    "    rdfs:range xsd:decimal ;\n",
    "    .\n",
    "    \n",
    "\"\"\""
   ]
  },
  {
   "cell_type": "code",
   "execution_count": 498,
   "metadata": {},
   "outputs": [],
   "source": [
    "gdpOnResearchDevelopment = \"\"\"\n",
    "c19-measure:gdpOnResearchDevelopment  a rdf:Property, qb:MeasureProperty;\n",
    "    rdfs:label \"Research and development expenditure (% of GDP)\"@en;\n",
    "    rdfs:subPropertyOf sdmx-measure:obsValue;\n",
    "    rdfs:range xsd:decimal ;\n",
    "    .\n",
    "    \n",
    "\"\"\""
   ]
  },
  {
   "cell_type": "code",
   "execution_count": 650,
   "metadata": {},
   "outputs": [],
   "source": [
    "populationLivingSlums = \"\"\"\n",
    "c19-measure:populationLivingSlums  a rdf:Property, qb:MeasureProperty;\n",
    "    rdfs:label \"Population living in slums\"@en;\n",
    "    rdfs:subPropertyOf sdmx-measure:obsValue;\n",
    "    rdfs:range xsd:decimal ;\n",
    "    .\n",
    "    \n",
    "\"\"\""
   ]
  },
  {
   "cell_type": "code",
   "execution_count": 692,
   "metadata": {},
   "outputs": [],
   "source": [
    "meanAnnualExposurePM25 = \"\"\"\n",
    "c19-measure:meanAnnualExposurePM25  a rdf:Property, qb:MeasureProperty;\n",
    "    rdfs:label \"PM2.5 air pollution, mean annual exposure (micrograms per cubic meter)\"@en;\n",
    "    rdfs:subPropertyOf sdmx-measure:obsValue;\n",
    "    rdfs:range xsd:decimal ;\n",
    "    .\n",
    "    \n",
    "\"\"\""
   ]
  },
  {
   "cell_type": "code",
   "execution_count": 719,
   "metadata": {},
   "outputs": [],
   "source": [
    "adjustedNetSavings = \"\"\"\n",
    "c19-measure:adjustedNetSavings  a rdf:Property, qb:MeasureProperty;\n",
    "    rdfs:label \"Adjusted net savings, including particulate emission damage (% of GNI)\"@en;\n",
    "    rdfs:subPropertyOf sdmx-measure:obsValue;\n",
    "    rdfs:range xsd:decimal ;\n",
    "    .\n",
    "    \n",
    "\"\"\""
   ]
  },
  {
   "cell_type": "code",
   "execution_count": 751,
   "metadata": {},
   "outputs": [],
   "source": [
    "carbonDioxideEmissionsPerCapita = \"\"\"\n",
    "c19-measure:carbonDioxideEmissionsPerCapita  a rdf:Property, qb:MeasureProperty;\n",
    "    rdfs:label \"CO2 emissions (metric tons per capita) \"@en;\n",
    "    rdfs:subPropertyOf sdmx-measure:obsValue;\n",
    "    rdfs:range xsd:decimal ;\n",
    "    .\n",
    "    \n",
    "\"\"\""
   ]
  },
  {
   "cell_type": "code",
   "execution_count": 778,
   "metadata": {},
   "outputs": [],
   "source": [
    "terrestrialMarineProtectedAreas = \"\"\"\n",
    "c19-measure:terrestrialMarineProtectedAreas  a rdf:Property, qb:MeasureProperty;\n",
    "    rdfs:label \"Terrestrial and marine protected areas (% of total territorial area)\"@en;\n",
    "    rdfs:subPropertyOf sdmx-measure:obsValue;\n",
    "    rdfs:range xsd:decimal ;\n",
    "    .\n",
    "    \n",
    "\"\"\""
   ]
  },
  {
   "cell_type": "code",
   "execution_count": 811,
   "metadata": {},
   "outputs": [],
   "source": [
    "intentionalHomicides = \"\"\"\n",
    "c19-measure:intentionalHomicides  a rdf:Property, qb:MeasureProperty;\n",
    "    rdfs:label \"Intentional homicides (per 100,000 people)\"@en;\n",
    "    rdfs:subPropertyOf sdmx-measure:obsValue;\n",
    "    rdfs:range xsd:decimal ;\n",
    "    .\n",
    "    \n",
    "\"\"\""
   ]
  },
  {
   "cell_type": "code",
   "execution_count": 855,
   "metadata": {},
   "outputs": [],
   "source": [
    "lifeExpectancyBirth = \"\"\"\n",
    "c19-measure:lifeExpectancyBirth  a rdf:Property, qb:MeasureProperty;\n",
    "    rdfs:label \"Life expectancy at birth\"@en;\n",
    "    rdfs:subPropertyOf sdmx-measure:obsValue;\n",
    "    rdfs:range xsd:decimal ;\n",
    "    .\n",
    "    \n",
    "\"\"\""
   ]
  },
  {
   "cell_type": "code",
   "execution_count": 906,
   "metadata": {},
   "outputs": [],
   "source": [
    "womenFirstMarried = \"\"\"\n",
    "c19-measure:womenFirstMarried  a rdf:Property, qb:MeasureProperty;\n",
    "    rdfs:label \"Women who were first married by age 18 (% of women ages 20-24)\"@en;\n",
    "    rdfs:subPropertyOf sdmx-measure:obsValue;\n",
    "    rdfs:range xsd:decimal ;\n",
    "    .\n",
    "    \n",
    "\"\"\""
   ]
  },
  {
   "cell_type": "code",
   "execution_count": 93,
   "metadata": {},
   "outputs": [],
   "source": [
    "accountOwnership = \"\"\"\n",
    "c19-measure:accountOwnership  a rdf:Property, qb:MeasureProperty;\n",
    "    rdfs:label \"Account ownership at a financial institution or with a mobile-money-service provider, by sex (% of population ages 15+)\"@en;\n",
    "    rdfs:subPropertyOf sdmx-measure:obsValue;\n",
    "    rdfs:range xsd:decimal ;\n",
    "    .\n",
    "    \n",
    "\"\"\""
   ]
  },
  {
   "cell_type": "code",
   "execution_count": 130,
   "metadata": {
    "scrolled": false
   },
   "outputs": [
    {
     "data": {
      "text/plain": [
       "'salaryWorkers'"
      ]
     },
     "execution_count": 130,
     "metadata": {},
     "output_type": "execute_result"
    }
   ],
   "source": [
    "measure1_name"
   ]
  },
  {
   "cell_type": "code",
   "execution_count": 131,
   "metadata": {},
   "outputs": [],
   "source": [
    "salaryWorkers = \"\"\"\n",
    "c19-measure:salaryWorkers  a rdf:Property, qb:MeasureProperty;\n",
    "    rdfs:label \"Wage and salaried workers, by sex (% of corresponding sex employment)\"@en;\n",
    "    rdfs:subPropertyOf sdmx-measure:obsValue;\n",
    "    rdfs:range xsd:decimal ;\n",
    "    .\n",
    "    \n",
    "\"\"\""
   ]
  },
  {
   "cell_type": "code",
   "execution_count": 132,
   "metadata": {},
   "outputs": [
    {
     "name": "stdout",
     "output_type": "stream",
     "text": [
      "Output of Read function is \n",
      "\n",
      "c19-measure:salaryWorkers  a rdf:Property, qb:MeasureProperty;\n",
      "    rdfs:label \"Wage and salaried workers, by sex (% of corresponding sex employment)\"@en;\n",
      "    rdfs:subPropertyOf sdmx-measure:obsValue;\n",
      "    rdfs:range xsd:decimal ;\n",
      "    .\n",
      "    \n",
      "\n",
      "c19-measure:accountOwnership  a rdf:Property, qb:MeasureProperty;\n",
      "    rdfs:label \"Account ownership at a financial institution or with a mobile-money-service provider, by sex (% of population ages 15+)\"@en;\n",
      "    rdfs:subPropertyOf sdmx-measure:obsValue;\n",
      "    rdfs:range xsd:decimal ;\n",
      "    .\n",
      "    \n",
      "\n",
      "c19-measure:womenFirstMarried  a rdf:Property, qb:MeasureProperty;\n",
      "    rdfs:label \"Women who were first married by age 18 (% of women ages 20-24)\"@en;\n",
      "    rdfs:subPropertyOf sdmx-measure:obsValue;\n",
      "    rdfs:range xsd:decimal ;\n",
      "    .\n",
      "    \n",
      "\n",
      "c19-measure:lifeExpectancyBirth  a rdf:Property, qb:MeasureProperty;\n",
      "    rdfs:label \"Life expectancy at birth\"@en;\n",
      "    rdfs:subPropertyOf sdmx-measure:obsValue;\n",
      "    rdfs:range xsd:decimal ;\n",
      "    .\n",
      "    \n",
      "\n",
      "c19-measure:intentionalHomicides  a rdf:Property, qb:MeasureProperty;\n",
      "    rdfs:label \"Intentional homicides (per 100,000 people)\"@en;\n",
      "    rdfs:subPropertyOf sdmx-measure:obsValue;\n",
      "    rdfs:range xsd:decimal ;\n",
      "    .\n",
      "    \n",
      "\n",
      "c19-measure:terrestrialMarineProtectedAreas  a rdf:Property, qb:MeasureProperty;\n",
      "    rdfs:label \"Terrestrial and marine protected areas (% of total territorial area)\"@en;\n",
      "    rdfs:subPropertyOf sdmx-measure:obsValue;\n",
      "    rdfs:range xsd:decimal ;\n",
      "    .\n",
      "    \n",
      "\n",
      "c19-measure:carbonDioxideEmissionsPerCapita  a rdf:Property, qb:MeasureProperty;\n",
      "    rdfs:label \"CO2 emissions (metric tons per capita) \"@en;\n",
      "    rdfs:subPropertyOf sdmx-measure:obsValue;\n",
      "    rdfs:range xsd:decimal ;\n",
      "    .\n",
      "    \n",
      "\n",
      "c19-measure:adjustedNetSavings  a rdf:Property, qb:MeasureProperty;\n",
      "    rdfs:label \"Adjusted net savings, including particulate emission damage (% of GNI)\"@en;\n",
      "    rdfs:subPropertyOf sdmx-measure:obsValue;\n",
      "    rdfs:range xsd:decimal ;\n",
      "    .\n",
      "    \n",
      "\n",
      "c19-measure:meanAnnualExposurePM25  a rdf:Property, qb:MeasureProperty;\n",
      "    rdfs:label \"PM2.5 air pollution, mean annual exposure (micrograms per cubic meter)\"@en;\n",
      "    rdfs:subPropertyOf sdmx-measure:obsValue;\n",
      "    rdfs:range xsd:decimal ;\n",
      "    .\n",
      "    \n",
      "\n",
      "c19-measure:populationLivingSlums  a rdf:Property, qb:MeasureProperty;\n",
      "    rdfs:label \"Population living in slums\"@en;\n",
      "    rdfs:subPropertyOf sdmx-measure:obsValue;\n",
      "    rdfs:range xsd:decimal ;\n",
      "    .\n",
      "    \n",
      "\n",
      "c19-measure:gdpOnResearchDevelopment  a rdf:Property, qb:MeasureProperty;\n",
      "    rdfs:label \"Research and development expenditure (% of GDP)\"@en;\n",
      "    rdfs:subPropertyOf sdmx-measure:obsValue;\n",
      "    rdfs:range xsd:decimal ;\n",
      "    .\n",
      "    \n",
      "\n",
      "c19-measure:renewableEnergyConsumption  a rdf:Property, qb:MeasureProperty;\n",
      "    rdfs:label \"Renewable energy consumption\"@en;\n",
      "    rdfs:subPropertyOf sdmx-measure:obsValue;\n",
      "    rdfs:range xsd:decimal ;\n",
      "    .\n",
      "    \n",
      "\n",
      "c19-measure:accessElectricity  a rdf:Property, qb:MeasureProperty;\n",
      "    rdfs:label \"Access to electricity\"@en;\n",
      "    rdfs:subPropertyOf sdmx-measure:obsValue;\n",
      "    rdfs:range xsd:decimal ;\n",
      "    .\n",
      "    \n",
      "\n",
      "c19-measure:peopleUsingSanitationServices  a rdf:Property, qb:MeasureProperty;\n",
      "    rdfs:label \"People using safely managed sanitation services\"@en;\n",
      "    rdfs:subPropertyOf sdmx-measure:obsValue;\n",
      "    rdfs:range xsd:decimal ;\n",
      "    .\n",
      "    \n",
      "\n",
      "c19-measure:peopleUsingDrinkingWaterServices  a rdf:Property, qb:MeasureProperty;\n",
      "    rdfs:label \"People using safely managed drinking water services\"@en;\n",
      "    rdfs:subPropertyOf sdmx-measure:obsValue;\n",
      "    rdfs:range xsd:decimal ;\n",
      "    .\n",
      "    \n",
      "\n",
      "c19-measure:contributingFamilyWorkers  a rdf:Property, qb:MeasureProperty;\n",
      "    rdfs:label \"Contributing Family Workers\"@en;\n",
      "    rdfs:subPropertyOf sdmx-measure:obsValue;\n",
      "    rdfs:range xsd:decimal ;\n",
      "    .\n",
      "    \n",
      "\n",
      "c19-measure:completionRate  a rdf:Property, qb:MeasureProperty;\n",
      "    rdfs:label \"Completion Rate\"@en;\n",
      "    rdfs:subPropertyOf sdmx-measure:obsValue;\n",
      "    rdfs:range xsd:decimal ;\n",
      "    .\n",
      "    \n",
      "\n",
      "c19-measure:mortality  a rdf:Property, qb:MeasureProperty;\n",
      "    rdfs:label \"Mortality\"@en;\n",
      "    rdfs:subPropertyOf sdmx-measure:obsValue;\n",
      "    rdfs:range xsd:decimal ;\n",
      "    .\n",
      "    \n",
      "\n",
      "c19-measure:incidenceTuberculosis  a rdf:Property, qb:MeasureProperty;\n",
      "    rdfs:label \"Incidence of tuberculosis\"@en;\n",
      "    rdfs:subPropertyOf sdmx-measure:obsValue;\n",
      "    rdfs:range xsd:decimal ;\n",
      "    .\n",
      "    \n",
      "\n",
      "c19-measure:hivInfections  a rdf:Property, qb:MeasureProperty;\n",
      "    rdfs:label \"HIV infections\"@en;\n",
      "    rdfs:subPropertyOf sdmx-measure:obsValue;\n",
      "    rdfs:range xsd:decimal ;\n",
      "    .\n",
      "    \n",
      "\n",
      "c19-measure:mortalityRate  a rdf:Property, qb:MeasureProperty;\n",
      "    rdfs:label \"Mortality rate\"@en;\n",
      "    rdfs:subPropertyOf sdmx-measure:obsValue;\n",
      "    rdfs:range xsd:decimal ;\n",
      "    .\n",
      "    \n",
      "\n",
      "c19-measure:maternalMortalityRatio  a rdf:Property, qb:MeasureProperty;\n",
      "    rdfs:label \"Maternal mortality ratio\"@en;\n",
      "    rdfs:subPropertyOf sdmx-measure:obsValue;\n",
      "    rdfs:range xsd:decimal ;\n",
      "    .\n",
      "    \n",
      "\n",
      "c19-measure:prevalenceStuntingHeight  a rdf:Property, qb:MeasureProperty;\n",
      "    rdfs:label \"prevalence stunting height age\"@en;\n",
      "    rdfs:subPropertyOf sdmx-measure:obsValue;\n",
      "    rdfs:range xsd:decimal ;\n",
      "    .\n",
      "    \n",
      "\n",
      "c19-dimension:ageInterval  a rdf:Property, qb:DimensionProperty;\n",
      "    rdfs:label \"age interval\"@en;\n",
      "    rdfs:subPropertyOf sdmx-dimension:ageInterval;\n",
      "    rdfs:range interval:Interval;\n",
      "    qb:concept sdmx-concept:ageInterval ;\n",
      "    .\n",
      "\n",
      "c19-dimension:percentileInterval  a rdf:Property, qb:DimensionProperty;\n",
      "    rdfs:label \"Percentile Inverval\"@en;\n",
      "    rdfs:subPropertyOf sdmx-dimension:percentileInterval;\n",
      "    qb:concept sdmx-concept:percentileInterval ;\n",
      "    .\n",
      "\n",
      "c19-measure:shareIncome  a rdf:Property, qb:MeasureProperty;\n",
      "    rdfs:label \"Income share\"@en;\n",
      "    rdfs:subPropertyOf sdmx-measure:obsValue;\n",
      "    rdfs:range xsd:decimal ;\n",
      "    .\n",
      "    \n",
      "\n",
      "c19-measure:grossDomesticProduct  a rdf:Property, qb:MeasureProperty;\n",
      "    rdfs:label \"GDP growth per capita\"@en;\n",
      "    rdfs:subPropertyOf sdmx-measure:obsValue;\n",
      "    rdfs:range xsd:decimal ;\n",
      "    .\n",
      "    \n",
      "\n",
      "c19-measure:grossDomesticProduct  a rdf:Property, qb:MeasureProperty;\n",
      "    rdfs:label \"GDP growth\"@en;\n",
      "    rdfs:subPropertyOf sdmx-measure:obsValue;\n",
      "    rdfs:range xsd:decimal ;\n",
      "    .\n",
      "    \n",
      "\n",
      "c19-measure:grossNationalIncomePPPPeCapita  a rdf:Property, qb:MeasureProperty;\n",
      "    rdfs:label \"Gross national income by purchasing power parity per capita\"@en;\n",
      "    rdfs:subPropertyOf sdmx-measure:obsValue;\n",
      "    rdfs:range xsd:decimal ;\n",
      "    .\n",
      "    \n",
      "\n",
      "c19-measure:grossNationalIncomePPP  a rdf:Property, qb:MeasureProperty;\n",
      "    rdfs:label \"Gross national income by purchasing power parity\"@en;\n",
      "    rdfs:subPropertyOf sdmx-measure:obsValue;\n",
      "    rdfs:range xsd:decimal ;\n",
      "    .\n",
      "    \n",
      "\n",
      "c19-measure:grossNationalIncomePerCapita  a rdf:Property, qb:MeasureProperty;\n",
      "    rdfs:label \"Gross national income per capita\"@en;\n",
      "    rdfs:subPropertyOf sdmx-measure:obsValue;\n",
      "    rdfs:range xsd:decimal ;\n",
      "    .\n",
      "    \n",
      "\n",
      "c19-measure:grossNationalIncome  a rdf:Property, qb:MeasureProperty;\n",
      "    rdfs:label \"Gross national income\"@en;\n",
      "    rdfs:subPropertyOf sdmx-measure:obsValue;\n",
      "    rdfs:range xsd:decimal ;\n",
      "    .\n",
      "    \n",
      "\n",
      "c19-measure:populationDensity  a rdf:Property, qb:MeasureProperty;\n",
      "    rdfs:label \"population density\"@en;\n",
      "    rdfs:subPropertyOf sdmx-measure:obsValue;\n",
      "    rdfs:range xsd:decimal ;\n",
      "    .\n",
      "    \n",
      "\n",
      "c19-measure:surfaceArea  a rdf:Property, qb:MeasureProperty;\n",
      "    rdfs:label \"surface area\"@en;\n",
      "    rdfs:subPropertyOf sdmx-measure:obsValue;\n",
      "    rdfs:range xsd:decimal ;\n",
      "    .\n",
      "    \n",
      "\n",
      "c19-measure:population  a rdf:Property, qb:MeasureProperty;\n",
      "    rdfs:label \"population\"@en;\n",
      "    rdfs:subPropertyOf sdmx-measure:obsValue;\n",
      "    rdfs:range xsd:decimal ;\n",
      "    .\n",
      "    \n",
      "\n",
      "c19-dimension:refPeriod  a rdf:Property, qb:DimensionProperty;\n",
      "    rdfs:label \"reference period\"@en;\n",
      "    rdfs:subPropertyOf sdmx-dimension:refPeriod;\n",
      "    rdfs:range interval:Interval;\n",
      "    qb:concept sdmx-concept:refPeriod ;\n",
      "    .\n",
      "    \n",
      "\n",
      "c19-dimension:refArea  a rdf:Property, qb:DimensionProperty;\n",
      "    rdfs:label \"reference area\"@en;\n",
      "    rdfs:subPropertyOf sdmx-dimension:refArea;\n",
      "    qb:concept sdmx-concept:refArea ;\n",
      "    .\n",
      "\n"
     ]
    }
   ],
   "source": [
    "line_prepender(path_ttl + \"dimension_measure.ttl\", salaryWorkers)\n",
    "\n",
    "file1 = open(path_ttl + \"dimension_measure.ttl\",\"r+\")  \n",
    "  \n",
    "print(\"Output of Read function is \")\n",
    "print(file1.read())\n"
   ]
  },
  {
   "cell_type": "markdown",
   "metadata": {},
   "source": [
    "# Add info dataset to ttl\n"
   ]
  },
  {
   "cell_type": "code",
   "execution_count": 510,
   "metadata": {
    "scrolled": true
   },
   "outputs": [
    {
     "output_type": "execute_result",
     "data": {
      "text/plain": [
       "['c19:dataset-FIFAwomen a qb:Dataset;\\n',\n",
       " '    dct:title       \"FIFA World Ranking: Women\"@en;\\n',\n",
       " '    rdfs:label      \"fifa_women\"@en;\\n',\n",
       " '    rdfs:comment    \"FIFA: https://www.fifa.com/fifa-world-ranking/ranking-table/women/\"@en;\\n',\n",
       " '    dct:description \"\"@en;\\n',\n",
       " '    dct:publisher   wd:Q253414;\\n',\n",
       " '    dct:issued      \"2020-07-10\"^^xsd:date;\\n',\n",
       " '    dct:source      <https://www.fifa.com/fifa-world-ranking/ranking-table/women/> ;\\n',\n",
       " '    qb:structure      c19-structure:dsd-sportTournament ; \\n',\n",
       " '.\\n',\n",
       " '\\n']"
      ]
     },
     "metadata": {},
     "execution_count": 510
    }
   ],
   "source": [
    "DATASET"
   ]
  },
  {
   "cell_type": "code",
   "execution_count": 511,
   "metadata": {},
   "outputs": [],
   "source": [
    "add_list(path_ttl + 'observations/' + file + '.ttl', DATASET)"
   ]
  },
  {
   "cell_type": "code",
   "execution_count": 512,
   "metadata": {
    "tags": [
     "outputPrepend"
    ]
   },
   "outputs": [
    {
     "output_type": "stream",
     "name": "stdout",
     "text": [
      "      c19-dimension:refArea    wd:Q664 .\n\nc19:FIFAwomen-o0104\n        rdf:type                 qb:Observation ;\n        qb:dataSet               c19:dataset-FIFAwomen ;\n        c19-dimension:refPeriod  c19-interval:Year2020 ;\n        sdmx-dimension:sex       sdmx-dimension:sex-F ;\n        c19-measure:points       1116.0 ;\n        sdmx-attribute:decimals  1 ;\n        c19-dimension:refArea    wd:Q811 .\n\nc19:FIFAwomen-o0105\n        rdf:type                 qb:Observation ;\n        qb:dataSet               c19:dataset-FIFAwomen ;\n        c19-dimension:refPeriod  c19-interval:Year2020 ;\n        sdmx-dimension:sex       sdmx-dimension:sex-F ;\n        c19-measure:points       1614.0 ;\n        sdmx-attribute:decimals  1 ;\n        c19-dimension:refArea    wd:Q1033 .\n\nc19:FIFAwomen-o0106\n        rdf:type                 qb:Observation ;\n        qb:dataSet               c19:dataset-FIFAwomen ;\n        c19-dimension:refPeriod  c19-interval:Year2020 ;\n        sdmx-dimension:sex       sdmx-dimension:sex-F ;\n        c19-measure:points       1072.0 ;\n        sdmx-attribute:decimals  1 ;\n        c19-dimension:refArea    wd:Q221 .\n\nc19:FIFAwomen-o0107\n        rdf:type                 qb:Observation ;\n        qb:dataSet               c19:dataset-FIFAwomen ;\n        c19-dimension:refPeriod  c19-interval:Year2020 ;\n        sdmx-dimension:sex       sdmx-dimension:sex-F ;\n        c19-measure:points       1432.0 ;\n        sdmx-attribute:decimals  1 ;\n        c19-dimension:refArea    wd:Q26 .\n\nc19:FIFAwomen-o0108\n        rdf:type                 qb:Observation ;\n        qb:dataSet               c19:dataset-FIFAwomen ;\n        c19-dimension:refPeriod  c19-interval:Year2020 ;\n        sdmx-dimension:sex       sdmx-dimension:sex-F ;\n        c19-measure:points       1930.0 ;\n        sdmx-attribute:decimals  1 ;\n        c19-dimension:refArea    wd:Q20 .\n\nc19:FIFAwomen-o0109\n        rdf:type                 qb:Observation ;\n        qb:dataSet               c19:dataset-FIFAwomen ;\n        c19-dimension:refPeriod  c19-interval:Year2020 ;\n        sdmx-dimension:sex       sdmx-dimension:sex-F ;\n        c19-measure:points       1131.0 ;\n        sdmx-attribute:decimals  1 ;\n        c19-dimension:refArea    wd:Q219060 .\n\nc19:FIFAwomen-o0110\n        rdf:type                 qb:Observation ;\n        qb:dataSet               c19:dataset-FIFAwomen ;\n        c19-dimension:refPeriod  c19-interval:Year2020 ;\n        sdmx-dimension:sex       sdmx-dimension:sex-F ;\n        c19-measure:points       1401.0 ;\n        sdmx-attribute:decimals  1 ;\n        c19-dimension:refArea    wd:Q804 .\n\nc19:FIFAwomen-o0111\n        rdf:type                 qb:Observation ;\n        qb:dataSet               c19:dataset-FIFAwomen ;\n        c19-dimension:refPeriod  c19-interval:Year2020 ;\n        sdmx-dimension:sex       sdmx-dimension:sex-F ;\n        c19-measure:points       1504.0 ;\n        sdmx-attribute:decimals  1 ;\n        c19-dimension:refArea    wd:Q691 .\n\nc19:FIFAwomen-o0112\n        rdf:type                 qb:Observation ;\n        qb:dataSet               c19:dataset-FIFAwomen ;\n        c19-dimension:refPeriod  c19-interval:Year2020 ;\n        sdmx-dimension:sex       sdmx-dimension:sex-F ;\n        c19-measure:points       1490.0 ;\n        sdmx-attribute:decimals  1 ;\n        c19-dimension:refArea    wd:Q733 .\n\nc19:FIFAwomen-o0113\n        rdf:type                 qb:Observation ;\n        qb:dataSet               c19:dataset-FIFAwomen ;\n        c19-dimension:refPeriod  c19-interval:Year2020 ;\n        sdmx-dimension:sex       sdmx-dimension:sex-F ;\n        c19-measure:points       1376.0 ;\n        sdmx-attribute:decimals  1 ;\n        c19-dimension:refArea    wd:Q419 .\n\nc19:FIFAwomen-o0114\n        rdf:type                 qb:Observation ;\n        qb:dataSet               c19:dataset-FIFAwomen ;\n        c19-dimension:refPeriod  c19-interval:Year2020 ;\n        sdmx-dimension:sex       sdmx-dimension:sex-F ;\n        c19-measure:points       1369.0 ;\n        sdmx-attribute:decimals  1 ;\n        c19-dimension:refArea    wd:Q928 .\n\nc19:FIFAwomen-o0115\n        rdf:type                 qb:Observation ;\n        qb:dataSet               c19:dataset-FIFAwomen ;\n        c19-dimension:refPeriod  c19-interval:Year2020 ;\n        sdmx-dimension:sex       sdmx-dimension:sex-F ;\n        c19-measure:points       1683.0 ;\n        sdmx-attribute:decimals  1 ;\n        c19-dimension:refArea    wd:Q36 .\n\nc19:FIFAwomen-o0116\n        rdf:type                 qb:Observation ;\n        qb:dataSet               c19:dataset-FIFAwomen ;\n        c19-dimension:refPeriod  c19-interval:Year2020 ;\n        sdmx-dimension:sex       sdmx-dimension:sex-F ;\n        c19-measure:points       1659.0 ;\n        sdmx-attribute:decimals  1 ;\n        c19-dimension:refArea    wd:Q45 .\n\nc19:FIFAwomen-o0117\n        rdf:type                 qb:Observation ;\n        qb:dataSet               c19:dataset-FIFAwomen ;\n        c19-dimension:refPeriod  c19-interval:Year2020 ;\n        sdmx-dimension:sex       sdmx-dimension:sex-F ;\n        c19-measure:points       1172.0 ;\n        sdmx-attribute:decimals  1 ;\n        c19-dimension:refArea    wd:Q1183 .\n\nc19:FIFAwomen-o0118\n        rdf:type                 qb:Observation ;\n        qb:dataSet               c19:dataset-FIFAwomen ;\n        c19-dimension:refPeriod  c19-interval:Year2020 ;\n        sdmx-dimension:sex       sdmx-dimension:sex-F ;\n        c19-measure:points       1666.0 ;\n        sdmx-attribute:decimals  1 ;\n        c19-dimension:refArea    wd:Q27 .\n\nc19:FIFAwomen-o0119\n        rdf:type                 qb:Observation ;\n        qb:dataSet               c19:dataset-FIFAwomen ;\n        c19-dimension:refPeriod  c19-interval:Year2020 ;\n        sdmx-dimension:sex       sdmx-dimension:sex-F ;\n        c19-measure:points       1535.0 ;\n        sdmx-attribute:decimals  1 ;\n        c19-dimension:refArea    wd:Q218 .\n\nc19:FIFAwomen-o0120\n        rdf:type                 qb:Observation ;\n        qb:dataSet               c19:dataset-FIFAwomen ;\n        c19-dimension:refPeriod  c19-interval:Year2020 ;\n        sdmx-dimension:sex       sdmx-dimension:sex-F ;\n        c19-measure:points       1708.0 ;\n        sdmx-attribute:decimals  1 ;\n        c19-dimension:refArea    wd:Q159 .\n\nc19:FIFAwomen-o0121\n        rdf:type                 qb:Observation ;\n        qb:dataSet               c19:dataset-FIFAwomen ;\n        c19-dimension:refPeriod  c19-interval:Year2020 ;\n        sdmx-dimension:sex       sdmx-dimension:sex-F ;\n        c19-measure:points       899.0 ;\n        sdmx-attribute:decimals  1 ;\n        c19-dimension:refArea    wd:Q1037 .\n\nc19:FIFAwomen-o0122\n        rdf:type                 qb:Observation ;\n        qb:dataSet               c19:dataset-FIFAwomen ;\n        c19-dimension:refPeriod  c19-interval:Year2020 ;\n        sdmx-dimension:sex       sdmx-dimension:sex-F ;\n        c19-measure:points       1169.0 ;\n        sdmx-attribute:decimals  1 ;\n        c19-dimension:refArea    wd:Q683 .\n\nc19:FIFAwomen-o0123\n        rdf:type                 qb:Observation ;\n        qb:dataSet               c19:dataset-FIFAwomen ;\n        c19-dimension:refPeriod  c19-interval:Year2020 ;\n        sdmx-dimension:sex       sdmx-dimension:sex-F ;\n        c19-measure:points       1804.0 ;\n        sdmx-attribute:decimals  1 ;\n        c19-dimension:refArea    wd:Q22 .\n\nc19:FIFAwomen-o0124\n        rdf:type                 qb:Observation ;\n        qb:dataSet               c19:dataset-FIFAwomen ;\n        c19-dimension:refPeriod  c19-interval:Year2020 ;\n        sdmx-dimension:sex       sdmx-dimension:sex-F ;\n        c19-measure:points       1247.0 ;\n        sdmx-attribute:decimals  1 ;\n        c19-dimension:refArea    wd:Q1041 .\n\nc19:FIFAwomen-o0125\n        rdf:type                 qb:Observation ;\n        qb:dataSet               c19:dataset-FIFAwomen ;\n        c19-dimension:refPeriod  c19-interval:Year2020 ;\n        sdmx-dimension:sex       sdmx-dimension:sex-F ;\n        c19-measure:points       1558.0 ;\n        sdmx-attribute:decimals  1 ;\n        c19-dimension:refArea    wd:Q403 .\n\nc19:FIFAwomen-o0126\n        rdf:type                 qb:Observation ;\n        qb:dataSet               c19:dataset-FIFAwomen ;\n        c19-dimension:refPeriod  c19-interval:Year2020 ;\n        sdmx-dimension:sex       sdmx-dimension:sex-F ;\n        c19-measure:points       1089.0 ;\n        sdmx-attribute:decimals  1 ;\n        c19-dimension:refArea    wd:Q334 .\n\nc19:FIFAwomen-o0127\n        rdf:type                 qb:Observation ;\n        qb:dataSet               c19:dataset-FIFAwomen ;\n        c19-dimension:refPeriod  c19-interval:Year2020 ;\n        sdmx-dimension:sex       sdmx-dimension:sex-F ;\n        c19-measure:points       1501.0 ;\n        sdmx-attribute:decimals  1 ;\n        c19-dimension:refArea    wd:Q214 .\n\nc19:FIFAwomen-o0128\n        rdf:type                 qb:Observation ;\n        qb:dataSet               c19:dataset-FIFAwomen ;\n        c19-dimension:refPeriod  c19-interval:Year2020 ;\n        sdmx-dimension:sex       sdmx-dimension:sex-F ;\n        c19-measure:points       1471.0 ;\n        sdmx-attribute:decimals  1 ;\n        c19-dimension:refArea    wd:Q215 .\n\nc19:FIFAwomen-o0129\n        rdf:type                 qb:Observation ;\n        qb:dataSet               c19:dataset-FIFAwomen ;\n        c19-dimension:refPeriod  c19-interval:Year2020 ;\n        sdmx-dimension:sex       sdmx-dimension:sex-F ;\n        c19-measure:points       1140.0 ;\n        sdmx-attribute:decimals  1 ;\n        c19-dimension:refArea    wd:Q685 .\n\nc19:FIFAwomen-o0130\n        rdf:type                 qb:Observation ;\n        qb:dataSet               c19:dataset-FIFAwomen ;\n        c19-dimension:refPeriod  c19-interval:Year2020 ;\n        sdmx-dimension:sex       sdmx-dimension:sex-F ;\n        c19-measure:points       1434.0 ;\n        sdmx-attribute:decimals  1 ;\n        c19-dimension:refArea    wd:Q258 .\n\nc19:FIFAwomen-o0131\n        rdf:type                 qb:Observation ;\n        qb:dataSet               c19:dataset-FIFAwomen ;\n        c19-dimension:refPeriod  c19-interval:Year2020 ;\n        sdmx-dimension:sex       sdmx-dimension:sex-F ;\n        c19-measure:points       1915.0 ;\n        sdmx-attribute:decimals  1 ;\n        c19-dimension:refArea    wd:Q29 .\n\nc19:FIFAwomen-o0132\n        rdf:type                 qb:Observation ;\n        qb:dataSet               c19:dataset-FIFAwomen ;\n        c19-dimension:refPeriod  c19-interval:Year2020 ;\n        sdmx-dimension:sex       sdmx-dimension:sex-F ;\n        c19-measure:points       968.0 ;\n        sdmx-attribute:decimals  1 ;\n        c19-dimension:refArea    wd:Q854 .\n\nc19:FIFAwomen-o0133\n        rdf:type                 qb:Observation ;\n        qb:dataSet               c19:dataset-FIFAwomen ;\n        c19-dimension:refPeriod  c19-interval:Year2020 ;\n        sdmx-dimension:sex       sdmx-dimension:sex-F ;\n        c19-measure:points       1050.0 ;\n        sdmx-attribute:decimals  1 ;\n        c19-dimension:refArea    wd:Q763 .\n\nc19:FIFAwomen-o0134\n        rdf:type                 qb:Observation ;\n        qb:dataSet               c19:dataset-FIFAwomen ;\n        c19-dimension:refPeriod  c19-interval:Year2020 ;\n        sdmx-dimension:sex       sdmx-dimension:sex-F ;\n        c19-measure:points       982.0 ;\n        sdmx-attribute:decimals  1 ;\n        c19-dimension:refArea    wd:Q760 .\n\nc19:FIFAwomen-o0135\n        rdf:type                 qb:Observation ;\n        qb:dataSet               c19:dataset-FIFAwomen ;\n        c19-dimension:refPeriod  c19-interval:Year2020 ;\n        sdmx-dimension:sex       sdmx-dimension:sex-F ;\n        c19-measure:points       1093.0 ;\n        sdmx-attribute:decimals  1 ;\n        c19-dimension:refArea    wd:Q730 .\n\nc19:FIFAwomen-o0136\n        rdf:type                 qb:Observation ;\n        qb:dataSet               c19:dataset-FIFAwomen ;\n        c19-dimension:refPeriod  c19-interval:Year2020 ;\n        sdmx-dimension:sex       sdmx-dimension:sex-F ;\n        c19-measure:points       2007.0 ;\n        sdmx-attribute:decimals  1 ;\n        c19-dimension:refArea    wd:Q34 .\n\nc19:FIFAwomen-o0137\n        rdf:type                 qb:Observation ;\n        qb:dataSet               c19:dataset-FIFAwomen ;\n        c19-dimension:refPeriod  c19-interval:Year2020 ;\n        sdmx-dimension:sex       sdmx-dimension:sex-F ;\n        c19-measure:points       1815.0 ;\n        sdmx-attribute:decimals  1 ;\n        c19-dimension:refArea    wd:Q39 .\n\nc19:FIFAwomen-o0138\n        rdf:type                 qb:Observation ;\n        qb:dataSet               c19:dataset-FIFAwomen ;\n        c19-dimension:refPeriod  c19-interval:Year2020 ;\n        sdmx-dimension:sex       sdmx-dimension:sex-F ;\n        c19-measure:points       1196.0 ;\n        sdmx-attribute:decimals  1 ;\n        c19-dimension:refArea    wd:Q42000 .\n\nc19:FIFAwomen-o0139\n        rdf:type                 qb:Observation ;\n        qb:dataSet               c19:dataset-FIFAwomen ;\n        c19-dimension:refPeriod  c19-interval:Year2020 ;\n        sdmx-dimension:sex       sdmx-dimension:sex-F ;\n        c19-measure:points       1035.0 ;\n        sdmx-attribute:decimals  1 ;\n        c19-dimension:refArea    wd:Q863 .\n\nc19:FIFAwomen-o0140\n        rdf:type                 qb:Observation ;\n        qb:dataSet               c19:dataset-FIFAwomen ;\n        c19-dimension:refPeriod  c19-interval:Year2020 ;\n        sdmx-dimension:sex       sdmx-dimension:sex-F ;\n        c19-measure:points       978.0 ;\n        sdmx-attribute:decimals  1 ;\n        c19-dimension:refArea    wd:Q924 .\n\nc19:FIFAwomen-o0141\n        rdf:type                 qb:Observation ;\n        qb:dataSet               c19:dataset-FIFAwomen ;\n        c19-dimension:refPeriod  c19-interval:Year2020 ;\n        sdmx-dimension:sex       sdmx-dimension:sex-F ;\n        c19-measure:points       1596.0 ;\n        sdmx-attribute:decimals  1 ;\n        c19-dimension:refArea    wd:Q869 .\n\nc19:FIFAwomen-o0142\n        rdf:type                 qb:Observation ;\n        qb:dataSet               c19:dataset-FIFAwomen ;\n        c19-dimension:refPeriod  c19-interval:Year2020 ;\n        sdmx-dimension:sex       sdmx-dimension:sex-F ;\n        c19-measure:points       1240.0 ;\n        sdmx-attribute:decimals  1 ;\n        c19-dimension:refArea    wd:Q678 .\n\nc19:FIFAwomen-o0143\n        rdf:type                 qb:Observation ;\n        qb:dataSet               c19:dataset-FIFAwomen ;\n        c19-dimension:refPeriod  c19-interval:Year2020 ;\n        sdmx-dimension:sex       sdmx-dimension:sex-F ;\n        c19-measure:points       1354.0 ;\n        sdmx-attribute:decimals  1 ;\n        c19-dimension:refArea    wd:Q754 .\n\nc19:FIFAwomen-o0144\n        rdf:type                 qb:Observation ;\n        qb:dataSet               c19:dataset-FIFAwomen ;\n        c19-dimension:refPeriod  c19-interval:Year2020 ;\n        sdmx-dimension:sex       sdmx-dimension:sex-F ;\n        c19-measure:points       1304.0 ;\n        sdmx-attribute:decimals  1 ;\n        c19-dimension:refArea    wd:Q948 .\n\nc19:FIFAwomen-o0145\n        rdf:type                 qb:Observation ;\n        qb:dataSet               c19:dataset-FIFAwomen ;\n        c19-dimension:refPeriod  c19-interval:Year2020 ;\n        sdmx-dimension:sex       sdmx-dimension:sex-F ;\n        c19-measure:points       1365.0 ;\n        sdmx-attribute:decimals  1 ;\n        c19-dimension:refArea    wd:Q43 .\n\nc19:FIFAwomen-o0146\n        rdf:type                 qb:Observation ;\n        qb:dataSet               c19:dataset-FIFAwomen ;\n        c19-dimension:refPeriod  c19-interval:Year2020 ;\n        sdmx-dimension:sex       sdmx-dimension:sex-F ;\n        c19-measure:points       868.0 ;\n        sdmx-attribute:decimals  1 ;\n        c19-dimension:refArea    wd:Q1036 .\n\nc19:FIFAwomen-o0147\n        rdf:type                 qb:Observation ;\n        qb:dataSet               c19:dataset-FIFAwomen ;\n        c19-dimension:refPeriod  c19-interval:Year2020 ;\n        sdmx-dimension:sex       sdmx-dimension:sex-F ;\n        c19-measure:points       1692.0 ;\n        sdmx-attribute:decimals  1 ;\n        c19-dimension:refArea    wd:Q212 .\n\nc19:FIFAwomen-o0148\n        rdf:type                 qb:Observation ;\n        qb:dataSet               c19:dataset-FIFAwomen ;\n        c19-dimension:refPeriod  c19-interval:Year2020 ;\n        sdmx-dimension:sex       sdmx-dimension:sex-F ;\n        c19-measure:points       1201.0 ;\n        sdmx-attribute:decimals  1 ;\n        c19-dimension:refArea    wd:Q878 .\n\nc19:FIFAwomen-o0149\n        rdf:type                 qb:Observation ;\n        qb:dataSet               c19:dataset-FIFAwomen ;\n        c19-dimension:refPeriod  c19-interval:Year2020 ;\n        sdmx-dimension:sex       sdmx-dimension:sex-F ;\n        c19-measure:points       1346.0 ;\n        sdmx-attribute:decimals  1 ;\n        c19-dimension:refArea    wd:Q77 .\n\nc19:FIFAwomen-o0150\n        rdf:type                 qb:Observation ;\n        qb:dataSet               c19:dataset-FIFAwomen ;\n        c19-dimension:refPeriod  c19-interval:Year2020 ;\n        sdmx-dimension:sex       sdmx-dimension:sex-F ;\n        c19-measure:points       843.0 ;\n        sdmx-attribute:decimals  1 ;\n        c19-dimension:refArea    wd:Q11703 .\n\nc19:FIFAwomen-o0151\n        rdf:type                 qb:Observation ;\n        qb:dataSet               c19:dataset-FIFAwomen ;\n        c19-dimension:refPeriod  c19-interval:Year2020 ;\n        sdmx-dimension:sex       sdmx-dimension:sex-F ;\n        c19-measure:points       2181.0 ;\n        sdmx-attribute:decimals  1 ;\n        c19-dimension:refArea    wd:Q30 .\n\nc19:FIFAwomen-o0152\n        rdf:type                 qb:Observation ;\n        qb:dataSet               c19:dataset-FIFAwomen ;\n        c19-dimension:refPeriod  c19-interval:Year2020 ;\n        sdmx-dimension:sex       sdmx-dimension:sex-F ;\n        c19-measure:points       1543.0 ;\n        sdmx-attribute:decimals  1 ;\n        c19-dimension:refArea    wd:Q265 .\n\nc19:FIFAwomen-o0153\n        rdf:type                 qb:Observation ;\n        qb:dataSet               c19:dataset-FIFAwomen ;\n        c19-dimension:refPeriod  c19-interval:Year2020 ;\n        sdmx-dimension:sex       sdmx-dimension:sex-F ;\n        c19-measure:points       1131.0 ;\n        sdmx-attribute:decimals  1 ;\n        c19-dimension:refArea    wd:Q686 .\n\nc19:FIFAwomen-o0154\n        rdf:type                 qb:Observation ;\n        qb:dataSet               c19:dataset-FIFAwomen ;\n        c19-dimension:refPeriod  c19-interval:Year2020 ;\n        sdmx-dimension:sex       sdmx-dimension:sex-F ;\n        c19-measure:points       1425.0 ;\n        sdmx-attribute:decimals  1 ;\n        c19-dimension:refArea    wd:Q717 .\n\nc19:FIFAwomen-o0155\n        rdf:type                 qb:Observation ;\n        qb:dataSet               c19:dataset-FIFAwomen ;\n        c19-dimension:refPeriod  c19-interval:Year2020 ;\n        sdmx-dimension:sex       sdmx-dimension:sex-F ;\n        c19-measure:points       1657.0 ;\n        sdmx-attribute:decimals  1 ;\n        c19-dimension:refArea    wd:Q881 .\n\nc19:FIFAwomen-o0156\n        rdf:type                 qb:Observation ;\n        qb:dataSet               c19:dataset-FIFAwomen ;\n        c19-dimension:refPeriod  c19-interval:Year2020 ;\n        sdmx-dimension:sex       sdmx-dimension:sex-F ;\n        c19-measure:points       1658.0 ;\n        sdmx-attribute:decimals  1 ;\n        c19-dimension:refArea    wd:Q25 .\n\nc19:FIFAwomen-o0157\n        rdf:type                 qb:Observation ;\n        qb:dataSet               c19:dataset-FIFAwomen ;\n        c19-dimension:refPeriod  c19-interval:Year2020 ;\n        sdmx-dimension:sex       sdmx-dimension:sex-F ;\n        c19-measure:points       1198.0 ;\n        sdmx-attribute:decimals  1 ;\n        c19-dimension:refArea    wd:Q953 .\n\nc19:FIFAwomen-o0158\n        rdf:type                 qb:Observation ;\n        qb:dataSet               c19:dataset-FIFAwomen ;\n        c19-dimension:refPeriod  c19-interval:Year2020 ;\n        sdmx-dimension:sex       sdmx-dimension:sex-F ;\n        c19-measure:points       1151.0 ;\n        sdmx-attribute:decimals  1 ;\n        c19-dimension:refArea    wd:Q954 .\n\n"
     ]
    }
   ],
   "source": [
    "file1 = open(path_ttl + 'observations/' + file + '.ttl',\"r+\")  \n",
    "  \n",
    "print(\"Output of Read function is \")\n",
    "print(file1.read())\n"
   ]
  },
  {
   "cell_type": "code",
   "execution_count": null,
   "metadata": {},
   "outputs": [],
   "source": []
  },
  {
   "cell_type": "code",
   "execution_count": null,
   "metadata": {},
   "outputs": [],
   "source": []
  },
  {
   "cell_type": "code",
   "execution_count": null,
   "metadata": {},
   "outputs": [],
   "source": []
  },
  {
   "cell_type": "code",
   "execution_count": null,
   "metadata": {},
   "outputs": [],
   "source": []
  },
  {
   "cell_type": "code",
   "execution_count": null,
   "metadata": {},
   "outputs": [],
   "source": []
  },
  {
   "cell_type": "code",
   "execution_count": null,
   "metadata": {},
   "outputs": [],
   "source": []
  },
  {
   "cell_type": "code",
   "execution_count": null,
   "metadata": {},
   "outputs": [],
   "source": []
  },
  {
   "cell_type": "code",
   "execution_count": null,
   "metadata": {},
   "outputs": [],
   "source": []
  },
  {
   "cell_type": "code",
   "execution_count": null,
   "metadata": {},
   "outputs": [],
   "source": []
  },
  {
   "cell_type": "code",
   "execution_count": null,
   "metadata": {},
   "outputs": [],
   "source": []
  },
  {
   "cell_type": "code",
   "execution_count": null,
   "metadata": {},
   "outputs": [],
   "source": []
  },
  {
   "cell_type": "code",
   "execution_count": null,
   "metadata": {},
   "outputs": [],
   "source": []
  },
  {
   "cell_type": "code",
   "execution_count": null,
   "metadata": {},
   "outputs": [],
   "source": []
  },
  {
   "cell_type": "code",
   "execution_count": null,
   "metadata": {},
   "outputs": [],
   "source": []
  },
  {
   "cell_type": "code",
   "execution_count": null,
   "metadata": {},
   "outputs": [],
   "source": []
  },
  {
   "cell_type": "code",
   "execution_count": null,
   "metadata": {},
   "outputs": [],
   "source": []
  },
  {
   "cell_type": "code",
   "execution_count": null,
   "metadata": {},
   "outputs": [],
   "source": []
  },
  {
   "cell_type": "code",
   "execution_count": null,
   "metadata": {},
   "outputs": [],
   "source": []
  },
  {
   "cell_type": "code",
   "execution_count": null,
   "metadata": {},
   "outputs": [],
   "source": []
  },
  {
   "cell_type": "code",
   "execution_count": null,
   "metadata": {},
   "outputs": [],
   "source": []
  },
  {
   "cell_type": "code",
   "execution_count": null,
   "metadata": {},
   "outputs": [],
   "source": []
  },
  {
   "cell_type": "code",
   "execution_count": null,
   "metadata": {},
   "outputs": [],
   "source": []
  },
  {
   "cell_type": "code",
   "execution_count": 66,
   "metadata": {
    "scrolled": true
   },
   "outputs": [
    {
     "name": "stdout",
     "output_type": "stream",
     "text": [
      "Output of Read function is \n",
      "eg:dataset-terrestrial_protected_areas a qb:Dataset;\n",
      "    dct:title       \"Terrestrial protected areas\"@en;\n",
      "    rdfs:label      \"terrestrial_protected_areas\"@en;\n",
      "    rdfs:comment    \"The World Bank: 3.4 | Deforestation and biodiversity\"@en;\n",
      "    dct:description \"Area percentage of terrestrial protected areas\"@en;\n",
      "    dct:publisher   eg:The World Bank;\n",
      "    dct:issued      \"2020-09-22 00:00:00\"^^xsd:date;\n",
      "    dct:source      <http://wdi.worldbank.org/tables> ;\n",
      "    dct:subject \n",
      "        sdmx-subject:3.1 ;\n",
      ".\n",
      "eg:dataset-terrestrial_protected_areas a qb:Dataset;\n",
      "    dct:title       \"Terrestrial protected areas\"@en;\n",
      "    rdfs:label      \"terrestrial_protected_areas\"@en;\n",
      "    rdfs:comment    \"The World Bank: 3.4 | Deforestation and biodiversity\"@en;\n",
      "    dct:description \"Area percentage of terrestrial protected areas\"@en;\n",
      "    dct:publisher   eg:The World Bank;\n",
      "    dct:issued      \"2020-09-22 00:00:00\"^^xsd:date;\n",
      "    dct:source      <http://wdi.worldbank.org/tables> ;\n",
      "    dct:subject \n",
      "        sdmx-subject:3.1 ;\n",
      ".\n",
      "\n"
     ]
    }
   ],
   "source": [
    "file1 = open(\"myfile.txt\",\"a\") \n",
    "file1.writelines(DATASET) \n",
    "file1.close() #to change file access modes \n",
    "  \n",
    "file1 = open(\"myfile.txt\",\"r+\")  \n",
    "  \n",
    "print(\"Output of Read function is \")\n",
    "print(file1.read())\n"
   ]
  },
  {
   "cell_type": "code",
   "execution_count": null,
   "metadata": {},
   "outputs": [],
   "source": [
    "df = pd.read_csv(path_clean_non_related + file + '.tsv', sep='\\t')\n",
    "df"
   ]
  },
  {
   "cell_type": "markdown",
   "metadata": {},
   "source": [
    "PREFIX ex: <http://ex.org/a#>\n",
    "\n",
    "PREFIX xsd: <http://www.w3.org/2001/XMLSchema#>\n",
    "\n",
    "PREFIX qb: <http://purl.org/linked-data/cube#> \n",
    "\n",
    "PREFIX eg: <http://example.org/ns#>\n",
    "\n",
    "PREFIX eg-measure: <http://example.org/measure#> \n",
    "\n",
    "\n",
    "CONSTRUCT {\n",
    "\n",
    "  ?obs a qb:Observation;\n",
    "  \n",
    "    qb:dataSet  \"dataset-terrestrial_protected_areas\";\n",
    "    \n",
    "    eg:refPeriod \"2017\"^^xsd:gYear ; \n",
    "    \n",
    "    eg-measure:percentage ?percentage;\n",
    "    \n",
    "    eg:refArea ?ID;\n",
    "    \n",
    "} \n",
    "\n",
    "FROM <file:terrestrial_protected_areas.tsv> \n",
    "\n",
    "WHERE {\n",
    "\n",
    "  BIND (URI(CONCAT('http://example.org/dataset-terrestrial_protected_areas-o', ?id_row)) AS ?obs)\n",
    "  \n",
    "  BIND (xsd:decimal(?Areas) AS ?percentage)\n",
    "  \n",
    "}"
   ]
  },
  {
   "cell_type": "code",
   "execution_count": 39,
   "metadata": {},
   "outputs": [
    {
     "name": "stdout",
     "output_type": "stream",
     "text": [
      "Output of Read function is \n",
      "PREFIX ex: <http://ex.org/a#>\n",
      "PREFIX xsd: <http://www.w3.org/2001/XMLSchema#>\n",
      "PREFIX qb: <http://purl.org/linked-data/cube#>\n",
      "PREFIX eg: <http://example.org/ns#>\n",
      "PREFIX eg-measure: <http://example.org/measure#>\n",
      "\n"
     ]
    }
   ],
   "source": [
    "file1 = open(\"myfile.txt\",\"w\") \n",
    "file1.writelines(prefix_list) \n",
    "file1.close() #to change file access modes \n",
    "  \n",
    "file1 = open(\"myfile.txt\",\"r+\")  \n",
    "  \n",
    "print(\"Output of Read function is \")\n",
    "print(file1.read())\n"
   ]
  },
  {
   "cell_type": "code",
   "execution_count": 46,
   "metadata": {},
   "outputs": [
    {
     "name": "stdout",
     "output_type": "stream",
     "text": [
      "Output of Read function is \n",
      "CONSTRUCT { \n",
      "  ?obs a qb:Observation;\n",
      "    qb:dataSet  \"dataset-terrestrial_protected_areas\";\n",
      "    eg:refPeriod \"2017\"^^xsd:gYear ;\n",
      "    eg-measure:percentage ?percentage;\n",
      "    eg:refArea ?ID;\n",
      "}\n"
     ]
    }
   ],
   "source": [
    "file1 = open(\"myfile.txt\",\"w\") \n",
    "file1.writelines(construct) \n",
    "file1.close() #to change file access modes \n",
    "  \n",
    "file1 = open(\"myfile.txt\",\"r+\")  \n",
    "  \n",
    "print(\"Output of Read function is \")\n",
    "print(file1.read())"
   ]
  },
  {
   "cell_type": "code",
   "execution_count": null,
   "metadata": {},
   "outputs": [],
   "source": []
  },
  {
   "cell_type": "code",
   "execution_count": null,
   "metadata": {},
   "outputs": [],
   "source": []
  },
  {
   "cell_type": "code",
   "execution_count": 20,
   "metadata": {},
   "outputs": [
    {
     "data": {
      "text/plain": [
       "'Areas'"
      ]
     },
     "execution_count": 20,
     "metadata": {},
     "output_type": "execute_result"
    }
   ],
   "source": [
    "s = '% Areas'\n",
    "''.join(x for x in s if (x.isalpha() or x.isdigit()) or x=='_')"
   ]
  },
  {
   "cell_type": "code",
   "execution_count": null,
   "metadata": {},
   "outputs": [],
   "source": []
  }
 ],
 "metadata": {
  "kernelspec": {
   "display_name": "Python 3",
   "language": "python",
   "name": "python3"
  },
  "language_info": {
   "codemirror_mode": {
    "name": "ipython",
    "version": 3
   },
   "file_extension": ".py",
   "mimetype": "text/x-python",
   "name": "python",
   "nbconvert_exporter": "python",
   "pygments_lexer": "ipython3",
   "version": "3.7.6-final"
  }
 },
 "nbformat": 4,
 "nbformat_minor": 4
}